{
 "cells": [
  {
   "cell_type": "markdown",
   "metadata": {},
   "source": [
    "# Landscape Learning - Discrete Age Groups Statistical Tests"
   ]
  },
  {
   "cell_type": "code",
   "execution_count": 71,
   "metadata": {
    "ExecuteTime": {
     "end_time": "2021-12-16T22:13:37.370290Z",
     "start_time": "2021-12-16T22:13:37.355288Z"
    }
   },
   "outputs": [],
   "source": [
    "# Dave Hunt\n",
    "# University of Washington\n",
    "# December 16, 2021\n",
    "\n",
    "# This notebook runs regression analysis and statistical tests on the Dlist and Olist ranked lists produced to\n",
    "# test Discoverability of toolstone sources surrounding the Old River Bed delta archaeological sites.\n",
    "\n",
    "#  Discoverability/ \n",
    "#    │\n",
    "#    │\n",
    "#    ├──notebooks/\n",
    "#    │   └── Landscape Learning - D Groups statistical tests.ipynb\n",
    "#    │   │\n",
    "#    │   └── Landscape Learning - C Groups statistical tests.ipynb\n",
    "#    │\n",
    "#    │──shapefiles/\n",
    "#    │\n",
    "#    └──Excel/\n",
    "#\n",
    "# Copyright (c) 2021, David Hunt\n",
    "# All rights reserved.\n",
    "\n",
    "# This source code is licensed under the BSD-style license found in the\n",
    "# LICENSE file in the root directory of this source tree. "
   ]
  },
  {
   "cell_type": "markdown",
   "metadata": {},
   "source": [
    "This notebook is used to perform linear regression on the Discrete Age groups Dlist and Olist data created in the associated Excel spreadsheet. In this notebook, simple linear regression is run on the Dlist and Olist data to ensure \n",
    "its statistical validity.  The results are then used to produce the %LL value for each group.  These %LL values are plotted over time to gauge landscape learning over the time of the Paleoindian occupation of the Old River Bed delta in Utah, USA"
   ]
  },
  {
   "cell_type": "code",
   "execution_count": 2,
   "metadata": {
    "ExecuteTime": {
     "end_time": "2021-12-16T18:44:33.633579Z",
     "start_time": "2021-12-16T18:44:32.132911Z"
    }
   },
   "outputs": [],
   "source": [
    "# included Python libraries\n",
    "import statsmodels.api as sm\n",
    "from statsmodels.compat import lzip\n",
    "import statsmodels.stats.api as sms\n",
    "from statsmodels.formula.api import ols\n",
    "from statsmodels.sandbox.stats.runs import runstest_1samp \n",
    "\n",
    "from matplotlib import pyplot as plt\n",
    "from matplotlib.gridspec import GridSpec\n",
    "from matplotlib.ticker import AutoMinorLocator\n",
    "import matplotlib.ticker as ticker\n",
    "\n",
    "import scipy as scipy\n",
    "from scipy import stats\n",
    "from scipy.stats import shapiro\n",
    "\n",
    "import numpy as np\n",
    "import pandas as pd"
   ]
  },
  {
   "cell_type": "code",
   "execution_count": 3,
   "metadata": {
    "ExecuteTime": {
     "end_time": "2021-12-16T18:44:33.648583Z",
     "start_time": "2021-12-16T18:44:33.634579Z"
    }
   },
   "outputs": [],
   "source": [
    "# function that returns a line with equation mx+b \n",
    "def linear(x, m, b):\n",
    "    return m*x + b"
   ]
  },
  {
   "cell_type": "code",
   "execution_count": 4,
   "metadata": {
    "ExecuteTime": {
     "end_time": "2021-12-16T18:44:33.664586Z",
     "start_time": "2021-12-16T18:44:33.649583Z"
    }
   },
   "outputs": [],
   "source": [
    "# The D group (D1, D2, D3) Dlists (expected rank orders)\n",
    "d1_dlist = np.array([1,15,6,2,5,11,4,13,7,12,16,10,8,9,14,3])\n",
    "d2_dlist = np.array([2,15,6,3,5,11,4,13,7,12,16,9,8,10,14,1])\n",
    "d3_dlist = np.array([1,15,6,3,4,11,5,13,7,12,16,10,8,9,14,2])\n",
    "\n",
    "# The D Group Olists (actual/observed artifact counts)\n",
    "d1_olist = pd.Series([14,0,5,23,6,2,7,0,117,0,3,3,1,0,0,48])\n",
    "d2_olist = pd.Series([0,0,2,11,0,1,1,0,20,0,0,2,1,0,1,32])\n",
    "d3_olist = pd.Series([1,1,2,11,2,0,1,0,38,0,0,3,0,1,1,37])"
   ]
  },
  {
   "cell_type": "code",
   "execution_count": 5,
   "metadata": {
    "ExecuteTime": {
     "end_time": "2021-12-16T18:44:33.840630Z",
     "start_time": "2021-12-16T18:44:33.832629Z"
    }
   },
   "outputs": [],
   "source": [
    "d1_olist_rank = d1_olist.rank(ascending = False)\n",
    "d2_olist_rank = d2_olist.rank(ascending = False)\n",
    "d3_olist_rank = d3_olist.rank(ascending = False)\n",
    "\n",
    "#print(d1_olist_rank)\n",
    "#print(d2_olist_rank)\n",
    "#print(d3_olist_rank)"
   ]
  },
  {
   "cell_type": "code",
   "execution_count": 6,
   "metadata": {
    "ExecuteTime": {
     "end_time": "2021-12-16T18:44:34.283031Z",
     "start_time": "2021-12-16T18:44:34.266027Z"
    }
   },
   "outputs": [
    {
     "name": "stdout",
     "output_type": "stream",
     "text": [
      "D1 Pearson's r:           0.777\n",
      "D1 Pearson's r, p value:  0.0004\n",
      "--------------------------------\n",
      "D2 Pearson's r:           0.502\n",
      "D2 Pearson's r, p value:  0.048\n",
      "--------------------------------\n",
      "D3 Pearson's r:           0.592\n",
      "D3 Pearson's r, p value:  0.016\n"
     ]
    }
   ],
   "source": [
    "# Compare the Dlist and Olist pair for each D group using Pearson's product moment correlation\n",
    "d1_pearson_r, d1_pearson_r_pval = stats.pearsonr(d1_olist_rank, d1_dlist)\n",
    "print(\"D1 Pearson's r:          \", str(round(d1_pearson_r, 3)))\n",
    "print(\"D1 Pearson's r, p value: \", str(round(d1_pearson_r_pval, 4)))\n",
    "print(\"--------------------------------\")\n",
    "d2_pearson_r, d2_pearson_r_pval = stats.pearsonr(d2_olist_rank, d2_dlist)\n",
    "print(\"D2 Pearson's r:          \", str(round(d2_pearson_r, 3)))\n",
    "print(\"D2 Pearson's r, p value: \", str(round(d2_pearson_r_pval, 3)))\n",
    "print(\"--------------------------------\")\n",
    "d3_pearson_r, d3_pearson_r_pval = stats.pearsonr(d3_olist_rank, d3_dlist)\n",
    "print(\"D3 Pearson's r:          \", str(round(d3_pearson_r, 3)))\n",
    "print(\"D3 Pearson's r, p value: \", str(round(d3_pearson_r_pval, 3)))"
   ]
  },
  {
   "cell_type": "code",
   "execution_count": 27,
   "metadata": {
    "ExecuteTime": {
     "end_time": "2021-12-16T18:45:49.870369Z",
     "start_time": "2021-12-16T18:45:49.857698Z"
    }
   },
   "outputs": [
    {
     "name": "stdout",
     "output_type": "stream",
     "text": [
      "D1 Spearman's r:           0.777\n",
      "D1 Spearman's r, p value:  0.0004\n",
      "--------------------------------\n",
      "D2 Spearman's r:           0.502\n",
      "D2 Spearman's r, p value:  0.048\n",
      "--------------------------------\n",
      "D3 Spearman's r:           0.592\n",
      "D3 Spearman's r, p value:  0.016\n"
     ]
    }
   ],
   "source": [
    "# Compare the Dlist and Olist pair for each D group using Spearmans's rank-order correlation\n",
    "d1_spearman_r, d1_spearman_r_pval = stats.spearmanr(d1_olist_rank, d1_dlist)\n",
    "print(\"D1 Spearman's r:          \", str(round(d1_spearman_r, 3)))\n",
    "print(\"D1 Spearman's r, p value: \", str(round(d1_spearman_r_pval, 4)))\n",
    "print(\"--------------------------------\")\n",
    "d2_spearman_r, d2_spearman_r_pval = stats.spearmanr(d2_olist_rank, d2_dlist)\n",
    "print(\"D2 Spearman's r:          \", str(round(d2_spearman_r, 3)))\n",
    "print(\"D2 Spearman's r, p value: \", str(round(d2_spearman_r_pval, 3)))\n",
    "print(\"--------------------------------\")\n",
    "d3_spearman_r, d3_spearman_r_pval = stats.spearmanr(d3_olist_rank, d3_dlist)\n",
    "print(\"D3 Spearman's r:          \", str(round(d3_spearman_r, 3)))\n",
    "print(\"D3 Spearman's r, p value: \", str(round(d3_spearman_r_pval, 3)))"
   ]
  },
  {
   "cell_type": "code",
   "execution_count": 28,
   "metadata": {
    "ExecuteTime": {
     "end_time": "2021-12-16T18:45:57.977709Z",
     "start_time": "2021-12-16T18:45:57.958705Z"
    }
   },
   "outputs": [
    {
     "name": "stdout",
     "output_type": "stream",
     "text": [
      "[1, 15, 6, 2, 5, 11, 4, 13, 7, 12, 16, 10, 8, 9, 14, 3]\n",
      "[4.0, 14.0, 7.0, 3.0, 6.0, 10.0, 5.0, 14.0, 1.0, 14.0, 8.5, 8.5, 11.0, 14.0, 14.0, 2.0]\n"
     ]
    },
    {
     "data": {
      "text/html": [
       "<div>\n",
       "<style scoped>\n",
       "    .dataframe tbody tr th:only-of-type {\n",
       "        vertical-align: middle;\n",
       "    }\n",
       "\n",
       "    .dataframe tbody tr th {\n",
       "        vertical-align: top;\n",
       "    }\n",
       "\n",
       "    .dataframe thead th {\n",
       "        text-align: right;\n",
       "    }\n",
       "</style>\n",
       "<table border=\"1\" class=\"dataframe\">\n",
       "  <thead>\n",
       "    <tr style=\"text-align: right;\">\n",
       "      <th></th>\n",
       "      <th>d1_x</th>\n",
       "      <th>d1_y</th>\n",
       "      <th>d2_x</th>\n",
       "      <th>d2_y</th>\n",
       "      <th>d3_x</th>\n",
       "      <th>d3_y</th>\n",
       "    </tr>\n",
       "  </thead>\n",
       "  <tbody>\n",
       "    <tr>\n",
       "      <th>0</th>\n",
       "      <td>1</td>\n",
       "      <td>4.0</td>\n",
       "      <td>2</td>\n",
       "      <td>13.0</td>\n",
       "      <td>1</td>\n",
       "      <td>9.0</td>\n",
       "    </tr>\n",
       "    <tr>\n",
       "      <th>1</th>\n",
       "      <td>15</td>\n",
       "      <td>14.0</td>\n",
       "      <td>15</td>\n",
       "      <td>13.0</td>\n",
       "      <td>15</td>\n",
       "      <td>9.0</td>\n",
       "    </tr>\n",
       "    <tr>\n",
       "      <th>2</th>\n",
       "      <td>6</td>\n",
       "      <td>7.0</td>\n",
       "      <td>6</td>\n",
       "      <td>4.5</td>\n",
       "      <td>6</td>\n",
       "      <td>5.5</td>\n",
       "    </tr>\n",
       "    <tr>\n",
       "      <th>3</th>\n",
       "      <td>2</td>\n",
       "      <td>3.0</td>\n",
       "      <td>3</td>\n",
       "      <td>3.0</td>\n",
       "      <td>3</td>\n",
       "      <td>3.0</td>\n",
       "    </tr>\n",
       "    <tr>\n",
       "      <th>4</th>\n",
       "      <td>5</td>\n",
       "      <td>6.0</td>\n",
       "      <td>5</td>\n",
       "      <td>13.0</td>\n",
       "      <td>4</td>\n",
       "      <td>5.5</td>\n",
       "    </tr>\n",
       "    <tr>\n",
       "      <th>5</th>\n",
       "      <td>11</td>\n",
       "      <td>10.0</td>\n",
       "      <td>11</td>\n",
       "      <td>7.5</td>\n",
       "      <td>11</td>\n",
       "      <td>14.0</td>\n",
       "    </tr>\n",
       "    <tr>\n",
       "      <th>6</th>\n",
       "      <td>4</td>\n",
       "      <td>5.0</td>\n",
       "      <td>4</td>\n",
       "      <td>7.5</td>\n",
       "      <td>5</td>\n",
       "      <td>9.0</td>\n",
       "    </tr>\n",
       "    <tr>\n",
       "      <th>7</th>\n",
       "      <td>13</td>\n",
       "      <td>14.0</td>\n",
       "      <td>13</td>\n",
       "      <td>13.0</td>\n",
       "      <td>13</td>\n",
       "      <td>14.0</td>\n",
       "    </tr>\n",
       "    <tr>\n",
       "      <th>8</th>\n",
       "      <td>7</td>\n",
       "      <td>1.0</td>\n",
       "      <td>7</td>\n",
       "      <td>2.0</td>\n",
       "      <td>7</td>\n",
       "      <td>1.0</td>\n",
       "    </tr>\n",
       "    <tr>\n",
       "      <th>9</th>\n",
       "      <td>12</td>\n",
       "      <td>14.0</td>\n",
       "      <td>12</td>\n",
       "      <td>13.0</td>\n",
       "      <td>12</td>\n",
       "      <td>14.0</td>\n",
       "    </tr>\n",
       "    <tr>\n",
       "      <th>10</th>\n",
       "      <td>16</td>\n",
       "      <td>8.5</td>\n",
       "      <td>16</td>\n",
       "      <td>13.0</td>\n",
       "      <td>16</td>\n",
       "      <td>14.0</td>\n",
       "    </tr>\n",
       "    <tr>\n",
       "      <th>11</th>\n",
       "      <td>10</td>\n",
       "      <td>8.5</td>\n",
       "      <td>9</td>\n",
       "      <td>4.5</td>\n",
       "      <td>10</td>\n",
       "      <td>4.0</td>\n",
       "    </tr>\n",
       "    <tr>\n",
       "      <th>12</th>\n",
       "      <td>8</td>\n",
       "      <td>11.0</td>\n",
       "      <td>8</td>\n",
       "      <td>7.5</td>\n",
       "      <td>8</td>\n",
       "      <td>14.0</td>\n",
       "    </tr>\n",
       "    <tr>\n",
       "      <th>13</th>\n",
       "      <td>9</td>\n",
       "      <td>14.0</td>\n",
       "      <td>10</td>\n",
       "      <td>13.0</td>\n",
       "      <td>9</td>\n",
       "      <td>9.0</td>\n",
       "    </tr>\n",
       "    <tr>\n",
       "      <th>14</th>\n",
       "      <td>14</td>\n",
       "      <td>14.0</td>\n",
       "      <td>14</td>\n",
       "      <td>7.5</td>\n",
       "      <td>14</td>\n",
       "      <td>9.0</td>\n",
       "    </tr>\n",
       "    <tr>\n",
       "      <th>15</th>\n",
       "      <td>3</td>\n",
       "      <td>2.0</td>\n",
       "      <td>1</td>\n",
       "      <td>1.0</td>\n",
       "      <td>2</td>\n",
       "      <td>2.0</td>\n",
       "    </tr>\n",
       "  </tbody>\n",
       "</table>\n",
       "</div>"
      ],
      "text/plain": [
       "    d1_x  d1_y  d2_x  d2_y  d3_x  d3_y\n",
       "0      1   4.0     2  13.0     1   9.0\n",
       "1     15  14.0    15  13.0    15   9.0\n",
       "2      6   7.0     6   4.5     6   5.5\n",
       "3      2   3.0     3   3.0     3   3.0\n",
       "4      5   6.0     5  13.0     4   5.5\n",
       "5     11  10.0    11   7.5    11  14.0\n",
       "6      4   5.0     4   7.5     5   9.0\n",
       "7     13  14.0    13  13.0    13  14.0\n",
       "8      7   1.0     7   2.0     7   1.0\n",
       "9     12  14.0    12  13.0    12  14.0\n",
       "10    16   8.5    16  13.0    16  14.0\n",
       "11    10   8.5     9   4.5    10   4.0\n",
       "12     8  11.0     8   7.5     8  14.0\n",
       "13     9  14.0    10  13.0     9   9.0\n",
       "14    14  14.0    14   7.5    14   9.0\n",
       "15     3   2.0     1   1.0     2   2.0"
      ]
     },
     "execution_count": 28,
     "metadata": {},
     "output_type": "execute_result"
    }
   ],
   "source": [
    "# Form the lists into a Pandas dataframe\n",
    "\n",
    "d1_dlist = np.array([1,15,6,2,5,11,4,13,7,12,16,10,8,9,14,3]).reshape((-1, 1))\n",
    "d2_dlist = np.array([2,15,6,3,5,11,4,13,7,12,16,9,8,10,14,1]).reshape((-1, 1))\n",
    "d3_dlist = np.array([1,15,6,3,4,11,5,13,7,12,16,10,8,9,14,2]).reshape((-1, 1))\n",
    "\n",
    "d1_x = list(np.concatenate(d1_dlist).flat)\n",
    "d2_x = list(np.concatenate(d2_dlist).flat)\n",
    "d3_x = list(np.concatenate(d3_dlist).flat)\n",
    "print(d1_x)\n",
    "\n",
    "d1_y = d1_olist_rank.tolist()\n",
    "d2_y = d2_olist_rank.tolist()\n",
    "d3_y = d3_olist_rank.tolist()\n",
    "print(d1_y)\n",
    "\n",
    "#create dataset\n",
    "D_df = pd.DataFrame({'d1_x': d1_x,\n",
    "                     'd1_y': d1_y,\n",
    "                     'd2_x': d2_x,\n",
    "                     'd2_y': d2_y,\n",
    "                     'd3_x': d3_x,\n",
    "                     'd3_y': d3_y})\n",
    "#view dataset\n",
    "D_df"
   ]
  },
  {
   "cell_type": "markdown",
   "metadata": {},
   "source": [
    "## Run regression on each group"
   ]
  },
  {
   "cell_type": "code",
   "execution_count": 29,
   "metadata": {
    "ExecuteTime": {
     "end_time": "2021-12-16T18:46:03.632370Z",
     "start_time": "2021-12-16T18:46:03.610363Z"
    },
    "scrolled": false
   },
   "outputs": [
    {
     "name": "stdout",
     "output_type": "stream",
     "text": [
      "                            OLS Regression Results                            \n",
      "==============================================================================\n",
      "Dep. Variable:                   d1_y   R-squared:                       0.603\n",
      "Model:                            OLS   Adj. R-squared:                  0.575\n",
      "Method:                 Least Squares   F-statistic:                     21.30\n",
      "Date:                Thu, 16 Dec 2021   Prob (F-statistic):           0.000401\n",
      "Time:                        10:46:03   Log-Likelihood:                -39.504\n",
      "No. Observations:                  16   AIC:                             83.01\n",
      "Df Residuals:                      14   BIC:                             84.55\n",
      "Df Model:                           1                                         \n",
      "Covariance Type:            nonrobust                                         \n",
      "==============================================================================\n",
      "                 coef    std err          t      P>|t|      [0.025      0.975]\n",
      "------------------------------------------------------------------------------\n",
      "Intercept      2.0000      1.602      1.248      0.232      -1.436       5.436\n",
      "d1_x           0.7647      0.166      4.615      0.000       0.409       1.120\n",
      "==============================================================================\n",
      "Omnibus:                        3.106   Durbin-Watson:                   2.333\n",
      "Prob(Omnibus):                  0.212   Jarque-Bera (JB):                1.431\n",
      "Skew:                          -0.711   Prob(JB):                        0.489\n",
      "Kurtosis:                       3.356   Cond. No.                         20.5\n",
      "==============================================================================\n",
      "\n",
      "Warnings:\n",
      "[1] Standard Errors assume that the covariance matrix of the errors is correctly specified.\n"
     ]
    },
    {
     "name": "stderr",
     "output_type": "stream",
     "text": [
      "C:\\ProgramData\\Anaconda3\\lib\\site-packages\\scipy\\stats\\stats.py:1535: UserWarning: kurtosistest only valid for n>=20 ... continuing anyway, n=16\n",
      "  \"anyway, n=%i\" % int(n))\n"
     ]
    }
   ],
   "source": [
    "#fit multiple linear regression model\n",
    "D1_model = ols('d1_y ~ d1_x', data=D_df).fit()\n",
    "print(D1_model.summary())"
   ]
  },
  {
   "cell_type": "code",
   "execution_count": 30,
   "metadata": {
    "ExecuteTime": {
     "end_time": "2021-12-16T18:46:04.123230Z",
     "start_time": "2021-12-16T18:46:04.097224Z"
    }
   },
   "outputs": [
    {
     "name": "stdout",
     "output_type": "stream",
     "text": [
      "                            OLS Regression Results                            \n",
      "==============================================================================\n",
      "Dep. Variable:                   d2_y   R-squared:                       0.252\n",
      "Model:                            OLS   Adj. R-squared:                  0.198\n",
      "Method:                 Least Squares   F-statistic:                     4.713\n",
      "Date:                Thu, 16 Dec 2021   Prob (F-statistic):             0.0476\n",
      "Time:                        10:46:04   Log-Likelihood:                -44.003\n",
      "No. Observations:                  16   AIC:                             92.01\n",
      "Df Residuals:                      14   BIC:                             93.55\n",
      "Df Model:                           1                                         \n",
      "Covariance Type:            nonrobust                                         \n",
      "==============================================================================\n",
      "                 coef    std err          t      P>|t|      [0.025      0.975]\n",
      "------------------------------------------------------------------------------\n",
      "Intercept      4.4500      2.122      2.097      0.055      -0.102       9.002\n",
      "d2_x           0.4765      0.219      2.171      0.048       0.006       0.947\n",
      "==============================================================================\n",
      "Omnibus:                        0.959   Durbin-Watson:                   2.089\n",
      "Prob(Omnibus):                  0.619   Jarque-Bera (JB):                0.866\n",
      "Skew:                           0.384   Prob(JB):                        0.648\n",
      "Kurtosis:                       2.158   Cond. No.                         20.5\n",
      "==============================================================================\n",
      "\n",
      "Warnings:\n",
      "[1] Standard Errors assume that the covariance matrix of the errors is correctly specified.\n"
     ]
    }
   ],
   "source": [
    "#fit multiple linear regression model\n",
    "D2_model = ols('d2_y ~ d2_x', data=D_df).fit()\n",
    "print(D2_model.summary())"
   ]
  },
  {
   "cell_type": "code",
   "execution_count": 31,
   "metadata": {
    "ExecuteTime": {
     "end_time": "2021-12-16T18:46:04.613398Z",
     "start_time": "2021-12-16T18:46:04.586392Z"
    }
   },
   "outputs": [
    {
     "name": "stdout",
     "output_type": "stream",
     "text": [
      "                            OLS Regression Results                            \n",
      "==============================================================================\n",
      "Dep. Variable:                   d3_y   R-squared:                       0.350\n",
      "Model:                            OLS   Adj. R-squared:                  0.304\n",
      "Method:                 Least Squares   F-statistic:                     7.540\n",
      "Date:                Thu, 16 Dec 2021   Prob (F-statistic):             0.0158\n",
      "Time:                        10:46:04   Log-Likelihood:                -43.210\n",
      "No. Observations:                  16   AIC:                             90.42\n",
      "Df Residuals:                      14   BIC:                             91.96\n",
      "Df Model:                           1                                         \n",
      "Covariance Type:            nonrobust                                         \n",
      "==============================================================================\n",
      "                 coef    std err          t      P>|t|      [0.025      0.975]\n",
      "------------------------------------------------------------------------------\n",
      "Intercept      3.6250      2.020      1.795      0.094      -0.707       7.957\n",
      "d3_x           0.5735      0.209      2.746      0.016       0.126       1.022\n",
      "==============================================================================\n",
      "Omnibus:                        1.188   Durbin-Watson:                   2.408\n",
      "Prob(Omnibus):                  0.552   Jarque-Bera (JB):                0.789\n",
      "Skew:                          -0.108   Prob(JB):                        0.674\n",
      "Kurtosis:                       1.934   Cond. No.                         20.5\n",
      "==============================================================================\n",
      "\n",
      "Warnings:\n",
      "[1] Standard Errors assume that the covariance matrix of the errors is correctly specified.\n"
     ]
    }
   ],
   "source": [
    "#fit multiple linear regression model\n",
    "D3_model = ols('d3_y ~ d3_x', data=D_df).fit()\n",
    "print(D3_model.summary())"
   ]
  },
  {
   "cell_type": "code",
   "execution_count": 32,
   "metadata": {
    "ExecuteTime": {
     "end_time": "2021-12-16T18:46:08.614484Z",
     "start_time": "2021-12-16T18:46:08.342421Z"
    },
    "scrolled": false
   },
   "outputs": [
    {
     "name": "stdout",
     "output_type": "stream",
     "text": [
      "slope = 0.76 (+/-) 0.17\n",
      "y-intercept = 2.00 (+/-) 1.60\n"
     ]
    },
    {
     "data": {
      "image/png": "[encoded data removed]",
      "text/plain": [
       "<Figure size 864x864 with 1 Axes>"
      ]
     },
     "metadata": {
      "needs_background": "light"
     },
     "output_type": "display_data"
    }
   ],
   "source": [
    "# D1 Dlist v Olist\n",
    "# fits the data to a line and plots it\n",
    "fig = plt.figure(figsize=(12,12))\n",
    "gs = GridSpec(1,1)\n",
    "ax1 = fig.add_subplot(gs[0])\n",
    "\n",
    "ax1.plot(D_df.d1_x, D_df.d1_y, \"ko\", markersize=7)    \n",
    "\n",
    "# popt_linear: this contains the fitting parameters\n",
    "# pcov_linear: estimated covariance of the fitting paramters\n",
    "popt_linear, pcov_linear = scipy.optimize.curve_fit(linear, D_df.d1_x, D_df.d1_y)\n",
    "perr_linear = np.sqrt(np.diag(pcov_linear))\n",
    "print (\"slope = %0.2f (+/-) %0.2f\" % (popt_linear[0], perr_linear[0]))\n",
    "print( \"y-intercept = %0.2f (+/-) %0.2f\" %(popt_linear[1], perr_linear[1]))\n",
    "\n",
    "ax1.plot(D_df.d1_x, linear(D_df.d1_x, *popt_linear), 'r--', label=\"y= %0.2fx + %0.2f\" % (popt_linear[0], popt_linear[1]))\n",
    "ax1.set_xlim(0,16.5)\n",
    "ax1.set_ylim(0,16.5)\n",
    "\n",
    "ax1.set_title(\"D1: Dlist v. Olist Ranks\", fontsize=22)\n",
    "ax1.set_xlabel(\"Dlist Ranks\",  fontsize=18)\n",
    "ax1.set_ylabel(\"Olist Ranks\",  fontsize=20)\n",
    "ax1.legend(loc='best', fontsize=16)\n",
    "\n",
    "ax1.xaxis.set_major_locator(ticker.MultipleLocator(1))\n",
    "ax1.yaxis.set_major_locator(ticker.MultipleLocator(1))\n",
    "ax1.tick_params(axis='both',which='major', direction=\"out\", bottom=\"on\", length=8, labelsize=14)\n",
    "ax1.tick_params(axis='both',which='minor', direction=\"out\", bottom=\"on\", length=5, labelsize=14)\n",
    "\n",
    "fig.tight_layout()\n",
    "\n",
    "plt.annotate(\"Malad\",               # this is the text\n",
    "        (16,8.5),                   # these are the coordinates to position the label\n",
    "        textcoords=\"offset points\", # how to position the text\n",
    "        size=18,\n",
    "        xytext=(-10,10),            # distance from text to points (x,y)\n",
    "        ha='center')                # horizontal alignment can be left, right or center    \n",
    "\n",
    "plt.annotate(\"Flat Hills\",          # this is the text\n",
    "        (7,1),                      # these are the coordinates to position the label\n",
    "        textcoords=\"offset points\", # how to position the text\n",
    "        size=18,\n",
    "        xytext=(-5,10),             # distance from text to points (x,y)\n",
    "        ha='center')                # horizontal alignment can be left, right or center\n",
    "    \n",
    "plt.savefig('D1 regression chart.png')"
   ]
  },
  {
   "cell_type": "code",
   "execution_count": 33,
   "metadata": {
    "ExecuteTime": {
     "end_time": "2021-12-16T18:46:13.008947Z",
     "start_time": "2021-12-16T18:46:12.738720Z"
    }
   },
   "outputs": [
    {
     "name": "stdout",
     "output_type": "stream",
     "text": [
      "slope = 0.48 (+/-) 0.22\n",
      "y-intercept = 4.45 (+/-) 2.12\n"
     ]
    },
    {
     "data": {
      "image/png": "[encoded data removed]",
      "text/plain": [
       "<Figure size 864x864 with 1 Axes>"
      ]
     },
     "metadata": {
      "needs_background": "light"
     },
     "output_type": "display_data"
    }
   ],
   "source": [
    "# D2 Dlist v Olist\n",
    "# fits the data to a line and plots it   \n",
    "fig = plt.figure(figsize=(12,12))\n",
    "gs = GridSpec(1,1)\n",
    "ax1 = fig.add_subplot(gs[0])\n",
    "\n",
    "ax1.plot(D_df.d2_x, D_df.d2_y, \"ko\", markersize=7)    \n",
    "\n",
    "# popt_linear: this contains the fitting parameters\n",
    "# pcov_linear: estimated covariance of the fitting paramters\n",
    "popt_linear, pcov_linear = scipy.optimize.curve_fit(linear, D_df.d2_x, D_df.d2_y)\n",
    "perr_linear = np.sqrt(np.diag(pcov_linear))\n",
    "print (\"slope = %0.2f (+/-) %0.2f\" % (popt_linear[0], perr_linear[0]))\n",
    "print( \"y-intercept = %0.2f (+/-) %0.2f\" %(popt_linear[1], perr_linear[1]))\n",
    "\n",
    "ax1.plot(D_df.d1_x, linear(D_df.d1_x, *popt_linear), 'r--', label=\"y= %0.2fx + %0.2f\" % (popt_linear[0], popt_linear[1]))\n",
    "ax1.set_xlim(0,16.5)\n",
    "ax1.set_ylim(0,16.5)\n",
    "\n",
    "ax1.set_title(\"D2: Dlist v. Olist Ranks\", fontsize=22)\n",
    "ax1.set_xlabel(\"Dlist Ranks\",  fontsize=18)\n",
    "ax1.set_ylabel(\"Olist Ranks\",  fontsize=20)\n",
    "ax1.legend(loc='best', fontsize=16)\n",
    "\n",
    "ax1.xaxis.set_major_locator(ticker.MultipleLocator(1))\n",
    "ax1.yaxis.set_major_locator(ticker.MultipleLocator(1))\n",
    "ax1.tick_params(axis='both',which='major', direction=\"out\", bottom=\"on\", length=8, labelsize=14)\n",
    "ax1.tick_params(axis='both',which='minor', direction=\"out\", bottom=\"on\", length=5, labelsize=14)\n",
    "\n",
    "fig.tight_layout()\n",
    "\n",
    "plt.annotate(\"Badlands\",            # this is the text\n",
    "        (2.5,13.2),                 # these are the coordinates to position the label\n",
    "        textcoords=\"offset points\", # how to position the text\n",
    "        size=18,\n",
    "        xytext=(-10,10),            # distance from text to points (x,y)\n",
    "        ha='center')                # horizontal alignment can be left, right or center    \n",
    "    \n",
    "plt.savefig('D2 regression chart.png')"
   ]
  },
  {
   "cell_type": "code",
   "execution_count": 34,
   "metadata": {
    "ExecuteTime": {
     "end_time": "2021-12-16T18:46:14.652448Z",
     "start_time": "2021-12-16T18:46:14.399388Z"
    }
   },
   "outputs": [
    {
     "name": "stdout",
     "output_type": "stream",
     "text": [
      "slope = 0.57 (+/-) 0.21\n",
      "y-intercept = 3.63 (+/-) 2.02\n"
     ]
    },
    {
     "data": {
      "image/png": "[encoded data removed]",
      "text/plain": [
       "<Figure size 864x864 with 1 Axes>"
      ]
     },
     "metadata": {
      "needs_background": "light"
     },
     "output_type": "display_data"
    }
   ],
   "source": [
    "# D3 Dlist v Olist\n",
    "# fits the data to a line and plots it\n",
    "fig = plt.figure(figsize=(12,12))\n",
    "gs = GridSpec(1,1)\n",
    "ax1 = fig.add_subplot(gs[0])\n",
    "\n",
    "ax1.plot(D_df.d3_x, D_df.d3_y, \"ko\", markersize=7)    \n",
    "\n",
    "# popt_linear: this contains the fitting parameters\n",
    "# pcov_linear: estimated covariance of the fitting paramters\n",
    "popt_linear, pcov_linear = scipy.optimize.curve_fit(linear, D_df.d3_x, D_df.d3_y)\n",
    "perr_linear = np.sqrt(np.diag(pcov_linear))\n",
    "print (\"slope = %0.2f (+/-) %0.2f\" % (popt_linear[0], perr_linear[0]))\n",
    "print( \"y-intercept = %0.2f (+/-) %0.2f\" %(popt_linear[1], perr_linear[1]))\n",
    "\n",
    "ax1.plot(D_df.d1_x, linear(D_df.d1_x, *popt_linear), 'r--', label=\"y= %0.2fx + %0.2f\" % (popt_linear[0], popt_linear[1]))\n",
    "ax1.set_xlim(0,16.5)\n",
    "ax1.set_ylim(0,16.5)\n",
    "\n",
    "ax1.set_title(\"D3: Dlist v. Olist Ranks\", fontsize=22)\n",
    "ax1.set_xlabel(\"Dlist Ranks\",  fontsize=18)\n",
    "ax1.set_ylabel(\"Olist Ranks\",  fontsize=20)\n",
    "ax1.legend(loc='best', fontsize=16)\n",
    "\n",
    "ax1.xaxis.set_major_locator(ticker.MultipleLocator(1))\n",
    "ax1.yaxis.set_major_locator(ticker.MultipleLocator(1))\n",
    "ax1.tick_params(axis='both',which='major', direction=\"out\", bottom=\"on\", length=8, labelsize=14)\n",
    "ax1.tick_params(axis='both',which='minor', direction=\"out\", bottom=\"on\", length=5, labelsize=14)\n",
    "\n",
    "fig.tight_layout()  \n",
    "plt.savefig('D3 regression chart.png')"
   ]
  },
  {
   "cell_type": "code",
   "execution_count": 35,
   "metadata": {
    "ExecuteTime": {
     "end_time": "2021-12-16T18:46:15.772377Z",
     "start_time": "2021-12-16T18:46:15.766376Z"
    }
   },
   "outputs": [],
   "source": [
    "# get the standardized residuals \n",
    "D1_influence = D1_model.get_influence()\n",
    "D1_standardized_residuals = D1_influence.resid_studentized_internal\n",
    "#print(D1_standardized_residuals)\n",
    "\n",
    "D2_influence = D2_model.get_influence()\n",
    "D2_standardized_residuals = D2_influence.resid_studentized_internal\n",
    "#print(D2_standardized_residuals)\n",
    "\n",
    "D3_influence = D3_model.get_influence()\n",
    "D3_standardized_residuals = D3_influence.resid_studentized_internal\n",
    "#print(D3_standardized_residuals)"
   ]
  },
  {
   "cell_type": "code",
   "execution_count": 36,
   "metadata": {
    "ExecuteTime": {
     "end_time": "2021-12-16T18:46:17.117271Z",
     "start_time": "2021-12-16T18:46:16.874392Z"
    }
   },
   "outputs": [
    {
     "name": "stderr",
     "output_type": "stream",
     "text": [
      "No handles with labels found to put in legend.\n"
     ]
    },
    {
     "data": {
      "image/png": "[encoded data removed]",
      "text/plain": [
       "<Figure size 864x432 with 1 Axes>"
      ]
     },
     "metadata": {
      "needs_background": "light"
     },
     "output_type": "display_data"
    }
   ],
   "source": [
    "# D1 standardized residuals plot\n",
    "sres_fig = plt.figure(figsize=(12,6))\n",
    "gs = GridSpec(1,1)\n",
    "ax1 = sres_fig.add_subplot(gs[0])\n",
    "\n",
    "ax1.plot(D_df.d1_x,D1_standardized_residuals, \"bo\", markersize=7)    \n",
    "ax1.plot([0, 16.5], [0, 0], color='0.7', linestyle='--', linewidth=2)\n",
    "ax1.plot([0, 16.5], [2, 2], color='r', linestyle='--', linewidth=2)\n",
    "ax1.plot([0, 16.5], [-2, -2], color='r', linestyle='--', linewidth=2)\n",
    "\n",
    "ax1.set_xlim(0.5,16.5)\n",
    "ax1.set_ylim(-3.0,3.0)\n",
    "\n",
    "ax1.set_title(\"D1: Standardized Residuals\", fontsize=24)\n",
    "ax1.set_xlabel(\"Dlist Rank\",  fontsize=18)\n",
    "ax1.set_ylabel(\"Standard Error\",  fontsize=20)\n",
    "ax1.legend(loc='best', fontsize=16)\n",
    "\n",
    "ax1.xaxis.set_major_locator(ticker.MultipleLocator(1))\n",
    "ax1.yaxis.set_major_locator(ticker.MultipleLocator(1))\n",
    "ax1.yaxis.set_minor_locator(AutoMinorLocator(5))\n",
    "ax1.tick_params(axis='both',which='major', direction=\"out\", bottom=\"on\", length=8, labelsize=14)\n",
    "ax1.tick_params(axis='both',which='minor', direction=\"out\", bottom=\"on\", length=5, labelsize=14)\n",
    "\n",
    "sres_fig.tight_layout()\n",
    "\n",
    "plt.annotate(\"Flat Hills\",          \n",
    "        (7,-2.1), \n",
    "        textcoords=\"offset points\", \n",
    "        size=16,\n",
    "        xytext=(-45,-20),\n",
    "        ha='center')    \n",
    "\n",
    "plt.annotate(\"Malad\", \n",
    "        (16,-2.1), \n",
    "        textcoords=\"offset points\", \n",
    "        size=16,\n",
    "        xytext=(-35,-20), \n",
    "        ha='center') \n",
    "\n",
    "plt.savefig('D1 stdres.png')"
   ]
  },
  {
   "cell_type": "code",
   "execution_count": 37,
   "metadata": {
    "ExecuteTime": {
     "end_time": "2021-12-16T18:46:18.405653Z",
     "start_time": "2021-12-16T18:46:18.174725Z"
    }
   },
   "outputs": [
    {
     "name": "stderr",
     "output_type": "stream",
     "text": [
      "No handles with labels found to put in legend.\n"
     ]
    },
    {
     "data": {
      "image/png": "[encoded data removed]",
      "text/plain": [
       "<Figure size 864x432 with 1 Axes>"
      ]
     },
     "metadata": {
      "needs_background": "light"
     },
     "output_type": "display_data"
    }
   ],
   "source": [
    "# D2 standardized residuals plot\n",
    "sres_fig = plt.figure(figsize=(12,6))\n",
    "gs = GridSpec(1,1)\n",
    "ax1 = sres_fig.add_subplot(gs[0])\n",
    "\n",
    "ax1.plot(D_df.d2_x,D2_standardized_residuals, \"bo\", markersize=7)    \n",
    "ax1.plot([0, 16.5], [0, 0], color='0.7', linestyle='--', linewidth=2)\n",
    "ax1.plot([0, 16.5], [2, 2], color='r', linestyle='--', linewidth=2)\n",
    "ax1.plot([0, 16.5], [-2, -2], color='r', linestyle='--', linewidth=2)\n",
    "\n",
    "ax1.set_xlim(0.5,16.5)\n",
    "ax1.set_ylim(-3.0,3.0)\n",
    "\n",
    "ax1.set_title(\"D2: Standardized Residuals\", fontsize=24)\n",
    "ax1.set_xlabel(\"Dlist Rank\",  fontsize=18)\n",
    "ax1.set_ylabel(\"Standard Error\",  fontsize=20)\n",
    "ax1.legend(loc='best', fontsize=16)\n",
    "\n",
    "ax1.xaxis.set_major_locator(ticker.MultipleLocator(1))\n",
    "ax1.yaxis.set_major_locator(ticker.MultipleLocator(1))\n",
    "ax1.yaxis.set_minor_locator(AutoMinorLocator(5))\n",
    "ax1.tick_params(axis='both',which='major', direction=\"out\", bottom=\"on\", length=8, labelsize=14)\n",
    "ax1.tick_params(axis='both',which='minor', direction=\"out\", bottom=\"on\", length=5, labelsize=14)\n",
    "\n",
    "sres_fig.tight_layout()\n",
    "\n",
    "plt.annotate(\"Badlands\", \n",
    "        (2,2.1), \n",
    "        textcoords=\"offset points\", \n",
    "        size=16,\n",
    "        xytext=(+45,+10), \n",
    "        ha='center')    \n",
    "\n",
    "plt.savefig('D2 stdres.png')"
   ]
  },
  {
   "cell_type": "code",
   "execution_count": 38,
   "metadata": {
    "ExecuteTime": {
     "end_time": "2021-12-16T18:46:24.408880Z",
     "start_time": "2021-12-16T18:46:24.186829Z"
    }
   },
   "outputs": [
    {
     "name": "stderr",
     "output_type": "stream",
     "text": [
      "No handles with labels found to put in legend.\n"
     ]
    },
    {
     "data": {
      "image/png": "[encoded data removed]",
      "text/plain": [
       "<Figure size 864x432 with 1 Axes>"
      ]
     },
     "metadata": {
      "needs_background": "light"
     },
     "output_type": "display_data"
    }
   ],
   "source": [
    "# D3 standardized residuals plot\n",
    "sres_fig = plt.figure(figsize=(12,6))\n",
    "gs = GridSpec(1,1)\n",
    "ax1 = sres_fig.add_subplot(gs[0])\n",
    "\n",
    "ax1.plot(D_df.d3_x,D3_standardized_residuals, \"bo\", markersize=7)    \n",
    "ax1.plot([0, 16.5], [0, 0], color='0.7', linestyle='--', linewidth=2)\n",
    "ax1.plot([0, 16.5], [2, 2], color='r', linestyle='--', linewidth=2)\n",
    "ax1.plot([0, 16.5], [-2, -2], color='r', linestyle='--', linewidth=2)\n",
    "\n",
    "ax1.set_xlim(0.5,16.5)\n",
    "ax1.set_ylim(-3.0,3.0)\n",
    "\n",
    "ax1.set_title(\"D3: Standardized Residuals\", fontsize=24)\n",
    "ax1.set_xlabel(\"Dlist Rank\",  fontsize=18)\n",
    "ax1.set_ylabel(\"Standard Error\",  fontsize=20)\n",
    "ax1.legend(loc='best', fontsize=16)\n",
    "\n",
    "ax1.xaxis.set_major_locator(ticker.MultipleLocator(1))\n",
    "ax1.yaxis.set_major_locator(ticker.MultipleLocator(1))\n",
    "ax1.yaxis.set_minor_locator(AutoMinorLocator(5))\n",
    "ax1.tick_params(axis='both',which='major', direction=\"out\", bottom=\"on\", length=8, labelsize=14)\n",
    "ax1.tick_params(axis='both',which='minor', direction=\"out\", bottom=\"on\", length=5, labelsize=14)\n",
    "\n",
    "sres_fig.tight_layout()\n",
    "\n",
    "plt.savefig('D3 stdres.png')"
   ]
  },
  {
   "cell_type": "markdown",
   "metadata": {},
   "source": [
    "### Statistical Tests on the Standardized Residuals"
   ]
  },
  {
   "cell_type": "code",
   "execution_count": 39,
   "metadata": {
    "ExecuteTime": {
     "end_time": "2021-12-16T18:46:31.756742Z",
     "start_time": "2021-12-16T18:46:31.739739Z"
    }
   },
   "outputs": [
    {
     "name": "stdout",
     "output_type": "stream",
     "text": [
      "\u001b[1mD1 Tests for Standardized Residual Normality\u001b[0m\n",
      "Ho (null): The data was produced in a random manner.\n",
      "Ha (alternative): The data was not produced in a random manner.\n",
      "  Reject the null hypothesis if p < alpha\n",
      " \n",
      "\u001b[1mRuns Test\u001b[0m\n",
      "Purpose: detect non-randomness\n",
      "  Test Statistics=0.592, p=0.554\n",
      "  Data appears random (failed to reject Ho)\n",
      "-----------------------------------------------------------------\n",
      "\u001b[1mLilliefors Test\u001b[0m\n",
      "Purpose: test that data come from a normal distribution when pop mean and std dev not known\n",
      "  Test Statistics=0.179, p=0.190\n",
      "  D1 residuals look normal (failed to reject Ho)\n",
      "----------------------------------------------\n",
      "\u001b[1mShapiro-Wilk Test\u001b[0m\n",
      "Purpose: test that data come from a normal distribution when small sample sizes (<50)\n",
      "  Test Statistics=0.915, p=0.141\n",
      "  D1 residuals look normal (failed to reject Ho)\n",
      "\u001b[1mKolmogorov-Smirnov Test\u001b[0m\n",
      "Purpose: test that data come from a normal distribution\n",
      "  Test Statistics=0.179, p=0.190\n",
      "  D1 residuals look normal (failed to reject Ho)\n",
      "----------------------------------------------\n",
      "\u001b[1mJarque-Bera Test\u001b[0m\n",
      "Purpose: goodness-of-fit test of data's skewness and kurtosis to a normal distribution\n",
      "  Test Statistics=1.683, p=0.431\n",
      "  D1 residuals look normal (failed to reject Ho)\n",
      "----------------------------------------------\n"
     ]
    },
    {
     "name": "stderr",
     "output_type": "stream",
     "text": [
      "C:\\ProgramData\\Anaconda3\\lib\\site-packages\\statsmodels\\stats\\_lilliefors.py:272: FutureWarning: The default pvalmethod will change from \"approx\" to \"table\" after 0.11. The \"table\" method uses values from a very large simulation and is more accurate.  Explicitly set this parameter to \"approx\" or \"table\" to silence this warning\n",
      "  warnings.warn(msg, FutureWarning)\n"
     ]
    }
   ],
   "source": [
    "print('\\033[1m' +\"D1 Tests for Standardized Residual Normality\" + '\\033[0m')\n",
    "alpha = 0.05\n",
    "print(\"Ho (null): The data was produced in a random manner.\")\n",
    "print(\"Ha (alternative): The data was not produced in a random manner.\")\n",
    "print(\"  Reject the null hypothesis if p < alpha\")\n",
    "print(' ')\n",
    "\n",
    "#Perform Runs test\n",
    "print('\\033[1m' + 'Runs Test' + '\\033[0m')\n",
    "print(\"Purpose: detect non-randomness\")\n",
    "runs_stdRes_zStat, runs_stdRes_zpval = runstest_1samp(D1_standardized_residuals, correction=False)\n",
    "print('  Test Statistics=%.3f, p=%.3f' % (runs_stdRes_zStat, runs_stdRes_zpval))\n",
    "if runs_stdRes_zpval > alpha:\n",
    "    print(\"  Data appears random (failed to reject Ho)\".format(round(runs_stdRes_zpval,4), alpha))\n",
    "else:\n",
    "    print(\"  Data appears non-random (reject Ho)\".format(round(runs_pval,4), alpha))\n",
    "print(\"-----------------------------------------------------------------\")\n",
    "\n",
    "lil_stdRes_zstat,lil_stdRes_zp = sm.stats.lilliefors(D1_standardized_residuals)\n",
    "print('\\033[1m' + 'Lilliefors Test' + '\\033[0m')\n",
    "print(\"Purpose: test that data come from a normal distribution when pop mean and std dev not known\")\n",
    "print('  Test Statistics=%.3f, p=%.3f' % (lil_stdRes_zstat, lil_stdRes_zp))\n",
    "if lil_stdRes_zp > alpha:\n",
    "\tprint('  D1 residuals look normal (failed to reject Ho)')\n",
    "else:\n",
    "\tprint('  D1 residuals do not look normal (reject Ho)')\n",
    "\n",
    "print('----------------------------------------------')\n",
    "\n",
    "# Shapiro-Wilk Test\n",
    "print('\\033[1m' + 'Shapiro-Wilk Test' + '\\033[0m')\n",
    "print(\"Purpose: test that data come from a normal distribution when small sample sizes (<50)\")\n",
    "shap_stdres_stat, shap_stdres_p = shapiro(D1_standardized_residuals)\n",
    "print('  Test Statistics=%.3f, p=%.3f' % (shap_stdres_stat, shap_stdres_p))\n",
    "# interpret\n",
    "if shap_stdres_p > alpha:\n",
    "\tprint('  D1 residuals look normal (failed to reject Ho)')\n",
    "else:\n",
    "\tprint('  D1 residuals do not look normal (reject Ho)')\n",
    "\n",
    "ks_stdRes_zstat,ks_stdRes_zp = sm.stats.diagnostic.kstest_normal(D1_standardized_residuals)\n",
    "print('\\033[1m' + 'Kolmogorov-Smirnov Test' + '\\033[0m')\n",
    "print(\"Purpose: test that data come from a normal distribution\")\n",
    "print('  Test Statistics=%.3f, p=%.3f' % (ks_stdRes_zstat, ks_stdRes_zp))\n",
    "if ks_stdRes_zp > alpha:\n",
    "\tprint('  D1 residuals look normal (failed to reject Ho)')\n",
    "else:\n",
    "\tprint('  D1 residuals do not look normal (reject Ho)') \n",
    "\n",
    "print('----------------------------------------------')    \n",
    "    \n",
    "jb_stdres_stat,jb_stdres_p, xx, yy = sm.stats.stattools.jarque_bera(D1_standardized_residuals)\n",
    "print('\\033[1m' + 'Jarque-Bera Test' + '\\033[0m')\n",
    "print(\"Purpose: goodness-of-fit test of data's skewness and kurtosis to a normal distribution\")\n",
    "print('  Test Statistics=%.3f, p=%.3f' % (jb_stdres_stat, jb_stdres_p))\n",
    "if jb_stdres_p > alpha:\n",
    "\tprint('  D1 residuals look normal (failed to reject Ho)')\n",
    "else:\n",
    "\tprint('  D1 residuals do not look normal (reject Ho)')\n",
    "\n",
    "print('----------------------------------------------')  \n",
    "    \n",
    "    "
   ]
  },
  {
   "cell_type": "code",
   "execution_count": 40,
   "metadata": {
    "ExecuteTime": {
     "end_time": "2021-12-16T18:46:36.595953Z",
     "start_time": "2021-12-16T18:46:36.577950Z"
    }
   },
   "outputs": [
    {
     "name": "stdout",
     "output_type": "stream",
     "text": [
      "\u001b[1mD2 Tests for Standardized Residual Normality\u001b[0m\n",
      "Ho (null): The data was produced in a random manner.\n",
      "Ha (alternative): The data was not produced in a random manner.\n",
      "  Reject the null hypothesis if p < alpha\n",
      " \n",
      "\u001b[1mRuns Test\u001b[0m\n",
      "Purpose: detect non-randomness\n",
      "  Test Statistics=0.518, p=0.605\n",
      "  Data appears random (failed to reject Ho)\n",
      "-----------------------------------------------------------------\n",
      "\u001b[1mLilliefors Test\u001b[0m\n",
      "Purpose: test that data come from a normal distribution when pop mean and std dev not known\n",
      "  Test Statistics=0.146, p=0.472\n",
      "  D1 residuals look normal (failed to reject Ho)\n",
      "----------------------------------------------\n",
      "\u001b[1mShapiro-Wilk Test\u001b[0m\n",
      "Purpose: test that data come from a normal distribution when small sample sizes (<50)\n",
      "  Test Statistics=0.953, p=0.531\n",
      "  D1 residuals look normal (failed to reject Ho)\n",
      "\u001b[1mKolmogorov-Smirnov Test\u001b[0m\n",
      "Purpose: test that data come from a normal distribution\n",
      "  Test Statistics=0.146, p=0.472\n",
      "  D1 residuals look normal (failed to reject Ho)\n",
      "----------------------------------------------\n",
      "\u001b[1mJarque-Bera Test\u001b[0m\n",
      "Purpose: goodness-of-fit test of data's skewness and kurtosis to a normal distribution\n",
      "  Test Statistics=0.877, p=0.645\n",
      "  D1 residuals look normal (failed to reject Ho)\n",
      "----------------------------------------------\n"
     ]
    }
   ],
   "source": [
    "print('\\033[1m' +\"D2 Tests for Standardized Residual Normality\" + '\\033[0m')\n",
    "alpha = 0.05\n",
    "print(\"Ho (null): The data was produced in a random manner.\")\n",
    "print(\"Ha (alternative): The data was not produced in a random manner.\")\n",
    "print(\"  Reject the null hypothesis if p < alpha\")\n",
    "print(' ')\n",
    "\n",
    "#Perform Runs test\n",
    "print('\\033[1m' + 'Runs Test' + '\\033[0m')\n",
    "print(\"Purpose: detect non-randomness\")\n",
    "runs_stdRes_zStat, runs_stdRes_zpval = runstest_1samp(D2_standardized_residuals, correction=False)\n",
    "print('  Test Statistics=%.3f, p=%.3f' % (runs_stdRes_zStat, runs_stdRes_zpval))\n",
    "if runs_stdRes_zpval > alpha:\n",
    "    print(\"  Data appears random (failed to reject Ho)\".format(round(runs_stdRes_zpval,4), alpha))\n",
    "else:\n",
    "    print(\"  Data appears non-random (reject Ho)\".format(round(runs_pval,4), alpha))\n",
    "print(\"-----------------------------------------------------------------\")\n",
    "\n",
    "lil_stdRes_zstat,lil_stdRes_zp = sm.stats.lilliefors(D2_standardized_residuals)\n",
    "print('\\033[1m' + 'Lilliefors Test' + '\\033[0m')\n",
    "print(\"Purpose: test that data come from a normal distribution when pop mean and std dev not known\")\n",
    "print('  Test Statistics=%.3f, p=%.3f' % (lil_stdRes_zstat, lil_stdRes_zp))\n",
    "if lil_stdRes_zp > alpha:\n",
    "\tprint('  D1 residuals look normal (failed to reject Ho)')\n",
    "else:\n",
    "\tprint('  D1 residuals do not look normal (reject Ho)')\n",
    "\n",
    "print('----------------------------------------------')\n",
    "\n",
    "# Shapiro-Wilk Test\n",
    "print('\\033[1m' + 'Shapiro-Wilk Test' + '\\033[0m')\n",
    "print(\"Purpose: test that data come from a normal distribution when small sample sizes (<50)\")\n",
    "shap_stdres_stat, shap_stdres_p = shapiro(D2_standardized_residuals)\n",
    "print('  Test Statistics=%.3f, p=%.3f' % (shap_stdres_stat, shap_stdres_p))\n",
    "# interpret\n",
    "if shap_stdres_p > alpha:\n",
    "\tprint('  D1 residuals look normal (failed to reject Ho)')\n",
    "else:\n",
    "\tprint('  D1 residuals do not look normal (reject Ho)')\n",
    "\n",
    "ks_stdRes_zstat,ks_stdRes_zp = sm.stats.diagnostic.kstest_normal(D2_standardized_residuals)\n",
    "print('\\033[1m' + 'Kolmogorov-Smirnov Test' + '\\033[0m')\n",
    "print(\"Purpose: test that data come from a normal distribution\")\n",
    "print('  Test Statistics=%.3f, p=%.3f' % (ks_stdRes_zstat, ks_stdRes_zp))\n",
    "if ks_stdRes_zp > alpha:\n",
    "\tprint('  D1 residuals look normal (failed to reject Ho)')\n",
    "else:\n",
    "\tprint('  D1 residuals do not look normal (reject Ho)') \n",
    "\n",
    "print('----------------------------------------------')    \n",
    "    \n",
    "jb_stdres_stat,jb_stdres_p, xx, yy = sm.stats.stattools.jarque_bera(D2_standardized_residuals)\n",
    "print('\\033[1m' + 'Jarque-Bera Test' + '\\033[0m')\n",
    "print(\"Purpose: goodness-of-fit test of data's skewness and kurtosis to a normal distribution\")\n",
    "print('  Test Statistics=%.3f, p=%.3f' % (jb_stdres_stat, jb_stdres_p))\n",
    "if jb_stdres_p > alpha:\n",
    "\tprint('  D1 residuals look normal (failed to reject Ho)')\n",
    "else:\n",
    "\tprint('  D1 residuals do not look normal (reject Ho)')\n",
    "\n",
    "print('----------------------------------------------') "
   ]
  },
  {
   "cell_type": "code",
   "execution_count": 70,
   "metadata": {
    "ExecuteTime": {
     "end_time": "2021-12-16T22:13:26.971171Z",
     "start_time": "2021-12-16T22:13:26.947165Z"
    }
   },
   "outputs": [
    {
     "name": "stdout",
     "output_type": "stream",
     "text": [
      "\u001b[1mD3 Tests for Standardized Residual Normality\u001b[0m\n",
      "Ho (null): The data was produced in a random manner.\n",
      "Ha (alternative): The data was not produced in a random manner.\n",
      "  Reject the null hypothesis if p < alpha\n",
      " \n",
      "\u001b[1mRuns Test\u001b[0m\n",
      "Purpose: detect non-randomness\n",
      "  Test Statistics=-0.518, p=0.605\n",
      "  Data appears random (failed to reject Ho)\n",
      "-----------------------------------------------------------------\n",
      "\u001b[1mLilliefors Test\u001b[0m\n",
      "Purpose: test that data come from a normal distribution when pop mean and std dev not known\n",
      "  Test Statistics=0.123, p=0.741\n",
      "  D1 residuals look normal (failed to reject Ho)\n",
      "----------------------------------------------\n",
      "\u001b[1mShapiro-Wilk Test\u001b[0m\n",
      "Purpose: test that data come from a normal distribution when small sample sizes (<50)\n",
      "  Test Statistics=0.961, p=0.678\n",
      "  D1 residuals look normal (failed to reject Ho)\n",
      "\u001b[1mKolmogorov-Smirnov Test\u001b[0m\n",
      "Purpose: test that data come from a normal distribution\n",
      "  Test Statistics=0.123, p=0.741\n",
      "  D1 residuals look normal (failed to reject Ho)\n",
      "----------------------------------------------\n",
      "\u001b[1mJarque-Bera Test\u001b[0m\n",
      "Purpose: goodness-of-fit test of data's skewness and kurtosis to a normal distribution\n",
      "  Test Statistics=0.867, p=0.648\n",
      "  D1 residuals look normal (failed to reject Ho)\n",
      "----------------------------------------------\n"
     ]
    }
   ],
   "source": [
    "print('\\033[1m' +\"D3 Tests for Standardized Residual Normality\" + '\\033[0m')\n",
    "alpha = 0.05\n",
    "print(\"Ho (null): The data was produced in a random manner.\")\n",
    "print(\"Ha (alternative): The data was not produced in a random manner.\")\n",
    "print(\"  Reject the null hypothesis if p < alpha\")\n",
    "print(' ')\n",
    "\n",
    "#Perform Runs test\n",
    "print('\\033[1m' + 'Runs Test' + '\\033[0m')\n",
    "print(\"Purpose: detect non-randomness\")\n",
    "runs_stdRes_zStat, runs_stdRes_zpval = runstest_1samp(D3_standardized_residuals, correction=False)\n",
    "print('  Test Statistics=%.3f, p=%.3f' % (runs_stdRes_zStat, runs_stdRes_zpval))\n",
    "if runs_stdRes_zpval > alpha:\n",
    "    print(\"  Data appears random (failed to reject Ho)\".format(round(runs_stdRes_zpval,4), alpha))\n",
    "else:\n",
    "    print(\"  Data appears non-random (reject Ho)\".format(round(runs_stdRes_zpval,4), alpha))\n",
    "print(\"-----------------------------------------------------------------\")\n",
    "\n",
    "lil_stdRes_zstat,lil_stdRes_zp = sm.stats.lilliefors(D3_standardized_residuals)\n",
    "print('\\033[1m' + 'Lilliefors Test' + '\\033[0m')\n",
    "print(\"Purpose: test that data come from a normal distribution when pop mean and std dev not known\")\n",
    "print('  Test Statistics=%.3f, p=%.3f' % (lil_stdRes_zstat, lil_stdRes_zp))\n",
    "if lil_stdRes_zp > alpha:\n",
    "\tprint('  D1 residuals look normal (failed to reject Ho)')\n",
    "else:\n",
    "\tprint('  D1 residuals do not look normal (reject Ho)')\n",
    "\n",
    "print('----------------------------------------------')\n",
    "\n",
    "# Shapiro-Wilk Test\n",
    "print('\\033[1m' + 'Shapiro-Wilk Test' + '\\033[0m')\n",
    "print(\"Purpose: test that data come from a normal distribution when small sample sizes (<50)\")\n",
    "shap_stdres_stat, shap_stdres_p = shapiro(D3_standardized_residuals)\n",
    "print('  Test Statistics=%.3f, p=%.3f' % (shap_stdres_stat, shap_stdres_p))\n",
    "# interpret\n",
    "if shap_stdres_p > alpha:\n",
    "\tprint('  D1 residuals look normal (failed to reject Ho)')\n",
    "else:\n",
    "\tprint('  D1 residuals do not look normal (reject Ho)')\n",
    "\n",
    "ks_stdRes_zstat,ks_stdRes_zp = sm.stats.diagnostic.kstest_normal(D3_standardized_residuals)\n",
    "print('\\033[1m' + 'Kolmogorov-Smirnov Test' + '\\033[0m')\n",
    "print(\"Purpose: test that data come from a normal distribution\")\n",
    "print('  Test Statistics=%.3f, p=%.3f' % (ks_stdRes_zstat, ks_stdRes_zp))\n",
    "if ks_stdRes_zp > alpha:\n",
    "\tprint('  D1 residuals look normal (failed to reject Ho)')\n",
    "else:\n",
    "\tprint('  D1 residuals do not look normal (reject Ho)') \n",
    "\n",
    "print('----------------------------------------------')    \n",
    "    \n",
    "jb_stdres_stat,jb_stdres_p, xx, yy = sm.stats.stattools.jarque_bera(D3_standardized_residuals)\n",
    "print('\\033[1m' + 'Jarque-Bera Test' + '\\033[0m')\n",
    "print(\"Purpose: goodness-of-fit test of data's skewness and kurtosis to a normal distribution\")\n",
    "print('  Test Statistics=%.3f, p=%.3f' % (jb_stdres_stat, jb_stdres_p))\n",
    "if jb_stdres_p > alpha:\n",
    "\tprint('  D1 residuals look normal (failed to reject Ho)')\n",
    "else:\n",
    "\tprint('  D1 residuals do not look normal (reject Ho)')\n",
    "\n",
    "print('----------------------------------------------') "
   ]
  },
  {
   "cell_type": "markdown",
   "metadata": {},
   "source": [
    "## Plot the Landscape Learning results"
   ]
  },
  {
   "cell_type": "markdown",
   "metadata": {},
   "source": [
    "%LL = (1 - r^2)   Calculations and group ages are described in my dissertation, Chapter 5"
   ]
  },
  {
   "cell_type": "code",
   "execution_count": 42,
   "metadata": {
    "ExecuteTime": {
     "end_time": "2021-12-16T18:46:51.445909Z",
     "start_time": "2021-12-16T18:46:51.426905Z"
    }
   },
   "outputs": [
    {
     "data": {
      "text/html": [
       "<div>\n",
       "<style scoped>\n",
       "    .dataframe tbody tr th:only-of-type {\n",
       "        vertical-align: middle;\n",
       "    }\n",
       "\n",
       "    .dataframe tbody tr th {\n",
       "        vertical-align: top;\n",
       "    }\n",
       "\n",
       "    .dataframe thead th {\n",
       "        text-align: right;\n",
       "    }\n",
       "</style>\n",
       "<table border=\"1\" class=\"dataframe\">\n",
       "  <thead>\n",
       "    <tr style=\"text-align: right;\">\n",
       "      <th></th>\n",
       "      <th>D_LL</th>\n",
       "      <th>D_dates</th>\n",
       "    </tr>\n",
       "  </thead>\n",
       "  <tbody>\n",
       "    <tr>\n",
       "      <th>0</th>\n",
       "      <td>65.0</td>\n",
       "      <td>9300</td>\n",
       "    </tr>\n",
       "    <tr>\n",
       "      <th>1</th>\n",
       "      <td>74.8</td>\n",
       "      <td>10050</td>\n",
       "    </tr>\n",
       "    <tr>\n",
       "      <th>2</th>\n",
       "      <td>39.6</td>\n",
       "      <td>10650</td>\n",
       "    </tr>\n",
       "  </tbody>\n",
       "</table>\n",
       "</div>"
      ],
      "text/plain": [
       "   D_LL  D_dates\n",
       "0  65.0     9300\n",
       "1  74.8    10050\n",
       "2  39.6    10650"
      ]
     },
     "execution_count": 42,
     "metadata": {},
     "output_type": "execute_result"
    }
   ],
   "source": [
    "D_LL = [65.0, 74.8, 39.6]\n",
    "D_dates = [9300, 10050, 10650]\n",
    "\n",
    "#create dataset\n",
    "Dgrp_df = pd.DataFrame({'D_LL': D_LL,\n",
    "                     'D_dates': D_dates})\n",
    "#view dataset\n",
    "Dgrp_df"
   ]
  },
  {
   "cell_type": "code",
   "execution_count": 43,
   "metadata": {
    "ExecuteTime": {
     "end_time": "2021-12-16T18:46:56.257815Z",
     "start_time": "2021-12-16T18:46:56.020761Z"
    }
   },
   "outputs": [
    {
     "name": "stdout",
     "output_type": "stream",
     "text": [
      "slope = -0.02 (+/-) 0.02\n",
      "y-intercept = 234.88 (+/-) 203.99\n"
     ]
    },
    {
     "data": {
      "image/png": "[encoded data removed]",
      "text/plain": [
       "<Figure size 864x864 with 1 Axes>"
      ]
     },
     "metadata": {
      "needs_background": "light"
     },
     "output_type": "display_data"
    }
   ],
   "source": [
    "# Plot the D Groups %LL over time\n",
    "fig = plt.figure(figsize=(12,12))\n",
    "gs = GridSpec(1,1)\n",
    "ax1 = fig.add_subplot(gs[0])\n",
    "\n",
    "ax1.plot(Dgrp_df.D_dates, Dgrp_df.D_LL, \"ko\", markersize=7)    \n",
    "\n",
    "# popt_linear: this contains the fitting parameters\n",
    "# pcov_linear: estimated covariance of the fitting paramters\n",
    "popt_linear, pcov_linear = scipy.optimize.curve_fit(linear, Dgrp_df.D_dates, Dgrp_df.D_LL)\n",
    "perr_linear = np.sqrt(np.diag(pcov_linear))\n",
    "print (\"slope = %0.2f (+/-) %0.2f\" % (popt_linear[0], perr_linear[0]))\n",
    "print( \"y-intercept = %0.2f (+/-) %0.2f\" %(popt_linear[1], perr_linear[1]))\n",
    "\n",
    "ax1.plot(Dgrp_df.D_dates, linear(Dgrp_df.D_dates, *popt_linear), 'r--', label=\"y= %0.2fx + %0.2f\" % (popt_linear[0], popt_linear[1]))\n",
    "ax1.set_xlim(11000,9000)\n",
    "ax1.set_ylim(0,100)\n",
    "\n",
    "ax1.set_title(\"%LL Over Time (D Groups)\", fontsize=22)\n",
    "ax1.set_ylabel(\"%LL\",  fontsize=20)\n",
    "ax1.set_xlabel(\"Radiocarbon years\",  fontsize=18)\n",
    "ax1.legend(loc='best', fontsize=16)\n",
    "\n",
    "fig.tight_layout()\n",
    "   \n",
    "plt.savefig('D LL.png')"
   ]
  },
  {
   "cell_type": "code",
   "execution_count": 44,
   "metadata": {
    "ExecuteTime": {
     "end_time": "2021-12-16T18:47:02.678411Z",
     "start_time": "2021-12-16T18:47:02.660408Z"
    }
   },
   "outputs": [
    {
     "name": "stdout",
     "output_type": "stream",
     "text": [
      "D Pearson's r:           -0.652\n",
      "D Pearson's r, p value:  0.548\n",
      "--------------------------------\n"
     ]
    }
   ],
   "source": [
    "D_pearson_r, D_pearson_r_pval = stats.pearsonr(D_LL, D_dates)\n",
    "print(\"D Pearson's r:          \", str(round(D_pearson_r, 3)))\n",
    "print(\"D Pearson's r, p value: \", str(round(D_pearson_r_pval, 4)))\n",
    "print(\"--------------------------------\")"
   ]
  },
  {
   "cell_type": "code",
   "execution_count": 45,
   "metadata": {
    "ExecuteTime": {
     "end_time": "2021-12-16T18:47:03.356771Z",
     "start_time": "2021-12-16T18:47:03.349769Z"
    }
   },
   "outputs": [
    {
     "name": "stdout",
     "output_type": "stream",
     "text": [
      "D Spearman's r:           -0.5\n",
      "D Spearman's r, p value:  0.6667\n"
     ]
    }
   ],
   "source": [
    "D_spearman_r, D_spearman_r_pval = stats.spearmanr(D_LL, D_dates)\n",
    "print(\"D Spearman's r:          \", str(round(D_spearman_r, 3)))\n",
    "print(\"D Spearman's r, p value: \", str(round(D_spearman_r_pval, 4)))"
   ]
  },
  {
   "cell_type": "code",
   "execution_count": 46,
   "metadata": {
    "ExecuteTime": {
     "end_time": "2021-12-16T18:47:05.270590Z",
     "start_time": "2021-12-16T18:47:05.244584Z"
    }
   },
   "outputs": [
    {
     "name": "stdout",
     "output_type": "stream",
     "text": [
      "                            OLS Regression Results                            \n",
      "==============================================================================\n",
      "Dep. Variable:                   D_LL   R-squared:                       0.425\n",
      "Model:                            OLS   Adj. R-squared:                 -0.150\n",
      "Method:                 Least Squares   F-statistic:                    0.7389\n",
      "Date:                Thu, 16 Dec 2021   Prob (F-statistic):              0.548\n",
      "Time:                        10:47:05   Log-Likelihood:                -11.518\n",
      "No. Observations:                   3   AIC:                             27.04\n",
      "Df Residuals:                       1   BIC:                             25.23\n",
      "Df Model:                           1                                         \n",
      "Covariance Type:            nonrobust                                         \n",
      "==============================================================================\n",
      "                 coef    std err          t      P>|t|      [0.025      0.975]\n",
      "------------------------------------------------------------------------------\n",
      "Intercept    234.8820    203.992      1.151      0.455   -2357.082    2826.846\n",
      "D_dates       -0.0175      0.020     -0.860      0.548      -0.276       0.241\n",
      "==============================================================================\n",
      "Omnibus:                          nan   Durbin-Watson:                   2.992\n",
      "Prob(Omnibus):                    nan   Jarque-Bera (JB):                0.522\n",
      "Skew:                           0.694   Prob(JB):                        0.770\n",
      "Kurtosis:                       1.500   Cond. No.                     1.82e+05\n",
      "==============================================================================\n",
      "\n",
      "Warnings:\n",
      "[1] Standard Errors assume that the covariance matrix of the errors is correctly specified.\n",
      "[2] The condition number is large, 1.82e+05. This might indicate that there are\n",
      "strong multicollinearity or other numerical problems.\n"
     ]
    },
    {
     "name": "stderr",
     "output_type": "stream",
     "text": [
      "C:\\ProgramData\\Anaconda3\\lib\\site-packages\\statsmodels\\stats\\stattools.py:71: ValueWarning: omni_normtest is not valid with less than 8 observations; 3 samples were given.\n",
      "  \"samples were given.\" % int(n), ValueWarning)\n"
     ]
    }
   ],
   "source": [
    "#fit multiple linear regression model\n",
    "D_model = ols('D_LL ~ D_dates', data=Dgrp_df).fit()\n",
    "\n",
    "#view model summary\n",
    "print(D_model.summary())"
   ]
  },
  {
   "cell_type": "markdown",
   "metadata": {},
   "source": [
    "### Running the same regression and stats tests using calender years instead of radiocarbon years."
   ]
  },
  {
   "cell_type": "code",
   "execution_count": 47,
   "metadata": {
    "ExecuteTime": {
     "end_time": "2021-12-16T18:47:10.872430Z",
     "start_time": "2021-12-16T18:47:10.854426Z"
    }
   },
   "outputs": [
    {
     "data": {
      "text/html": [
       "<div>\n",
       "<style scoped>\n",
       "    .dataframe tbody tr th:only-of-type {\n",
       "        vertical-align: middle;\n",
       "    }\n",
       "\n",
       "    .dataframe tbody tr th {\n",
       "        vertical-align: top;\n",
       "    }\n",
       "\n",
       "    .dataframe thead th {\n",
       "        text-align: right;\n",
       "    }\n",
       "</style>\n",
       "<table border=\"1\" class=\"dataframe\">\n",
       "  <thead>\n",
       "    <tr style=\"text-align: right;\">\n",
       "      <th></th>\n",
       "      <th>D_LL</th>\n",
       "      <th>D_dates</th>\n",
       "    </tr>\n",
       "  </thead>\n",
       "  <tbody>\n",
       "    <tr>\n",
       "      <th>0</th>\n",
       "      <td>65.0</td>\n",
       "      <td>8647</td>\n",
       "    </tr>\n",
       "    <tr>\n",
       "      <th>1</th>\n",
       "      <td>74.8</td>\n",
       "      <td>9816</td>\n",
       "    </tr>\n",
       "    <tr>\n",
       "      <th>2</th>\n",
       "      <td>39.6</td>\n",
       "      <td>10786</td>\n",
       "    </tr>\n",
       "  </tbody>\n",
       "</table>\n",
       "</div>"
      ],
      "text/plain": [
       "   D_LL  D_dates\n",
       "0  65.0     8647\n",
       "1  74.8     9816\n",
       "2  39.6    10786"
      ]
     },
     "execution_count": 47,
     "metadata": {},
     "output_type": "execute_result"
    }
   ],
   "source": [
    "D_LL = [65.0, 74.8, 39.6]\n",
    "D_caldates = [8647, 9816, 10786]\n",
    "#create dataset\n",
    "Dcal_df = pd.DataFrame({'D_LL': D_LL,\n",
    "                     'D_dates': D_caldates})\n",
    "#view dataset\n",
    "Dcal_df"
   ]
  },
  {
   "cell_type": "code",
   "execution_count": 48,
   "metadata": {
    "ExecuteTime": {
     "end_time": "2021-12-16T18:47:11.837828Z",
     "start_time": "2021-12-16T18:47:11.606777Z"
    }
   },
   "outputs": [
    {
     "name": "stdout",
     "output_type": "stream",
     "text": [
      "slope = -0.01 (+/-) 0.01\n",
      "y-intercept = 168.90 (+/-) 124.78\n"
     ]
    },
    {
     "data": {
      "image/png": "[encoded data removed]",
      "text/plain": [
       "<Figure size 864x864 with 1 Axes>"
      ]
     },
     "metadata": {
      "needs_background": "light"
     },
     "output_type": "display_data"
    }
   ],
   "source": [
    "\n",
    "fig = plt.figure(figsize=(12,12))\n",
    "gs = GridSpec(1,1)\n",
    "ax1 = fig.add_subplot(gs[0])\n",
    "\n",
    "ax1.plot(Dcal_df.D_dates, Dcal_df.D_LL, \"ko\", markersize=7)    \n",
    "\n",
    "# popt_linear: this contains the fitting parameters\n",
    "# pcov_linear: estimated covariance of the fitting paramters\n",
    "popt_linear, pcov_linear = scipy.optimize.curve_fit(linear, Dcal_df.D_dates, Dcal_df.D_LL)\n",
    "perr_linear = np.sqrt(np.diag(pcov_linear))\n",
    "print (\"slope = %0.2f (+/-) %0.2f\" % (popt_linear[0], perr_linear[0]))\n",
    "print( \"y-intercept = %0.2f (+/-) %0.2f\" %(popt_linear[1], perr_linear[1]))\n",
    "\n",
    "ax1.plot(Dcal_df.D_dates, linear(Dcal_df.D_dates, *popt_linear), 'r--', label=\"y= %0.2fx + %0.2f\" % (popt_linear[0], popt_linear[1]))\n",
    "\n",
    "ax1.set_xlim(11000,8500)\n",
    "ax1.set_ylim(0,100)\n",
    "\n",
    "ax1.set_title(\"%LL Over Time (calendar dates)\", fontsize=22)\n",
    "ax1.set_ylabel(\"%LL\",  fontsize=20)\n",
    "ax1.set_xlabel(\"Calendar years\",  fontsize=18)\n",
    "ax1.legend(loc='best', fontsize=16)\n",
    "\n",
    "fig.tight_layout()\n",
    "   \n",
    "plt.savefig('Dcal LL.png')"
   ]
  },
  {
   "cell_type": "code",
   "execution_count": 49,
   "metadata": {
    "ExecuteTime": {
     "end_time": "2021-12-16T18:47:15.606441Z",
     "start_time": "2021-12-16T18:47:15.597442Z"
    }
   },
   "outputs": [
    {
     "name": "stdout",
     "output_type": "stream",
     "text": [
      "D Pearson's r:           -0.66\n",
      "D Pearson's r, p value:  0.5414\n",
      "--------------------------------\n"
     ]
    }
   ],
   "source": [
    "D_pearson_r, D_pearson_r_pval = stats.pearsonr(D_LL, D_caldates)\n",
    "print(\"D Pearson's r:          \", str(round(D_pearson_r, 3)))\n",
    "print(\"D Pearson's r, p value: \", str(round(D_pearson_r_pval, 4)))\n",
    "print(\"--------------------------------\")"
   ]
  },
  {
   "cell_type": "code",
   "execution_count": 50,
   "metadata": {
    "ExecuteTime": {
     "end_time": "2021-12-16T18:47:18.112434Z",
     "start_time": "2021-12-16T18:47:18.104432Z"
    }
   },
   "outputs": [
    {
     "name": "stdout",
     "output_type": "stream",
     "text": [
      "D Spearman's r:           -0.5\n",
      "D Spearman's r, p value:  0.6667\n"
     ]
    }
   ],
   "source": [
    "D_spearman_r, D_spearman_r_pval = stats.spearmanr(D_LL, D_caldates)\n",
    "print(\"D Spearman's r:          \", str(round(D_spearman_r, 3)))\n",
    "print(\"D Spearman's r, p value: \", str(round(D_spearman_r_pval, 4)))"
   ]
  },
  {
   "cell_type": "code",
   "execution_count": 51,
   "metadata": {
    "ExecuteTime": {
     "end_time": "2021-12-16T18:47:20.408818Z",
     "start_time": "2021-12-16T18:47:20.392810Z"
    }
   },
   "outputs": [
    {
     "name": "stdout",
     "output_type": "stream",
     "text": [
      "                            OLS Regression Results                            \n",
      "==============================================================================\n",
      "Dep. Variable:                   D_LL   R-squared:                       0.435\n",
      "Model:                            OLS   Adj. R-squared:                 -0.130\n",
      "Method:                 Least Squares   F-statistic:                    0.7706\n",
      "Date:                Thu, 16 Dec 2021   Prob (F-statistic):              0.541\n",
      "Time:                        10:47:20   Log-Likelihood:                -11.490\n",
      "No. Observations:                   3   AIC:                             26.98\n",
      "Df Residuals:                       1   BIC:                             25.18\n",
      "Df Model:                           1                                         \n",
      "Covariance Type:            nonrobust                                         \n",
      "==============================================================================\n",
      "                 coef    std err          t      P>|t|      [0.025      0.975]\n",
      "------------------------------------------------------------------------------\n",
      "Intercept    168.8989    124.781      1.354      0.405   -1416.589    1754.386\n",
      "D_caldates    -0.0112      0.013     -0.878      0.541      -0.173       0.151\n",
      "==============================================================================\n",
      "Omnibus:                          nan   Durbin-Watson:                   2.994\n",
      "Prob(Omnibus):                    nan   Jarque-Bera (JB):                0.525\n",
      "Skew:                           0.698   Prob(JB):                        0.769\n",
      "Kurtosis:                       1.500   Cond. No.                     1.10e+05\n",
      "==============================================================================\n",
      "\n",
      "Warnings:\n",
      "[1] Standard Errors assume that the covariance matrix of the errors is correctly specified.\n",
      "[2] The condition number is large, 1.1e+05. This might indicate that there are\n",
      "strong multicollinearity or other numerical problems.\n"
     ]
    },
    {
     "name": "stderr",
     "output_type": "stream",
     "text": [
      "C:\\ProgramData\\Anaconda3\\lib\\site-packages\\statsmodels\\stats\\stattools.py:71: ValueWarning: omni_normtest is not valid with less than 8 observations; 3 samples were given.\n",
      "  \"samples were given.\" % int(n), ValueWarning)\n"
     ]
    }
   ],
   "source": [
    "#fit multiple linear regression model\n",
    "D_model = ols('D_LL ~ D_caldates', data=Dgrp_df).fit()\n",
    "\n",
    "#view model summary\n",
    "print(D_model.summary())"
   ]
  },
  {
   "cell_type": "markdown",
   "metadata": {},
   "source": [
    "## Results after removing the Flat Hills outlier"
   ]
  },
  {
   "cell_type": "code",
   "execution_count": 68,
   "metadata": {
    "ExecuteTime": {
     "end_time": "2021-12-16T21:27:32.046968Z",
     "start_time": "2021-12-16T21:27:32.040967Z"
    }
   },
   "outputs": [],
   "source": [
    "# rank order of index list by Discoverability\n",
    "d1_dlist = np.array([1,14,6,2,5,10,4,12,11,15,9,7,8,13,3])\n",
    "d1_olist = np.array([3,13,6,2,5,9,4,13,13,7.5,7.5,10,13,13,1])\n",
    "\n",
    "d2_dlist = np.array([2,14,6,3,5, 10,4,12,11,15,8,7,9,13,1])\n",
    "d2_olist = np.array([12,12,3.5,2,12,6.5,6.5,12,12,12,3.5,6.5,12,6.5,1])\n",
    "\n",
    "d3_dlist = np.array([1,14,6,3,4,10,5,12,11,15,8,7,9,13,2])\n",
    "d3_olist = np.array([8,8,4.5,2,4.5,13,8,13,13,13,3,13,8,8,1])"
   ]
  },
  {
   "cell_type": "code",
   "execution_count": 53,
   "metadata": {
    "ExecuteTime": {
     "end_time": "2021-12-16T18:48:47.030875Z",
     "start_time": "2021-12-16T18:48:47.009869Z"
    }
   },
   "outputs": [
    {
     "name": "stdout",
     "output_type": "stream",
     "text": [
      "D1 Pearson's r:           0.805\n",
      "D1 Pearson's r, p value:  0.00029853\n",
      "D1 coeff:                 0.647\n",
      "--------------------------------\n",
      "D2 Pearson's r:           0.506\n",
      "D2 Pearson's r, p value:  0.05415697\n",
      "D2 coeff:                 0.256\n",
      "--------------------------------\n",
      "D3 Pearson's r:           0.623\n",
      "D3 Pearson's r, p value:  0.0130548\n",
      "D3 coeff:                 0.388\n",
      "--------------------------------\n"
     ]
    }
   ],
   "source": [
    "d1o_pearson_r, d1o_pearson_r_pval = stats.pearsonr(d1_dlist, d1_olist)\n",
    "print(\"D1 Pearson's r:          \", str(round(d1o_pearson_r, 3)))\n",
    "print(\"D1 Pearson's r, p value: \", str(round(d1o_pearson_r_pval, 8)))\n",
    "d1o_pearson_coeff = d1o_pearson_r ** 2\n",
    "print(\"D1 coeff:                \", round(d1o_pearson_coeff,3))\n",
    "print(\"--------------------------------\")\n",
    "\n",
    "d2o_pearson_r, d2o_pearson_r_pval = stats.pearsonr(d2_dlist, d2_olist)\n",
    "print(\"D2 Pearson's r:          \", str(round(d2o_pearson_r, 3)))\n",
    "print(\"D2 Pearson's r, p value: \", str(round(d2o_pearson_r_pval, 8)))\n",
    "d2o_pearson_coeff = d2o_pearson_r ** 2\n",
    "print(\"D2 coeff:                \", round(d2o_pearson_coeff,3))\n",
    "print(\"--------------------------------\")\n",
    "\n",
    "d3o_pearson_r, d3o_pearson_r_pval = stats.pearsonr(d3_dlist, d3_olist)\n",
    "print(\"D3 Pearson's r:          \", str(round(d3o_pearson_r, 3)))\n",
    "print(\"D3 Pearson's r, p value: \", str(round(d3o_pearson_r_pval, 8)))\n",
    "d3o_pearson_coeff = d3o_pearson_r ** 2\n",
    "print(\"D3 coeff:                \", round(d3o_pearson_coeff,3))\n",
    "print(\"--------------------------------\")"
   ]
  },
  {
   "cell_type": "code",
   "execution_count": 54,
   "metadata": {
    "ExecuteTime": {
     "end_time": "2021-12-16T18:48:59.873534Z",
     "start_time": "2021-12-16T18:48:59.850528Z"
    }
   },
   "outputs": [
    {
     "name": "stdout",
     "output_type": "stream",
     "text": [
      "D1 Spearman's r:           0.805\n",
      "D1 Spearman's r, p value:  0.00029853\n",
      "D1 coeff:                  0.647\n",
      "D1 LL:                     35.3\n",
      "--------------------------------\n",
      "D2 Spearman's r:           0.506\n",
      "D2 Spearman's r, p value:  0.05415697\n",
      "D2 coeff:                  0.256\n",
      "D2 LL:                     74.4\n",
      "--------------------------------\n",
      "D3 Spearman's r:           0.623\n",
      "D3 Spearman's r, p value:  0.0130548\n",
      "D3 coeff:                  0.388\n",
      "D3 LL:                     61.2\n",
      "--------------------------------\n"
     ]
    }
   ],
   "source": [
    "d1o_spearman_r, d1o_spearman_r_pval = stats.spearmanr(d1_dlist, d1_olist)\n",
    "print(\"D1 Spearman's r:          \", str(round(d1o_spearman_r, 3)))\n",
    "print(\"D1 Spearman's r, p value: \", str(round(d1o_spearman_r_pval, 8)))\n",
    "d1o_spearman_coeff = d1o_spearman_r ** 2\n",
    "print(\"D1 coeff:                 \", round(d1o_spearman_coeff,3))\n",
    "print(\"D1 LL:                    \", round((1-d1o_spearman_coeff)*100,1))\n",
    "print(\"--------------------------------\")\n",
    "\n",
    "d2o_spearman_r, d2o_spearman_r_pval = stats.spearmanr(d2_dlist, d2_olist)\n",
    "print(\"D2 Spearman's r:          \", str(round(d2o_spearman_r, 3)))\n",
    "print(\"D2 Spearman's r, p value: \", str(round(d2o_spearman_r_pval, 8)))\n",
    "d2o_spearman_coeff = d2o_spearman_r ** 2\n",
    "print(\"D2 coeff:                 \", round(d2o_spearman_coeff,3))\n",
    "print(\"D2 LL:                    \", round((1-d2o_spearman_coeff)*100,1))\n",
    "print(\"--------------------------------\")\n",
    "\n",
    "\n",
    "d3o_spearman_r, d3o_spearman_r_pval = stats.spearmanr(d3_dlist, d3_olist)\n",
    "print(\"D3 Spearman's r:          \", str(round(d3o_spearman_r, 3)))\n",
    "print(\"D3 Spearman's r, p value: \", str(round(d3o_spearman_r_pval, 8)))\n",
    "d3o_spearman_coeff = d3o_spearman_r ** 2\n",
    "print(\"D3 coeff:                 \", round(d3o_spearman_coeff,3))\n",
    "print(\"D3 LL:                    \", round((1-d3o_spearman_coeff)*100,1))\n",
    "print(\"--------------------------------\")"
   ]
  },
  {
   "cell_type": "code",
   "execution_count": 55,
   "metadata": {
    "ExecuteTime": {
     "end_time": "2021-12-16T18:49:33.904560Z",
     "start_time": "2021-12-16T18:49:33.882555Z"
    }
   },
   "outputs": [
    {
     "data": {
      "text/html": [
       "<div>\n",
       "<style scoped>\n",
       "    .dataframe tbody tr th:only-of-type {\n",
       "        vertical-align: middle;\n",
       "    }\n",
       "\n",
       "    .dataframe tbody tr th {\n",
       "        vertical-align: top;\n",
       "    }\n",
       "\n",
       "    .dataframe thead th {\n",
       "        text-align: right;\n",
       "    }\n",
       "</style>\n",
       "<table border=\"1\" class=\"dataframe\">\n",
       "  <thead>\n",
       "    <tr style=\"text-align: right;\">\n",
       "      <th></th>\n",
       "      <th>d1list</th>\n",
       "      <th>o1list</th>\n",
       "      <th>d2list</th>\n",
       "      <th>o2list</th>\n",
       "      <th>d3list</th>\n",
       "      <th>o3list</th>\n",
       "    </tr>\n",
       "  </thead>\n",
       "  <tbody>\n",
       "    <tr>\n",
       "      <th>0</th>\n",
       "      <td>1</td>\n",
       "      <td>3.0</td>\n",
       "      <td>2</td>\n",
       "      <td>12.0</td>\n",
       "      <td>1</td>\n",
       "      <td>8.0</td>\n",
       "    </tr>\n",
       "    <tr>\n",
       "      <th>1</th>\n",
       "      <td>14</td>\n",
       "      <td>13.0</td>\n",
       "      <td>14</td>\n",
       "      <td>12.0</td>\n",
       "      <td>14</td>\n",
       "      <td>8.0</td>\n",
       "    </tr>\n",
       "    <tr>\n",
       "      <th>2</th>\n",
       "      <td>6</td>\n",
       "      <td>6.0</td>\n",
       "      <td>6</td>\n",
       "      <td>3.5</td>\n",
       "      <td>6</td>\n",
       "      <td>4.5</td>\n",
       "    </tr>\n",
       "    <tr>\n",
       "      <th>3</th>\n",
       "      <td>2</td>\n",
       "      <td>2.0</td>\n",
       "      <td>3</td>\n",
       "      <td>2.0</td>\n",
       "      <td>3</td>\n",
       "      <td>2.0</td>\n",
       "    </tr>\n",
       "    <tr>\n",
       "      <th>4</th>\n",
       "      <td>5</td>\n",
       "      <td>5.0</td>\n",
       "      <td>5</td>\n",
       "      <td>12.0</td>\n",
       "      <td>4</td>\n",
       "      <td>4.5</td>\n",
       "    </tr>\n",
       "    <tr>\n",
       "      <th>5</th>\n",
       "      <td>10</td>\n",
       "      <td>9.0</td>\n",
       "      <td>10</td>\n",
       "      <td>6.5</td>\n",
       "      <td>10</td>\n",
       "      <td>13.0</td>\n",
       "    </tr>\n",
       "    <tr>\n",
       "      <th>6</th>\n",
       "      <td>4</td>\n",
       "      <td>4.0</td>\n",
       "      <td>4</td>\n",
       "      <td>6.5</td>\n",
       "      <td>5</td>\n",
       "      <td>8.0</td>\n",
       "    </tr>\n",
       "    <tr>\n",
       "      <th>7</th>\n",
       "      <td>12</td>\n",
       "      <td>13.0</td>\n",
       "      <td>12</td>\n",
       "      <td>12.0</td>\n",
       "      <td>12</td>\n",
       "      <td>13.0</td>\n",
       "    </tr>\n",
       "    <tr>\n",
       "      <th>8</th>\n",
       "      <td>11</td>\n",
       "      <td>13.0</td>\n",
       "      <td>11</td>\n",
       "      <td>12.0</td>\n",
       "      <td>11</td>\n",
       "      <td>13.0</td>\n",
       "    </tr>\n",
       "    <tr>\n",
       "      <th>9</th>\n",
       "      <td>15</td>\n",
       "      <td>7.5</td>\n",
       "      <td>15</td>\n",
       "      <td>12.0</td>\n",
       "      <td>15</td>\n",
       "      <td>13.0</td>\n",
       "    </tr>\n",
       "    <tr>\n",
       "      <th>10</th>\n",
       "      <td>9</td>\n",
       "      <td>7.5</td>\n",
       "      <td>8</td>\n",
       "      <td>3.5</td>\n",
       "      <td>8</td>\n",
       "      <td>3.0</td>\n",
       "    </tr>\n",
       "    <tr>\n",
       "      <th>11</th>\n",
       "      <td>7</td>\n",
       "      <td>10.0</td>\n",
       "      <td>7</td>\n",
       "      <td>6.5</td>\n",
       "      <td>7</td>\n",
       "      <td>13.0</td>\n",
       "    </tr>\n",
       "    <tr>\n",
       "      <th>12</th>\n",
       "      <td>8</td>\n",
       "      <td>13.0</td>\n",
       "      <td>9</td>\n",
       "      <td>12.0</td>\n",
       "      <td>9</td>\n",
       "      <td>8.0</td>\n",
       "    </tr>\n",
       "    <tr>\n",
       "      <th>13</th>\n",
       "      <td>13</td>\n",
       "      <td>13.0</td>\n",
       "      <td>13</td>\n",
       "      <td>6.5</td>\n",
       "      <td>13</td>\n",
       "      <td>8.0</td>\n",
       "    </tr>\n",
       "    <tr>\n",
       "      <th>14</th>\n",
       "      <td>3</td>\n",
       "      <td>1.0</td>\n",
       "      <td>1</td>\n",
       "      <td>1.0</td>\n",
       "      <td>2</td>\n",
       "      <td>1.0</td>\n",
       "    </tr>\n",
       "  </tbody>\n",
       "</table>\n",
       "</div>"
      ],
      "text/plain": [
       "    d1list  o1list  d2list  o2list  d3list  o3list\n",
       "0        1     3.0       2    12.0       1     8.0\n",
       "1       14    13.0      14    12.0      14     8.0\n",
       "2        6     6.0       6     3.5       6     4.5\n",
       "3        2     2.0       3     2.0       3     2.0\n",
       "4        5     5.0       5    12.0       4     4.5\n",
       "5       10     9.0      10     6.5      10    13.0\n",
       "6        4     4.0       4     6.5       5     8.0\n",
       "7       12    13.0      12    12.0      12    13.0\n",
       "8       11    13.0      11    12.0      11    13.0\n",
       "9       15     7.5      15    12.0      15    13.0\n",
       "10       9     7.5       8     3.5       8     3.0\n",
       "11       7    10.0       7     6.5       7    13.0\n",
       "12       8    13.0       9    12.0       9     8.0\n",
       "13      13    13.0      13     6.5      13     8.0\n",
       "14       3     1.0       1     1.0       2     1.0"
      ]
     },
     "execution_count": 55,
     "metadata": {},
     "output_type": "execute_result"
    }
   ],
   "source": [
    "d1_dlist = np.array([1,14,6,2,5,10,4,12,11,15,9,7,8,13,3]).reshape((-1, 1))\n",
    "d1_olist = np.array([3,13,6,2,5,9,4,13,13,7.5,7.5,10,13,13,1]).reshape((-1, 1))\n",
    "\n",
    "d2_dlist = np.array([2,14,6,3,5,10,4,12,11,15,8,7,9,13,1]).reshape((-1, 1))\n",
    "d2_olist = np.array([12,12,3.5,2,12,6.5,6.5,12,12,12,3.5,6.5,12,6.5,1]).reshape((-1, 1))\n",
    "\n",
    "d3_dlist = np.array([1,14,6,3,4,10,5,12,11,15,8,7,9,13,2]).reshape((-1, 1))\n",
    "d3_olist = np.array([8,8,4.5,2,4.5,13,8,13,13,13,3,13,8,8,1]).reshape((-1, 1))\n",
    "\n",
    "d1list = list(np.concatenate(d1_dlist).flat)\n",
    "o1list = list(np.concatenate(d1_olist).flat)\n",
    "d2list = list(np.concatenate(d2_dlist).flat)\n",
    "o2list = list(np.concatenate(d2_olist).flat)\n",
    "d3list = list(np.concatenate(d3_dlist).flat)\n",
    "o3list = list(np.concatenate(d3_olist).flat)\n",
    "\n",
    "#create dataset\n",
    "df = pd.DataFrame({'d1list': d1list,\n",
    "                   'o1list': o1list,\n",
    "                   'd2list': d2list,\n",
    "                   'o2list': o2list,\n",
    "                   'd3list': d3list,\n",
    "                   'o3list': o3list})\n",
    "#view dataset\n",
    "df"
   ]
  },
  {
   "cell_type": "code",
   "execution_count": 56,
   "metadata": {
    "ExecuteTime": {
     "end_time": "2021-12-16T18:49:49.281048Z",
     "start_time": "2021-12-16T18:49:49.260042Z"
    }
   },
   "outputs": [
    {
     "name": "stdout",
     "output_type": "stream",
     "text": [
      "                            OLS Regression Results                            \n",
      "==============================================================================\n",
      "Dep. Variable:                 o1list   R-squared:                       0.647\n",
      "Model:                            OLS   Adj. R-squared:                  0.620\n",
      "Method:                 Least Squares   F-statistic:                     23.85\n",
      "Date:                Thu, 16 Dec 2021   Prob (F-statistic):           0.000299\n",
      "Time:                        10:49:49   Log-Likelihood:                -35.133\n",
      "No. Observations:                  15   AIC:                             74.27\n",
      "Df Residuals:                      13   BIC:                             75.68\n",
      "Df Model:                           1                                         \n",
      "Covariance Type:            nonrobust                                         \n",
      "==============================================================================\n",
      "                 coef    std err          t      P>|t|      [0.025      0.975]\n",
      "------------------------------------------------------------------------------\n",
      "Intercept      1.6857      1.469      1.147      0.272      -1.489       4.860\n",
      "d1list         0.7893      0.162      4.884      0.000       0.440       1.138\n",
      "==============================================================================\n",
      "Omnibus:                        2.038   Durbin-Watson:                   1.692\n",
      "Prob(Omnibus):                  0.361   Jarque-Bera (JB):                0.489\n",
      "Skew:                          -0.334   Prob(JB):                        0.783\n",
      "Kurtosis:                       3.580   Cond. No.                         19.3\n",
      "==============================================================================\n",
      "\n",
      "Warnings:\n",
      "[1] Standard Errors assume that the covariance matrix of the errors is correctly specified.\n"
     ]
    },
    {
     "name": "stderr",
     "output_type": "stream",
     "text": [
      "C:\\ProgramData\\Anaconda3\\lib\\site-packages\\scipy\\stats\\stats.py:1535: UserWarning: kurtosistest only valid for n>=20 ... continuing anyway, n=15\n",
      "  \"anyway, n=%i\" % int(n))\n"
     ]
    }
   ],
   "source": [
    "#fit multiple linear regression model\n",
    "D1o_model = ols('o1list ~ d1list', data=df).fit()\n",
    "\n",
    "#view model summary\n",
    "print(D1o_model.summary())"
   ]
  },
  {
   "cell_type": "code",
   "execution_count": 57,
   "metadata": {
    "ExecuteTime": {
     "end_time": "2021-12-16T18:51:15.976954Z",
     "start_time": "2021-12-16T18:51:15.713798Z"
    }
   },
   "outputs": [
    {
     "name": "stdout",
     "output_type": "stream",
     "text": [
      "slope = 0.79 (+/-) 0.16\n",
      "y-intercept = 1.69 (+/-) 1.47\n"
     ]
    },
    {
     "data": {
      "image/png": "[encoded data removed]",
      "text/plain": [
       "<Figure size 864x864 with 1 Axes>"
      ]
     },
     "metadata": {
      "needs_background": "light"
     },
     "output_type": "display_data"
    }
   ],
   "source": [
    "fig = plt.figure(figsize=(12,12))\n",
    "gs = GridSpec(1,1)\n",
    "ax1 = fig.add_subplot(gs[0])\n",
    "\n",
    "ax1.plot(df.d1list, df.o1list, \"ko\", markersize=7)    \n",
    "\n",
    "# popt_linear: this contains the fitting parameters\n",
    "# pcov_linear: estimated covariance of the fitting paramters\n",
    "popt_linear, pcov_linear = scipy.optimize.curve_fit(linear, df.d1list, df.o1list)\n",
    "perr_linear = np.sqrt(np.diag(pcov_linear))\n",
    "print (\"slope = %0.2f (+/-) %0.2f\" % (popt_linear[0], perr_linear[0]))\n",
    "print( \"y-intercept = %0.2f (+/-) %0.2f\" %(popt_linear[1], perr_linear[1]))\n",
    "\n",
    "ax1.plot(df.d1list, linear(df.d1list, *popt_linear), 'r--', label=\"y= %0.2fx + %0.2f\" % (popt_linear[0], popt_linear[1]))\n",
    "\n",
    "ax1.set_xlim(0,15.5)\n",
    "ax1.set_ylim(0,15.5)\n",
    "\n",
    "ax1.set_title(\"D1fh: Dlist v. Olist Ranks\", fontsize=22)\n",
    "ax1.set_xlabel(\"Dlist Ranks\",  fontsize=18)\n",
    "ax1.set_ylabel(\"Olist Ranks\",  fontsize=20)\n",
    "ax1.legend(loc='best', fontsize=16)\n",
    "\n",
    "ax1.xaxis.set_major_locator(ticker.MultipleLocator(1))\n",
    "ax1.yaxis.set_major_locator(ticker.MultipleLocator(1))\n",
    "ax1.tick_params(axis='both',which='major', direction=\"out\", bottom=\"on\", length=8, labelsize=14)\n",
    "ax1.tick_params(axis='both',which='minor', direction=\"out\", bottom=\"on\", length=5, labelsize=14)\n",
    "\n",
    "fig.tight_layout()\n",
    "    \n",
    "plt.savefig('D1fh regression chart.png')"
   ]
  },
  {
   "cell_type": "code",
   "execution_count": 58,
   "metadata": {
    "ExecuteTime": {
     "end_time": "2021-12-16T18:51:32.124043Z",
     "start_time": "2021-12-16T18:51:32.096031Z"
    }
   },
   "outputs": [
    {
     "name": "stdout",
     "output_type": "stream",
     "text": [
      "                            OLS Regression Results                            \n",
      "==============================================================================\n",
      "Dep. Variable:                 o2list   R-squared:                       0.256\n",
      "Model:                            OLS   Adj. R-squared:                  0.199\n",
      "Method:                 Least Squares   F-statistic:                     4.480\n",
      "Date:                Thu, 16 Dec 2021   Prob (F-statistic):             0.0542\n",
      "Time:                        10:51:32   Log-Likelihood:                -40.058\n",
      "No. Observations:                  15   AIC:                             84.12\n",
      "Df Residuals:                      13   BIC:                             85.53\n",
      "Df Model:                           1                                         \n",
      "Covariance Type:            nonrobust                                         \n",
      "==============================================================================\n",
      "                 coef    std err          t      P>|t|      [0.025      0.975]\n",
      "------------------------------------------------------------------------------\n",
      "Intercept      4.2000      2.040      2.058      0.060      -0.208       8.608\n",
      "d2list         0.4750      0.224      2.117      0.054      -0.010       0.960\n",
      "==============================================================================\n",
      "Omnibus:                        1.342   Durbin-Watson:                   1.788\n",
      "Prob(Omnibus):                  0.511   Jarque-Bera (JB):                0.997\n",
      "Skew:                           0.384   Prob(JB):                        0.607\n",
      "Kurtosis:                       1.997   Cond. No.                         19.3\n",
      "==============================================================================\n",
      "\n",
      "Warnings:\n",
      "[1] Standard Errors assume that the covariance matrix of the errors is correctly specified.\n"
     ]
    },
    {
     "name": "stderr",
     "output_type": "stream",
     "text": [
      "C:\\ProgramData\\Anaconda3\\lib\\site-packages\\scipy\\stats\\stats.py:1535: UserWarning: kurtosistest only valid for n>=20 ... continuing anyway, n=15\n",
      "  \"anyway, n=%i\" % int(n))\n"
     ]
    }
   ],
   "source": [
    "#fit multiple linear regression model\n",
    "D2o_model = ols('o2list ~ d2list', data=df).fit()\n",
    "\n",
    "#view model summary\n",
    "print(D2o_model.summary())"
   ]
  },
  {
   "cell_type": "code",
   "execution_count": 59,
   "metadata": {
    "ExecuteTime": {
     "end_time": "2021-12-16T18:51:44.400749Z",
     "start_time": "2021-12-16T18:51:44.147687Z"
    }
   },
   "outputs": [
    {
     "name": "stdout",
     "output_type": "stream",
     "text": [
      "slope = 0.47 (+/-) 0.22\n",
      "y-intercept = 4.20 (+/-) 2.04\n"
     ]
    },
    {
     "data": {
      "image/png": "[encoded data removed]",
      "text/plain": [
       "<Figure size 864x864 with 1 Axes>"
      ]
     },
     "metadata": {
      "needs_background": "light"
     },
     "output_type": "display_data"
    }
   ],
   "source": [
    "fig = plt.figure(figsize=(12,12))\n",
    "gs = GridSpec(1,1)\n",
    "ax1 = fig.add_subplot(gs[0])\n",
    "\n",
    "ax1.plot(df.d2list, df.o2list, \"ko\", markersize=7)    \n",
    "\n",
    "# popt_linear: this contains the fitting parameters\n",
    "# pcov_linear: estimated covariance of the fitting paramters\n",
    "popt_linear, pcov_linear = scipy.optimize.curve_fit(linear, df.d2list, df.o2list)\n",
    "perr_linear = np.sqrt(np.diag(pcov_linear))\n",
    "print (\"slope = %0.2f (+/-) %0.2f\" % (popt_linear[0], perr_linear[0]))\n",
    "print( \"y-intercept = %0.2f (+/-) %0.2f\" %(popt_linear[1], perr_linear[1]))\n",
    "\n",
    "ax1.plot(df.d2list, linear(df.d2list, *popt_linear), 'r--', label=\"y= %0.2fx + %0.2f\" % (popt_linear[0], popt_linear[1]))\n",
    "\n",
    "ax1.set_xlim(0,15.5)\n",
    "ax1.set_ylim(0,15.5)\n",
    "\n",
    "ax1.set_title(\"D2fh: Dlist v. Olist Ranks\", fontsize=22)\n",
    "ax1.set_xlabel(\"Dlist Ranks\",  fontsize=18)\n",
    "ax1.set_ylabel(\"Olist Ranks\",  fontsize=20)\n",
    "ax1.legend(loc='best', fontsize=16)\n",
    "\n",
    "ax1.xaxis.set_major_locator(ticker.MultipleLocator(1))\n",
    "ax1.yaxis.set_major_locator(ticker.MultipleLocator(1))\n",
    "ax1.tick_params(axis='both',which='major', direction=\"out\", bottom=\"on\", length=8, labelsize=14)\n",
    "ax1.tick_params(axis='both',which='minor', direction=\"out\", bottom=\"on\", length=5, labelsize=14)\n",
    "\n",
    "fig.tight_layout()\n",
    "    \n",
    "plt.savefig('D2fh regression chart.png')"
   ]
  },
  {
   "cell_type": "code",
   "execution_count": 60,
   "metadata": {
    "ExecuteTime": {
     "end_time": "2021-12-16T18:51:55.053485Z",
     "start_time": "2021-12-16T18:51:55.025479Z"
    }
   },
   "outputs": [
    {
     "name": "stdout",
     "output_type": "stream",
     "text": [
      "                            OLS Regression Results                            \n",
      "==============================================================================\n",
      "Dep. Variable:                 o3list   R-squared:                       0.388\n",
      "Model:                            OLS   Adj. R-squared:                  0.341\n",
      "Method:                 Least Squares   F-statistic:                     8.257\n",
      "Date:                Thu, 16 Dec 2021   Prob (F-statistic):             0.0131\n",
      "Time:                        10:51:55   Log-Likelihood:                -38.976\n",
      "No. Observations:                  15   AIC:                             81.95\n",
      "Df Residuals:                      13   BIC:                             83.37\n",
      "Df Model:                           1                                         \n",
      "Covariance Type:            nonrobust                                         \n",
      "==============================================================================\n",
      "                 coef    std err          t      P>|t|      [0.025      0.975]\n",
      "------------------------------------------------------------------------------\n",
      "Intercept      3.2000      1.898      1.686      0.116      -0.901       7.301\n",
      "d3list         0.6000      0.209      2.874      0.013       0.149       1.051\n",
      "==============================================================================\n",
      "Omnibus:                        3.136   Durbin-Watson:                   1.838\n",
      "Prob(Omnibus):                  0.208   Jarque-Bera (JB):                1.191\n",
      "Skew:                           0.160   Prob(JB):                        0.551\n",
      "Kurtosis:                       1.657   Cond. No.                         19.3\n",
      "==============================================================================\n",
      "\n",
      "Warnings:\n",
      "[1] Standard Errors assume that the covariance matrix of the errors is correctly specified.\n"
     ]
    },
    {
     "name": "stderr",
     "output_type": "stream",
     "text": [
      "C:\\ProgramData\\Anaconda3\\lib\\site-packages\\scipy\\stats\\stats.py:1535: UserWarning: kurtosistest only valid for n>=20 ... continuing anyway, n=15\n",
      "  \"anyway, n=%i\" % int(n))\n"
     ]
    }
   ],
   "source": [
    "#fit multiple linear regression model\n",
    "D3o_model = ols('o3list ~ d3list', data=df).fit()\n",
    "\n",
    "#view model summary\n",
    "print(D3o_model.summary())"
   ]
  },
  {
   "cell_type": "code",
   "execution_count": 61,
   "metadata": {
    "ExecuteTime": {
     "end_time": "2021-12-16T18:52:06.605397Z",
     "start_time": "2021-12-16T18:52:06.336075Z"
    }
   },
   "outputs": [
    {
     "name": "stdout",
     "output_type": "stream",
     "text": [
      "slope = 0.60 (+/-) 0.21\n",
      "y-intercept = 3.20 (+/-) 1.90\n"
     ]
    },
    {
     "data": {
      "image/png": "[encoded data removed]",
      "text/plain": [
       "<Figure size 864x864 with 1 Axes>"
      ]
     },
     "metadata": {
      "needs_background": "light"
     },
     "output_type": "display_data"
    }
   ],
   "source": [
    "fig = plt.figure(figsize=(12,12))\n",
    "gs = GridSpec(1,1)\n",
    "ax1 = fig.add_subplot(gs[0])\n",
    "\n",
    "ax1.plot(df.d3list, df.o3list, \"ko\", markersize=7)    \n",
    "\n",
    "# popt_linear: this contains the fitting parameters\n",
    "# pcov_linear: estimated covariance of the fitting paramters\n",
    "popt_linear, pcov_linear = scipy.optimize.curve_fit(linear, df.d3list, df.o3list)\n",
    "perr_linear = np.sqrt(np.diag(pcov_linear))\n",
    "print (\"slope = %0.2f (+/-) %0.2f\" % (popt_linear[0], perr_linear[0]))\n",
    "print( \"y-intercept = %0.2f (+/-) %0.2f\" %(popt_linear[1], perr_linear[1]))\n",
    "\n",
    "ax1.plot(df.d1list, linear(df.d1list, *popt_linear), 'r--', label=\"y= %0.2fx + %0.2f\" % (popt_linear[0], popt_linear[1]))\n",
    "\n",
    "ax1.set_xlim(0,15.5)\n",
    "ax1.set_ylim(0,15.5)\n",
    "\n",
    "ax1.set_title(\"D3fh: Dlist v. Olist Ranks\", fontsize=22)\n",
    "ax1.set_xlabel(\"Dlist Ranks\",  fontsize=18)\n",
    "ax1.set_ylabel(\"Olist Ranks\",  fontsize=20)\n",
    "ax1.legend(loc='best', fontsize=16)\n",
    "\n",
    "ax1.xaxis.set_major_locator(ticker.MultipleLocator(1))\n",
    "ax1.yaxis.set_major_locator(ticker.MultipleLocator(1))\n",
    "ax1.tick_params(axis='both',which='major', direction=\"out\", bottom=\"on\", length=8, labelsize=14)\n",
    "ax1.tick_params(axis='both',which='minor', direction=\"out\", bottom=\"on\", length=5, labelsize=14)\n",
    "\n",
    "fig.tight_layout()\n",
    "    \n",
    "plt.savefig('D3fh regression chart.png')"
   ]
  },
  {
   "cell_type": "code",
   "execution_count": 63,
   "metadata": {
    "ExecuteTime": {
     "end_time": "2021-12-16T18:53:49.641852Z",
     "start_time": "2021-12-16T18:53:49.622848Z"
    }
   },
   "outputs": [
    {
     "data": {
      "text/html": [
       "<div>\n",
       "<style scoped>\n",
       "    .dataframe tbody tr th:only-of-type {\n",
       "        vertical-align: middle;\n",
       "    }\n",
       "\n",
       "    .dataframe tbody tr th {\n",
       "        vertical-align: top;\n",
       "    }\n",
       "\n",
       "    .dataframe thead th {\n",
       "        text-align: right;\n",
       "    }\n",
       "</style>\n",
       "<table border=\"1\" class=\"dataframe\">\n",
       "  <thead>\n",
       "    <tr style=\"text-align: right;\">\n",
       "      <th></th>\n",
       "      <th>Dfh_LL</th>\n",
       "      <th>Dfh_dates</th>\n",
       "    </tr>\n",
       "  </thead>\n",
       "  <tbody>\n",
       "    <tr>\n",
       "      <th>0</th>\n",
       "      <td>35.3</td>\n",
       "      <td>10650</td>\n",
       "    </tr>\n",
       "    <tr>\n",
       "      <th>1</th>\n",
       "      <td>74.4</td>\n",
       "      <td>10050</td>\n",
       "    </tr>\n",
       "    <tr>\n",
       "      <th>2</th>\n",
       "      <td>61.2</td>\n",
       "      <td>9300</td>\n",
       "    </tr>\n",
       "  </tbody>\n",
       "</table>\n",
       "</div>"
      ],
      "text/plain": [
       "   Dfh_LL  Dfh_dates\n",
       "0    35.3      10650\n",
       "1    74.4      10050\n",
       "2    61.2       9300"
      ]
     },
     "execution_count": 63,
     "metadata": {},
     "output_type": "execute_result"
    }
   ],
   "source": [
    "Dfh_LL = [35.3, 74.4, 61.2]\n",
    "Dfh_dates = [10650, 10050, 9300]\n",
    "\n",
    "#create dataset\n",
    "Dfhgrp_df = pd.DataFrame({'Dfh_LL': Dfh_LL,\n",
    "                          'Dfh_dates': Dfh_dates})\n",
    "#view dataset\n",
    "Dfhgrp_df"
   ]
  },
  {
   "cell_type": "code",
   "execution_count": 64,
   "metadata": {
    "ExecuteTime": {
     "end_time": "2021-12-16T18:54:01.328902Z",
     "start_time": "2021-12-16T18:54:01.095848Z"
    }
   },
   "outputs": [
    {
     "name": "stdout",
     "output_type": "stream",
     "text": [
      "slope = -0.02 (+/-) 0.02\n",
      "y-intercept = 233.74 (+/-) 235.37\n"
     ]
    },
    {
     "data": {
      "image/png": "[encoded data removed]",
      "text/plain": [
       "<Figure size 864x864 with 1 Axes>"
      ]
     },
     "metadata": {
      "needs_background": "light"
     },
     "output_type": "display_data"
    }
   ],
   "source": [
    "fig = plt.figure(figsize=(12,12))\n",
    "gs = GridSpec(1,1)\n",
    "ax1 = fig.add_subplot(gs[0])\n",
    "\n",
    "ax1.plot(Dfhgrp_df.Dfh_dates, Dfhgrp_df.Dfh_LL, \"ko\", markersize=7)    \n",
    "\n",
    "# popt_linear: this contains the fitting parameters\n",
    "# pcov_linear: estimated covariance of the fitting paramters\n",
    "popt_linear, pcov_linear = scipy.optimize.curve_fit(linear, Dfhgrp_df.Dfh_dates, Dfhgrp_df.Dfh_LL)\n",
    "perr_linear = np.sqrt(np.diag(pcov_linear))\n",
    "print (\"slope = %0.2f (+/-) %0.2f\" % (popt_linear[0], perr_linear[0]))\n",
    "print( \"y-intercept = %0.2f (+/-) %0.2f\" %(popt_linear[1], perr_linear[1]))\n",
    "\n",
    "ax1.plot(Dfhgrp_df.Dfh_dates, linear(Dfhgrp_df.Dfh_dates, *popt_linear), 'r--', label=\"y= %0.2fx + %0.2f\" % (popt_linear[0], popt_linear[1]))\n",
    "\n",
    "ax1.set_xlim(11000,9000)\n",
    "ax1.set_ylim(0,100)\n",
    "\n",
    "ax1.set_title(\"%LL Over Time (D Groups less Flat Hills outlier)\", fontsize=22)\n",
    "ax1.set_ylabel(\"%LL\",  fontsize=20)\n",
    "ax1.set_xlabel(\"Radiocarbon years\",  fontsize=18)\n",
    "ax1.legend(loc='best', fontsize=16)\n",
    "\n",
    "fig.tight_layout()\n",
    "   \n",
    "plt.savefig('Dfh LL.png')"
   ]
  },
  {
   "cell_type": "code",
   "execution_count": 65,
   "metadata": {
    "ExecuteTime": {
     "end_time": "2021-12-16T18:54:16.548198Z",
     "start_time": "2021-12-16T18:54:16.527193Z"
    }
   },
   "outputs": [
    {
     "name": "stdout",
     "output_type": "stream",
     "text": [
      "                            OLS Regression Results                            \n",
      "==============================================================================\n",
      "Dep. Variable:                 Dfh_LL   R-squared:                       0.361\n",
      "Model:                            OLS   Adj. R-squared:                 -0.277\n",
      "Method:                 Least Squares   F-statistic:                    0.5658\n",
      "Date:                Thu, 16 Dec 2021   Prob (F-statistic):              0.589\n",
      "Time:                        10:54:16   Log-Likelihood:                -11.947\n",
      "No. Observations:                   3   AIC:                             27.89\n",
      "Df Residuals:                       1   BIC:                             26.09\n",
      "Df Model:                           1                                         \n",
      "Covariance Type:            nonrobust                                         \n",
      "==============================================================================\n",
      "                 coef    std err          t      P>|t|      [0.025      0.975]\n",
      "------------------------------------------------------------------------------\n",
      "Intercept    233.7426    235.368      0.993      0.502   -2756.892    3224.378\n",
      "Dfh_dates     -0.0177      0.024     -0.752      0.589      -0.316       0.281\n",
      "==============================================================================\n",
      "Omnibus:                          nan   Durbin-Watson:                   2.992\n",
      "Prob(Omnibus):                    nan   Jarque-Bera (JB):                0.522\n",
      "Skew:                           0.694   Prob(JB):                        0.770\n",
      "Kurtosis:                       1.500   Cond. No.                     1.82e+05\n",
      "==============================================================================\n",
      "\n",
      "Warnings:\n",
      "[1] Standard Errors assume that the covariance matrix of the errors is correctly specified.\n",
      "[2] The condition number is large, 1.82e+05. This might indicate that there are\n",
      "strong multicollinearity or other numerical problems.\n"
     ]
    },
    {
     "name": "stderr",
     "output_type": "stream",
     "text": [
      "C:\\ProgramData\\Anaconda3\\lib\\site-packages\\statsmodels\\stats\\stattools.py:71: ValueWarning: omni_normtest is not valid with less than 8 observations; 3 samples were given.\n",
      "  \"samples were given.\" % int(n), ValueWarning)\n"
     ]
    }
   ],
   "source": [
    "#fit multiple linear regression model\n",
    "Dfh_model = ols('Dfh_LL ~ Dfh_dates', data=Dfhgrp_df).fit()\n",
    "\n",
    "#view model summary\n",
    "print(Dfh_model.summary())"
   ]
  },
  {
   "cell_type": "code",
   "execution_count": 66,
   "metadata": {
    "ExecuteTime": {
     "end_time": "2021-12-16T18:54:27.675855Z",
     "start_time": "2021-12-16T18:54:27.671854Z"
    }
   },
   "outputs": [
    {
     "name": "stdout",
     "output_type": "stream",
     "text": [
      "Dfh Pearson's r:           -0.601\n",
      "Dfh Pearson's r, p value:  0.5894\n",
      "--------------------------------\n"
     ]
    }
   ],
   "source": [
    "Dfh_pearson_r, Dfh_pearson_r_pval = stats.pearsonr(Dfh_LL, Dfh_dates)\n",
    "print(\"Dfh Pearson's r:          \", str(round(Dfh_pearson_r, 3)))\n",
    "print(\"Dfh Pearson's r, p value: \", str(round(Dfh_pearson_r_pval, 4)))\n",
    "print(\"--------------------------------\")"
   ]
  },
  {
   "cell_type": "code",
   "execution_count": 67,
   "metadata": {
    "ExecuteTime": {
     "end_time": "2021-12-16T18:54:35.429848Z",
     "start_time": "2021-12-16T18:54:35.413844Z"
    }
   },
   "outputs": [
    {
     "name": "stdout",
     "output_type": "stream",
     "text": [
      "Dfh Spearman's r:           -0.5\n",
      "Dfh Spearman's r, p value:  0.6667\n"
     ]
    }
   ],
   "source": [
    "Dfh_spearman_r, Dfh_spearman_r_pval = stats.spearmanr(Dfh_LL, Dfh_dates)\n",
    "print(\"Dfh Spearman's r:          \", str(round(Dfh_spearman_r, 3)))\n",
    "print(\"Dfh Spearman's r, p value: \", str(round(Dfh_spearman_r_pval, 4)))"
   ]
  },
  {
   "cell_type": "code",
   "execution_count": null,
   "metadata": {},
   "outputs": [],
   "source": []
  }
 ],
 "metadata": {
  "kernelspec": {
   "display_name": "Python 3.7.6 64-bit ('base')",
   "language": "python",
   "name": "python37664bitbased8e3534a00c646cc9f91e1fe3a0fa8ec"
  },
  "language_info": {
   "codemirror_mode": {
    "name": "ipython",
    "version": 3
   },
   "file_extension": ".py",
   "mimetype": "text/x-python",
   "name": "python",
   "nbconvert_exporter": "python",
   "pygments_lexer": "ipython3",
   "version": "3.7.6"
  }
 },
 "nbformat": 4,
 "nbformat_minor": 5
}
