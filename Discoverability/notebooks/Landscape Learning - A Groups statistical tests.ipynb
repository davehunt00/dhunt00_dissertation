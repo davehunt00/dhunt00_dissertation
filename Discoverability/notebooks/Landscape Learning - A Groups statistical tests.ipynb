{
 "cells": [
  {
   "cell_type": "markdown",
   "metadata": {},
   "source": [
    "# Landscape Learning - Discrete Age (A) Groups Statistical Tests"
   ]
  },
  {
   "cell_type": "code",
   "execution_count": 1,
   "metadata": {
    "ExecuteTime": {
     "end_time": "2021-12-18T19:48:21.599715Z",
     "start_time": "2021-12-18T19:48:21.594691Z"
    }
   },
   "outputs": [],
   "source": [
    "# Dave Hunt\n",
    "# University of Washington\n",
    "# December 16, 2021\n",
    "\n",
    "# This notebook runs regression analysis and statistical tests on the Dlist and Olist ranked lists produced to\n",
    "# test Discoverability of toolstone sources surrounding the Old River Bed delta archaeological sites.\n",
    "\n",
    "#  Discoverability/ \n",
    "#    │\n",
    "#    ├──notebooks/\n",
    "#    │   └── Landscape Learning - D Groups statistical tests.ipynb\n",
    "#    │   │\n",
    "#    │   └── Landscape Learning - C Groups statistical tests.ipynb\n",
    "#    │\n",
    "#    │──shapefiles/\n",
    "#    │\n",
    "#    └──Excel/\n",
    "#\n",
    "# Copyright (c) 2021, David Hunt\n",
    "# All rights reserved.\n",
    "\n",
    "# This source code is licensed under the BSD-style license found in the\n",
    "# LICENSE file in the root directory of this source tree. "
   ]
  },
  {
   "cell_type": "markdown",
   "metadata": {},
   "source": [
    "This notebook is used to perform linear regression on the Discrete Age groups Dlist and Olist data created in the associated Excel spreadsheet. In this notebook, simple linear regression is run on the Dlist and Olist data to ensure \n",
    "its statistical validity.  The results are then used to produce the %LL value for each group.  These %LL values are plotted over time to gauge landscape learning over the time of the Paleoindian occupation of the Old River Bed delta in Utah, USA"
   ]
  },
  {
   "cell_type": "code",
   "execution_count": 2,
   "metadata": {
    "ExecuteTime": {
     "end_time": "2021-12-18T19:48:24.115595Z",
     "start_time": "2021-12-18T19:48:22.678911Z"
    }
   },
   "outputs": [],
   "source": [
    "# included Python libraries\n",
    "import statsmodels.api as sm\n",
    "from statsmodels.compat import lzip\n",
    "import statsmodels.stats.api as sms\n",
    "from statsmodels.formula.api import ols\n",
    "from statsmodels.sandbox.stats.runs import runstest_1samp \n",
    "\n",
    "from matplotlib import pyplot as plt\n",
    "from matplotlib.gridspec import GridSpec\n",
    "from matplotlib.ticker import AutoMinorLocator\n",
    "import matplotlib.ticker as ticker\n",
    "\n",
    "import scipy as scipy\n",
    "from scipy import stats\n",
    "from scipy.stats import shapiro\n",
    "\n",
    "import numpy as np\n",
    "import pandas as pd"
   ]
  },
  {
   "cell_type": "code",
   "execution_count": 3,
   "metadata": {
    "ExecuteTime": {
     "end_time": "2021-12-18T19:48:25.598216Z",
     "start_time": "2021-12-18T19:48:25.595215Z"
    }
   },
   "outputs": [],
   "source": [
    "# function that returns a line with equation mx+b \n",
    "def linear(x, m, b):\n",
    "    return m*x + b"
   ]
  },
  {
   "cell_type": "code",
   "execution_count": 4,
   "metadata": {
    "ExecuteTime": {
     "end_time": "2021-12-18T19:48:26.068544Z",
     "start_time": "2021-12-18T19:48:26.048539Z"
    }
   },
   "outputs": [],
   "source": [
    "# The A group (A1, A2, A3) Dlists (expected rank orders)\n",
    "a1_dlist = np.array([1,15,6,2,5,11,4,13,7,12,16,10,8,9,14,3])\n",
    "a2_dlist = np.array([2,15,6,3,5,11,4,13,7,12,16,9,8,10,14,1])\n",
    "a3_dlist = np.array([1,15,6,3,4,11,5,13,7,12,16,10,8,9,14,2])\n",
    "\n",
    "# The A Group Olists (actual/observed artifact counts)\n",
    "a1_olist = pd.Series([14,0,5,23,6,2,7,0,117,0,3,3,1,0,0,48])\n",
    "a2_olist = pd.Series([0,0,2,11,0,1,1,0,20,0,0,2,1,0,1,32])\n",
    "a3_olist = pd.Series([1,1,2,11,2,0,1,0,38,0,0,3,0,1,1,37])"
   ]
  },
  {
   "cell_type": "code",
   "execution_count": 5,
   "metadata": {
    "ExecuteTime": {
     "end_time": "2021-12-18T19:48:30.658758Z",
     "start_time": "2021-12-18T19:48:30.643754Z"
    }
   },
   "outputs": [],
   "source": [
    "a1_olist_rank = a1_olist.rank(ascending = False)\n",
    "a2_olist_rank = a2_olist.rank(ascending = False)\n",
    "a3_olist_rank = a3_olist.rank(ascending = False)\n",
    "\n",
    "#print(a1_olist_rank)\n",
    "#print(a2_olist_rank)\n",
    "#print(a3_olist_rank)"
   ]
  },
  {
   "cell_type": "code",
   "execution_count": 6,
   "metadata": {
    "ExecuteTime": {
     "end_time": "2021-12-18T19:49:28.701031Z",
     "start_time": "2021-12-18T19:49:28.687720Z"
    }
   },
   "outputs": [
    {
     "name": "stdout",
     "output_type": "stream",
     "text": [
      "A1 Pearson's r:           0.777\n",
      "A1 Pearson's r, p value:  0.0004\n",
      "--------------------------------\n",
      "A2 Pearson's r:           0.502\n",
      "A2 Pearson's r, p value:  0.048\n",
      "--------------------------------\n",
      "A3 Pearson's r:           0.592\n",
      "A3 Pearson's r, p value:  0.016\n"
     ]
    }
   ],
   "source": [
    "# Compare the Dlist and Olist pair for each A group using Pearson's product moment correlation\n",
    "a1_pearson_r, a1_pearson_r_pval = stats.pearsonr(a1_olist_rank, a1_dlist)\n",
    "print(\"A1 Pearson's r:          \", str(round(a1_pearson_r, 3)))\n",
    "print(\"A1 Pearson's r, p value: \", str(round(a1_pearson_r_pval, 4)))\n",
    "print(\"--------------------------------\")\n",
    "a2_pearson_r, a2_pearson_r_pval = stats.pearsonr(a2_olist_rank, a2_dlist)\n",
    "print(\"A2 Pearson's r:          \", str(round(a2_pearson_r, 3)))\n",
    "print(\"A2 Pearson's r, p value: \", str(round(a2_pearson_r_pval, 3)))\n",
    "print(\"--------------------------------\")\n",
    "a3_pearson_r, a3_pearson_r_pval = stats.pearsonr(a3_olist_rank, a3_dlist)\n",
    "print(\"A3 Pearson's r:          \", str(round(a3_pearson_r, 3)))\n",
    "print(\"A3 Pearson's r, p value: \", str(round(a3_pearson_r_pval, 3)))"
   ]
  },
  {
   "cell_type": "code",
   "execution_count": 7,
   "metadata": {
    "ExecuteTime": {
     "end_time": "2021-12-18T19:50:31.424232Z",
     "start_time": "2021-12-18T19:50:31.396218Z"
    }
   },
   "outputs": [
    {
     "name": "stdout",
     "output_type": "stream",
     "text": [
      "A1 Spearman's r:           0.777\n",
      "A1 Spearman's r, p value:  0.0004\n",
      "--------------------------------\n",
      "A2 Spearman's r:           0.502\n",
      "A2 Spearman's r, p value:  0.048\n",
      "--------------------------------\n",
      "A3 Spearman's r:           0.592\n",
      "A3 Spearman's r, p value:  0.016\n"
     ]
    }
   ],
   "source": [
    "# Compare the Dlist and Olist pair for each A group using Spearmans's rank-order correlation\n",
    "a1_spearman_r, a1_spearman_r_pval = stats.spearmanr(a1_olist_rank, a1_dlist)\n",
    "print(\"A1 Spearman's r:          \", str(round(a1_spearman_r, 3)))\n",
    "print(\"A1 Spearman's r, p value: \", str(round(a1_spearman_r_pval, 4)))\n",
    "print(\"--------------------------------\")\n",
    "a2_spearman_r, a2_spearman_r_pval = stats.spearmanr(a2_olist_rank, a2_dlist)\n",
    "print(\"A2 Spearman's r:          \", str(round(a2_spearman_r, 3)))\n",
    "print(\"A2 Spearman's r, p value: \", str(round(a2_spearman_r_pval, 3)))\n",
    "print(\"--------------------------------\")\n",
    "a3_spearman_r, a3_spearman_r_pval = stats.spearmanr(a3_olist_rank, a3_dlist)\n",
    "print(\"A3 Spearman's r:          \", str(round(a3_spearman_r, 3)))\n",
    "print(\"A3 Spearman's r, p value: \", str(round(a3_spearman_r_pval, 3)))"
   ]
  },
  {
   "cell_type": "code",
   "execution_count": 8,
   "metadata": {
    "ExecuteTime": {
     "end_time": "2021-12-18T19:51:52.771840Z",
     "start_time": "2021-12-18T19:51:52.741759Z"
    }
   },
   "outputs": [
    {
     "name": "stdout",
     "output_type": "stream",
     "text": [
      "[1, 15, 6, 2, 5, 11, 4, 13, 7, 12, 16, 10, 8, 9, 14, 3]\n",
      "[4.0, 14.0, 7.0, 3.0, 6.0, 10.0, 5.0, 14.0, 1.0, 14.0, 8.5, 8.5, 11.0, 14.0, 14.0, 2.0]\n"
     ]
    },
    {
     "data": {
      "text/html": [
       "<div>\n",
       "<style scoped>\n",
       "    .dataframe tbody tr th:only-of-type {\n",
       "        vertical-align: middle;\n",
       "    }\n",
       "\n",
       "    .dataframe tbody tr th {\n",
       "        vertical-align: top;\n",
       "    }\n",
       "\n",
       "    .dataframe thead th {\n",
       "        text-align: right;\n",
       "    }\n",
       "</style>\n",
       "<table border=\"1\" class=\"dataframe\">\n",
       "  <thead>\n",
       "    <tr style=\"text-align: right;\">\n",
       "      <th></th>\n",
       "      <th>a1_x</th>\n",
       "      <th>a1_y</th>\n",
       "      <th>a2_x</th>\n",
       "      <th>a2_y</th>\n",
       "      <th>a3_x</th>\n",
       "      <th>a3_y</th>\n",
       "    </tr>\n",
       "  </thead>\n",
       "  <tbody>\n",
       "    <tr>\n",
       "      <th>0</th>\n",
       "      <td>1</td>\n",
       "      <td>4.0</td>\n",
       "      <td>2</td>\n",
       "      <td>13.0</td>\n",
       "      <td>1</td>\n",
       "      <td>9.0</td>\n",
       "    </tr>\n",
       "    <tr>\n",
       "      <th>1</th>\n",
       "      <td>15</td>\n",
       "      <td>14.0</td>\n",
       "      <td>15</td>\n",
       "      <td>13.0</td>\n",
       "      <td>15</td>\n",
       "      <td>9.0</td>\n",
       "    </tr>\n",
       "    <tr>\n",
       "      <th>2</th>\n",
       "      <td>6</td>\n",
       "      <td>7.0</td>\n",
       "      <td>6</td>\n",
       "      <td>4.5</td>\n",
       "      <td>6</td>\n",
       "      <td>5.5</td>\n",
       "    </tr>\n",
       "    <tr>\n",
       "      <th>3</th>\n",
       "      <td>2</td>\n",
       "      <td>3.0</td>\n",
       "      <td>3</td>\n",
       "      <td>3.0</td>\n",
       "      <td>3</td>\n",
       "      <td>3.0</td>\n",
       "    </tr>\n",
       "    <tr>\n",
       "      <th>4</th>\n",
       "      <td>5</td>\n",
       "      <td>6.0</td>\n",
       "      <td>5</td>\n",
       "      <td>13.0</td>\n",
       "      <td>4</td>\n",
       "      <td>5.5</td>\n",
       "    </tr>\n",
       "    <tr>\n",
       "      <th>5</th>\n",
       "      <td>11</td>\n",
       "      <td>10.0</td>\n",
       "      <td>11</td>\n",
       "      <td>7.5</td>\n",
       "      <td>11</td>\n",
       "      <td>14.0</td>\n",
       "    </tr>\n",
       "    <tr>\n",
       "      <th>6</th>\n",
       "      <td>4</td>\n",
       "      <td>5.0</td>\n",
       "      <td>4</td>\n",
       "      <td>7.5</td>\n",
       "      <td>5</td>\n",
       "      <td>9.0</td>\n",
       "    </tr>\n",
       "    <tr>\n",
       "      <th>7</th>\n",
       "      <td>13</td>\n",
       "      <td>14.0</td>\n",
       "      <td>13</td>\n",
       "      <td>13.0</td>\n",
       "      <td>13</td>\n",
       "      <td>14.0</td>\n",
       "    </tr>\n",
       "    <tr>\n",
       "      <th>8</th>\n",
       "      <td>7</td>\n",
       "      <td>1.0</td>\n",
       "      <td>7</td>\n",
       "      <td>2.0</td>\n",
       "      <td>7</td>\n",
       "      <td>1.0</td>\n",
       "    </tr>\n",
       "    <tr>\n",
       "      <th>9</th>\n",
       "      <td>12</td>\n",
       "      <td>14.0</td>\n",
       "      <td>12</td>\n",
       "      <td>13.0</td>\n",
       "      <td>12</td>\n",
       "      <td>14.0</td>\n",
       "    </tr>\n",
       "    <tr>\n",
       "      <th>10</th>\n",
       "      <td>16</td>\n",
       "      <td>8.5</td>\n",
       "      <td>16</td>\n",
       "      <td>13.0</td>\n",
       "      <td>16</td>\n",
       "      <td>14.0</td>\n",
       "    </tr>\n",
       "    <tr>\n",
       "      <th>11</th>\n",
       "      <td>10</td>\n",
       "      <td>8.5</td>\n",
       "      <td>9</td>\n",
       "      <td>4.5</td>\n",
       "      <td>10</td>\n",
       "      <td>4.0</td>\n",
       "    </tr>\n",
       "    <tr>\n",
       "      <th>12</th>\n",
       "      <td>8</td>\n",
       "      <td>11.0</td>\n",
       "      <td>8</td>\n",
       "      <td>7.5</td>\n",
       "      <td>8</td>\n",
       "      <td>14.0</td>\n",
       "    </tr>\n",
       "    <tr>\n",
       "      <th>13</th>\n",
       "      <td>9</td>\n",
       "      <td>14.0</td>\n",
       "      <td>10</td>\n",
       "      <td>13.0</td>\n",
       "      <td>9</td>\n",
       "      <td>9.0</td>\n",
       "    </tr>\n",
       "    <tr>\n",
       "      <th>14</th>\n",
       "      <td>14</td>\n",
       "      <td>14.0</td>\n",
       "      <td>14</td>\n",
       "      <td>7.5</td>\n",
       "      <td>14</td>\n",
       "      <td>9.0</td>\n",
       "    </tr>\n",
       "    <tr>\n",
       "      <th>15</th>\n",
       "      <td>3</td>\n",
       "      <td>2.0</td>\n",
       "      <td>1</td>\n",
       "      <td>1.0</td>\n",
       "      <td>2</td>\n",
       "      <td>2.0</td>\n",
       "    </tr>\n",
       "  </tbody>\n",
       "</table>\n",
       "</div>"
      ],
      "text/plain": [
       "    a1_x  a1_y  a2_x  a2_y  a3_x  a3_y\n",
       "0      1   4.0     2  13.0     1   9.0\n",
       "1     15  14.0    15  13.0    15   9.0\n",
       "2      6   7.0     6   4.5     6   5.5\n",
       "3      2   3.0     3   3.0     3   3.0\n",
       "4      5   6.0     5  13.0     4   5.5\n",
       "5     11  10.0    11   7.5    11  14.0\n",
       "6      4   5.0     4   7.5     5   9.0\n",
       "7     13  14.0    13  13.0    13  14.0\n",
       "8      7   1.0     7   2.0     7   1.0\n",
       "9     12  14.0    12  13.0    12  14.0\n",
       "10    16   8.5    16  13.0    16  14.0\n",
       "11    10   8.5     9   4.5    10   4.0\n",
       "12     8  11.0     8   7.5     8  14.0\n",
       "13     9  14.0    10  13.0     9   9.0\n",
       "14    14  14.0    14   7.5    14   9.0\n",
       "15     3   2.0     1   1.0     2   2.0"
      ]
     },
     "execution_count": 8,
     "metadata": {},
     "output_type": "execute_result"
    }
   ],
   "source": [
    "# Form the lists into a Pandas dataframe\n",
    "\n",
    "a1_dlist = np.array([1,15,6,2,5,11,4,13,7,12,16,10,8,9,14,3]).reshape((-1, 1))\n",
    "a2_dlist = np.array([2,15,6,3,5,11,4,13,7,12,16,9,8,10,14,1]).reshape((-1, 1))\n",
    "a3_dlist = np.array([1,15,6,3,4,11,5,13,7,12,16,10,8,9,14,2]).reshape((-1, 1))\n",
    "\n",
    "a1_x = list(np.concatenate(a1_dlist).flat)\n",
    "a2_x = list(np.concatenate(a2_dlist).flat)\n",
    "a3_x = list(np.concatenate(a3_dlist).flat)\n",
    "print(a1_x)\n",
    "\n",
    "a1_y = a1_olist_rank.tolist()\n",
    "a2_y = a2_olist_rank.tolist()\n",
    "a3_y = a3_olist_rank.tolist()\n",
    "print(a1_y)\n",
    "\n",
    "#create dataset\n",
    "A_df = pd.DataFrame({'a1_x': a1_x,\n",
    "                     'a1_y': a1_y,\n",
    "                     'a2_x': a2_x,\n",
    "                     'a2_y': a2_y,\n",
    "                     'a3_x': a3_x,\n",
    "                     'a3_y': a3_y})\n",
    "#view dataset\n",
    "A_df"
   ]
  },
  {
   "cell_type": "markdown",
   "metadata": {},
   "source": [
    "## Run regression on each group"
   ]
  },
  {
   "cell_type": "code",
   "execution_count": 9,
   "metadata": {
    "ExecuteTime": {
     "end_time": "2021-12-18T19:52:23.008745Z",
     "start_time": "2021-12-18T19:52:22.965203Z"
    },
    "scrolled": false
   },
   "outputs": [
    {
     "name": "stdout",
     "output_type": "stream",
     "text": [
      "                            OLS Regression Results                            \n",
      "==============================================================================\n",
      "Dep. Variable:                   a1_y   R-squared:                       0.603\n",
      "Model:                            OLS   Adj. R-squared:                  0.575\n",
      "Method:                 Least Squares   F-statistic:                     21.30\n",
      "Date:                Sat, 18 Dec 2021   Prob (F-statistic):           0.000401\n",
      "Time:                        11:52:22   Log-Likelihood:                -39.504\n",
      "No. Observations:                  16   AIC:                             83.01\n",
      "Df Residuals:                      14   BIC:                             84.55\n",
      "Df Model:                           1                                         \n",
      "Covariance Type:            nonrobust                                         \n",
      "==============================================================================\n",
      "                 coef    std err          t      P>|t|      [0.025      0.975]\n",
      "------------------------------------------------------------------------------\n",
      "Intercept      2.0000      1.602      1.248      0.232      -1.436       5.436\n",
      "a1_x           0.7647      0.166      4.615      0.000       0.409       1.120\n",
      "==============================================================================\n",
      "Omnibus:                        3.106   Durbin-Watson:                   2.333\n",
      "Prob(Omnibus):                  0.212   Jarque-Bera (JB):                1.431\n",
      "Skew:                          -0.711   Prob(JB):                        0.489\n",
      "Kurtosis:                       3.356   Cond. No.                         20.5\n",
      "==============================================================================\n",
      "\n",
      "Warnings:\n",
      "[1] Standard Errors assume that the covariance matrix of the errors is correctly specified.\n"
     ]
    },
    {
     "name": "stderr",
     "output_type": "stream",
     "text": [
      "C:\\ProgramData\\Anaconda3\\lib\\site-packages\\scipy\\stats\\stats.py:1535: UserWarning: kurtosistest only valid for n>=20 ... continuing anyway, n=16\n",
      "  \"anyway, n=%i\" % int(n))\n"
     ]
    }
   ],
   "source": [
    "#fit multiple linear regression model\n",
    "A1_model = ols('a1_y ~ a1_x', data=A_df).fit()\n",
    "print(A1_model.summary())"
   ]
  },
  {
   "cell_type": "code",
   "execution_count": 10,
   "metadata": {
    "ExecuteTime": {
     "end_time": "2021-12-18T19:52:40.568226Z",
     "start_time": "2021-12-18T19:52:40.544221Z"
    }
   },
   "outputs": [
    {
     "name": "stdout",
     "output_type": "stream",
     "text": [
      "                            OLS Regression Results                            \n",
      "==============================================================================\n",
      "Dep. Variable:                   a2_y   R-squared:                       0.252\n",
      "Model:                            OLS   Adj. R-squared:                  0.198\n",
      "Method:                 Least Squares   F-statistic:                     4.713\n",
      "Date:                Sat, 18 Dec 2021   Prob (F-statistic):             0.0476\n",
      "Time:                        11:52:40   Log-Likelihood:                -44.003\n",
      "No. Observations:                  16   AIC:                             92.01\n",
      "Df Residuals:                      14   BIC:                             93.55\n",
      "Df Model:                           1                                         \n",
      "Covariance Type:            nonrobust                                         \n",
      "==============================================================================\n",
      "                 coef    std err          t      P>|t|      [0.025      0.975]\n",
      "------------------------------------------------------------------------------\n",
      "Intercept      4.4500      2.122      2.097      0.055      -0.102       9.002\n",
      "a2_x           0.4765      0.219      2.171      0.048       0.006       0.947\n",
      "==============================================================================\n",
      "Omnibus:                        0.959   Durbin-Watson:                   2.089\n",
      "Prob(Omnibus):                  0.619   Jarque-Bera (JB):                0.866\n",
      "Skew:                           0.384   Prob(JB):                        0.648\n",
      "Kurtosis:                       2.158   Cond. No.                         20.5\n",
      "==============================================================================\n",
      "\n",
      "Warnings:\n",
      "[1] Standard Errors assume that the covariance matrix of the errors is correctly specified.\n"
     ]
    }
   ],
   "source": [
    "#fit multiple linear regression model\n",
    "A2_model = ols('a2_y ~ a2_x', data=A_df).fit()\n",
    "print(A2_model.summary())"
   ]
  },
  {
   "cell_type": "code",
   "execution_count": 11,
   "metadata": {
    "ExecuteTime": {
     "end_time": "2021-12-18T19:52:52.656741Z",
     "start_time": "2021-12-18T19:52:52.642687Z"
    }
   },
   "outputs": [
    {
     "name": "stdout",
     "output_type": "stream",
     "text": [
      "                            OLS Regression Results                            \n",
      "==============================================================================\n",
      "Dep. Variable:                   a3_y   R-squared:                       0.350\n",
      "Model:                            OLS   Adj. R-squared:                  0.304\n",
      "Method:                 Least Squares   F-statistic:                     7.540\n",
      "Date:                Sat, 18 Dec 2021   Prob (F-statistic):             0.0158\n",
      "Time:                        11:52:52   Log-Likelihood:                -43.210\n",
      "No. Observations:                  16   AIC:                             90.42\n",
      "Df Residuals:                      14   BIC:                             91.96\n",
      "Df Model:                           1                                         \n",
      "Covariance Type:            nonrobust                                         \n",
      "==============================================================================\n",
      "                 coef    std err          t      P>|t|      [0.025      0.975]\n",
      "------------------------------------------------------------------------------\n",
      "Intercept      3.6250      2.020      1.795      0.094      -0.707       7.957\n",
      "a3_x           0.5735      0.209      2.746      0.016       0.126       1.022\n",
      "==============================================================================\n",
      "Omnibus:                        1.188   Durbin-Watson:                   2.408\n",
      "Prob(Omnibus):                  0.552   Jarque-Bera (JB):                0.789\n",
      "Skew:                          -0.108   Prob(JB):                        0.674\n",
      "Kurtosis:                       1.934   Cond. No.                         20.5\n",
      "==============================================================================\n",
      "\n",
      "Warnings:\n",
      "[1] Standard Errors assume that the covariance matrix of the errors is correctly specified.\n"
     ]
    }
   ],
   "source": [
    "#fit multiple linear regression model\n",
    "A3_model = ols('a3_y ~ a3_x', data=A_df).fit()\n",
    "print(A3_model.summary())"
   ]
  },
  {
   "cell_type": "code",
   "execution_count": 14,
   "metadata": {
    "ExecuteTime": {
     "end_time": "2021-12-18T19:56:47.046245Z",
     "start_time": "2021-12-18T19:56:46.783226Z"
    },
    "scrolled": false
   },
   "outputs": [
    {
     "name": "stdout",
     "output_type": "stream",
     "text": [
      "slope = 0.76 (+/-) 0.17\n",
      "y-intercept = 2.00 (+/-) 1.60\n"
     ]
    },
    {
     "data": {
      "image/png": "[encoded data removed]",
      "text/plain": [
       "<Figure size 864x864 with 1 Axes>"
      ]
     },
     "metadata": {
      "needs_background": "light"
     },
     "output_type": "display_data"
    }
   ],
   "source": [
    "# A1 Dlist v Olist\n",
    "# fits the data to a line and plots it\n",
    "fig = plt.figure(figsize=(12,12))\n",
    "gs = GridSpec(1,1)\n",
    "ax1 = fig.add_subplot(gs[0])\n",
    "\n",
    "ax1.plot(A_df.a1_x, A_df.a1_y, \"ko\", markersize=7)    \n",
    "\n",
    "# popt_linear: this contains the fitting parameters\n",
    "# pcov_linear: estimated covariance of the fitting paramters\n",
    "popt_linear, pcov_linear = scipy.optimize.curve_fit(linear, A_df.a1_x, A_df.a1_y)\n",
    "perr_linear = np.sqrt(np.diag(pcov_linear))\n",
    "print (\"slope = %0.2f (+/-) %0.2f\" % (popt_linear[0], perr_linear[0]))\n",
    "print( \"y-intercept = %0.2f (+/-) %0.2f\" %(popt_linear[1], perr_linear[1]))\n",
    "\n",
    "ax1.plot(A_df.a1_x, linear(A_df.a1_x, *popt_linear), 'r--', label=\"y= %0.2fx + %0.2f\" % (popt_linear[0], popt_linear[1]))\n",
    "ax1.set_xlim(0,16.5)\n",
    "ax1.set_ylim(0,16.5)\n",
    "\n",
    "ax1.set_title(\"A1: Dlist v. Olist Ranks\", fontsize=22)\n",
    "ax1.set_xlabel(\"Dlist Ranks\",  fontsize=18)\n",
    "ax1.set_ylabel(\"Olist Ranks\",  fontsize=20)\n",
    "ax1.legend(loc='best', fontsize=16)\n",
    "\n",
    "ax1.xaxis.set_major_locator(ticker.MultipleLocator(1))\n",
    "ax1.yaxis.set_major_locator(ticker.MultipleLocator(1))\n",
    "ax1.tick_params(axis='both',which='major', direction=\"out\", bottom=\"on\", length=8, labelsize=14)\n",
    "ax1.tick_params(axis='both',which='minor', direction=\"out\", bottom=\"on\", length=5, labelsize=14)\n",
    "\n",
    "fig.tight_layout()\n",
    "\n",
    "plt.annotate(\"Malad\",               # this is the text\n",
    "        (16,8.5),                   # these are the coordinates to position the label\n",
    "        textcoords=\"offset points\", # how to position the text\n",
    "        size=18,\n",
    "        xytext=(-10,10),            # distance from text to points (x,y)\n",
    "        ha='center')                # horizontal alignment can be left, right or center    \n",
    "\n",
    "plt.annotate(\"Flat Hills\",          # this is the text\n",
    "        (7,1),                      # these are the coordinates to position the label\n",
    "        textcoords=\"offset points\", # how to position the text\n",
    "        size=18,\n",
    "        xytext=(-5,10),             # distance from text to points (x,y)\n",
    "        ha='center')                # horizontal alignment can be left, right or center\n",
    "    \n",
    "plt.savefig('A1 regression chart.png')"
   ]
  },
  {
   "cell_type": "code",
   "execution_count": 15,
   "metadata": {
    "ExecuteTime": {
     "end_time": "2021-12-18T19:56:58.238796Z",
     "start_time": "2021-12-18T19:56:57.971737Z"
    }
   },
   "outputs": [
    {
     "name": "stdout",
     "output_type": "stream",
     "text": [
      "slope = 0.48 (+/-) 0.22\n",
      "y-intercept = 4.45 (+/-) 2.12\n"
     ]
    },
    {
     "data": {
      "image/png": "[encoded data removed]",
      "text/plain": [
       "<Figure size 864x864 with 1 Axes>"
      ]
     },
     "metadata": {
      "needs_background": "light"
     },
     "output_type": "display_data"
    }
   ],
   "source": [
    "# A2 Dlist v Olist\n",
    "# fits the data to a line and plots it   \n",
    "fig = plt.figure(figsize=(12,12))\n",
    "gs = GridSpec(1,1)\n",
    "ax1 = fig.add_subplot(gs[0])\n",
    "\n",
    "ax1.plot(A_df.a2_x, A_df.a2_y, \"ko\", markersize=7)    \n",
    "\n",
    "# popt_linear: this contains the fitting parameters\n",
    "# pcov_linear: estimated covariance of the fitting paramters\n",
    "popt_linear, pcov_linear = scipy.optimize.curve_fit(linear, A_df.a2_x, A_df.a2_y)\n",
    "perr_linear = np.sqrt(np.diag(pcov_linear))\n",
    "print (\"slope = %0.2f (+/-) %0.2f\" % (popt_linear[0], perr_linear[0]))\n",
    "print( \"y-intercept = %0.2f (+/-) %0.2f\" %(popt_linear[1], perr_linear[1]))\n",
    "\n",
    "ax1.plot(A_df.a2_x, linear(A_df.a2_x, *popt_linear), 'r--', label=\"y= %0.2fx + %0.2f\" % (popt_linear[0], popt_linear[1]))\n",
    "ax1.set_xlim(0,16.5)\n",
    "ax1.set_ylim(0,16.5)\n",
    "\n",
    "ax1.set_title(\"A2: Dlist v. Olist Ranks\", fontsize=22)\n",
    "ax1.set_xlabel(\"Dlist Ranks\",  fontsize=18)\n",
    "ax1.set_ylabel(\"Olist Ranks\",  fontsize=20)\n",
    "ax1.legend(loc='best', fontsize=16)\n",
    "\n",
    "ax1.xaxis.set_major_locator(ticker.MultipleLocator(1))\n",
    "ax1.yaxis.set_major_locator(ticker.MultipleLocator(1))\n",
    "ax1.tick_params(axis='both',which='major', direction=\"out\", bottom=\"on\", length=8, labelsize=14)\n",
    "ax1.tick_params(axis='both',which='minor', direction=\"out\", bottom=\"on\", length=5, labelsize=14)\n",
    "\n",
    "fig.tight_layout()\n",
    "\n",
    "plt.annotate(\"Badlands\",            # this is the text\n",
    "        (2.5,13.2),                 # these are the coordinates to position the label\n",
    "        textcoords=\"offset points\", # how to position the text\n",
    "        size=18,\n",
    "        xytext=(-10,10),            # distance from text to points (x,y)\n",
    "        ha='center')                # horizontal alignment can be left, right or center    \n",
    "    \n",
    "plt.savefig('A2 regression chart.png')"
   ]
  },
  {
   "cell_type": "code",
   "execution_count": 16,
   "metadata": {
    "ExecuteTime": {
     "end_time": "2021-12-18T19:59:17.823804Z",
     "start_time": "2021-12-18T19:59:17.522229Z"
    }
   },
   "outputs": [
    {
     "name": "stdout",
     "output_type": "stream",
     "text": [
      "slope = 0.57 (+/-) 0.21\n",
      "y-intercept = 3.63 (+/-) 2.02\n"
     ]
    },
    {
     "data": {
      "image/png": "[encoded data removed]",
      "text/plain": [
       "<Figure size 864x864 with 1 Axes>"
      ]
     },
     "metadata": {
      "needs_background": "light"
     },
     "output_type": "display_data"
    }
   ],
   "source": [
    "# A3 Dlist v Olist\n",
    "# fits the data to a line and plots it\n",
    "fig = plt.figure(figsize=(12,12))\n",
    "gs = GridSpec(1,1)\n",
    "ax1 = fig.add_subplot(gs[0])\n",
    "\n",
    "ax1.plot(A_df.a3_x, A_df.a3_y, \"ko\", markersize=7)    \n",
    "\n",
    "# popt_linear: this contains the fitting parameters\n",
    "# pcov_linear: estimated covariance of the fitting paramters\n",
    "popt_linear, pcov_linear = scipy.optimize.curve_fit(linear, A_df.a3_x, A_df.a3_y)\n",
    "perr_linear = np.sqrt(np.diag(pcov_linear))\n",
    "print (\"slope = %0.2f (+/-) %0.2f\" % (popt_linear[0], perr_linear[0]))\n",
    "print( \"y-intercept = %0.2f (+/-) %0.2f\" %(popt_linear[1], perr_linear[1]))\n",
    "\n",
    "ax1.plot(A_df.a3_x, linear(A_df.a3_x, *popt_linear), 'r--', label=\"y= %0.2fx + %0.2f\" % (popt_linear[0], popt_linear[1]))\n",
    "ax1.set_xlim(0,16.5)\n",
    "ax1.set_ylim(0,16.5)\n",
    "\n",
    "ax1.set_title(\"A3: Dlist v. Olist Ranks\", fontsize=22)\n",
    "ax1.set_xlabel(\"Dlist Ranks\",  fontsize=18)\n",
    "ax1.set_ylabel(\"Olist Ranks\",  fontsize=20)\n",
    "ax1.legend(loc='best', fontsize=16)\n",
    "\n",
    "ax1.xaxis.set_major_locator(ticker.MultipleLocator(1))\n",
    "ax1.yaxis.set_major_locator(ticker.MultipleLocator(1))\n",
    "ax1.tick_params(axis='both',which='major', direction=\"out\", bottom=\"on\", length=8, labelsize=14)\n",
    "ax1.tick_params(axis='both',which='minor', direction=\"out\", bottom=\"on\", length=5, labelsize=14)\n",
    "\n",
    "fig.tight_layout()  \n",
    "plt.savefig('A3 regression chart.png')"
   ]
  },
  {
   "cell_type": "code",
   "execution_count": 17,
   "metadata": {
    "ExecuteTime": {
     "end_time": "2021-12-18T20:00:16.848741Z",
     "start_time": "2021-12-18T20:00:16.830231Z"
    }
   },
   "outputs": [],
   "source": [
    "# get the standardized residuals \n",
    "A1_influence = A1_model.get_influence()\n",
    "A1_standardized_residuals = A1_influence.resid_studentized_internal\n",
    "#print(A1_standardized_residuals)\n",
    "\n",
    "A2_influence = A2_model.get_influence()\n",
    "A2_standardized_residuals = A2_influence.resid_studentized_internal\n",
    "#print(A2_standardized_residuals)\n",
    "\n",
    "A3_influence = A3_model.get_influence()\n",
    "A3_standardized_residuals = A3_influence.resid_studentized_internal\n",
    "#print(A3_standardized_residuals)"
   ]
  },
  {
   "cell_type": "code",
   "execution_count": 19,
   "metadata": {
    "ExecuteTime": {
     "end_time": "2021-12-18T20:01:44.467231Z",
     "start_time": "2021-12-18T20:01:44.234371Z"
    }
   },
   "outputs": [
    {
     "name": "stderr",
     "output_type": "stream",
     "text": [
      "No handles with labels found to put in legend.\n"
     ]
    },
    {
     "data": {
      "image/png": "[encoded data removed]",
      "text/plain": [
       "<Figure size 864x432 with 1 Axes>"
      ]
     },
     "metadata": {
      "needs_background": "light"
     },
     "output_type": "display_data"
    }
   ],
   "source": [
    "# A1 standardized residuals plot\n",
    "sres_fig = plt.figure(figsize=(12,6))\n",
    "gs = GridSpec(1,1)\n",
    "ax1 = sres_fig.add_subplot(gs[0])\n",
    "\n",
    "ax1.plot(A_df.a1_x,A1_standardized_residuals, \"bo\", markersize=7)    \n",
    "ax1.plot([0, 16.5], [0, 0], color='0.7', linestyle='--', linewidth=2)\n",
    "ax1.plot([0, 16.5], [2, 2], color='r', linestyle='--', linewidth=2)\n",
    "ax1.plot([0, 16.5], [-2, -2], color='r', linestyle='--', linewidth=2)\n",
    "\n",
    "ax1.set_xlim(0.5,16.5)\n",
    "ax1.set_ylim(-3.0,3.0)\n",
    "\n",
    "ax1.set_title(\"A1: Standardized Residuals\", fontsize=24)\n",
    "ax1.set_xlabel(\"Dlist Rank\", fontsize=18)\n",
    "ax1.set_ylabel(\"Standard Error\", fontsize=20)\n",
    "ax1.legend(loc='best', fontsize=16)\n",
    "\n",
    "ax1.xaxis.set_major_locator(ticker.MultipleLocator(1))\n",
    "ax1.yaxis.set_major_locator(ticker.MultipleLocator(1))\n",
    "ax1.yaxis.set_minor_locator(AutoMinorLocator(5))\n",
    "ax1.tick_params(axis='both',which='major', direction=\"out\", bottom=\"on\", length=8, labelsize=14)\n",
    "ax1.tick_params(axis='both',which='minor', direction=\"out\", bottom=\"on\", length=5, labelsize=14)\n",
    "\n",
    "sres_fig.tight_layout()\n",
    "\n",
    "plt.annotate(\"Flat Hills\",          \n",
    "        (7,-2.1), \n",
    "        textcoords=\"offset points\", \n",
    "        size=16,\n",
    "        xytext=(-45,-20),\n",
    "        ha='center')    \n",
    "\n",
    "plt.annotate(\"Malad\", \n",
    "        (16,-2.1), \n",
    "        textcoords=\"offset points\", \n",
    "        size=16,\n",
    "        xytext=(-35,-20), \n",
    "        ha='center') \n",
    "\n",
    "plt.savefig('A1 stdres.png')"
   ]
  },
  {
   "cell_type": "code",
   "execution_count": 20,
   "metadata": {
    "ExecuteTime": {
     "end_time": "2021-12-18T20:03:00.119427Z",
     "start_time": "2021-12-18T20:02:59.888376Z"
    }
   },
   "outputs": [
    {
     "name": "stderr",
     "output_type": "stream",
     "text": [
      "No handles with labels found to put in legend.\n"
     ]
    },
    {
     "data": {
      "image/png": "[encoded data removed]",
      "text/plain": [
       "<Figure size 864x432 with 1 Axes>"
      ]
     },
     "metadata": {
      "needs_background": "light"
     },
     "output_type": "display_data"
    }
   ],
   "source": [
    "# A2 standardized residuals plot\n",
    "sres_fig = plt.figure(figsize=(12,6))\n",
    "gs = GridSpec(1,1)\n",
    "ax1 = sres_fig.add_subplot(gs[0])\n",
    "\n",
    "ax1.plot(A_df.a2_x,A2_standardized_residuals, \"bo\", markersize=7)    \n",
    "ax1.plot([0, 16.5], [0, 0], color='0.7', linestyle='--', linewidth=2)\n",
    "ax1.plot([0, 16.5], [2, 2], color='r', linestyle='--', linewidth=2)\n",
    "ax1.plot([0, 16.5], [-2, -2], color='r', linestyle='--', linewidth=2)\n",
    "\n",
    "ax1.set_xlim(0.5,16.5)\n",
    "ax1.set_ylim(-3.0,3.0)\n",
    "\n",
    "ax1.set_title(\"A2: Standardized Residuals\", fontsize=24)\n",
    "ax1.set_xlabel(\"Dlist Rank\", fontsize=18)\n",
    "ax1.set_ylabel(\"Standard Error\", fontsize=20)\n",
    "ax1.legend(loc='best', fontsize=16)\n",
    "\n",
    "ax1.xaxis.set_major_locator(ticker.MultipleLocator(1))\n",
    "ax1.yaxis.set_major_locator(ticker.MultipleLocator(1))\n",
    "ax1.yaxis.set_minor_locator(AutoMinorLocator(5))\n",
    "ax1.tick_params(axis='both',which='major', direction=\"out\", bottom=\"on\", length=8, labelsize=14)\n",
    "ax1.tick_params(axis='both',which='minor', direction=\"out\", bottom=\"on\", length=5, labelsize=14)\n",
    "\n",
    "sres_fig.tight_layout()\n",
    "\n",
    "plt.annotate(\"Badlands\", \n",
    "        (2,2.1), \n",
    "        textcoords=\"offset points\", \n",
    "        size=16,\n",
    "        xytext=(+45,+10), \n",
    "        ha='center')    \n",
    "\n",
    "plt.savefig('A2 stdres.png')"
   ]
  },
  {
   "cell_type": "code",
   "execution_count": 21,
   "metadata": {
    "ExecuteTime": {
     "end_time": "2021-12-18T20:03:37.424215Z",
     "start_time": "2021-12-18T20:03:37.199235Z"
    }
   },
   "outputs": [
    {
     "name": "stderr",
     "output_type": "stream",
     "text": [
      "No handles with labels found to put in legend.\n"
     ]
    },
    {
     "data": {
      "image/png": "[encoded data removed]",
      "text/plain": [
       "<Figure size 864x432 with 1 Axes>"
      ]
     },
     "metadata": {
      "needs_background": "light"
     },
     "output_type": "display_data"
    }
   ],
   "source": [
    "# A3 standardized residuals plot\n",
    "sres_fig = plt.figure(figsize=(12,6))\n",
    "gs = GridSpec(1,1)\n",
    "ax1 = sres_fig.add_subplot(gs[0])\n",
    "\n",
    "ax1.plot(A_df.a3_x,A3_standardized_residuals, \"bo\", markersize=7)    \n",
    "ax1.plot([0, 16.5], [0, 0], color='0.7', linestyle='--', linewidth=2)\n",
    "ax1.plot([0, 16.5], [2, 2], color='r', linestyle='--', linewidth=2)\n",
    "ax1.plot([0, 16.5], [-2, -2], color='r', linestyle='--', linewidth=2)\n",
    "\n",
    "ax1.set_xlim(0.5,16.5)\n",
    "ax1.set_ylim(-3.0,3.0)\n",
    "\n",
    "ax1.set_title(\"A3: Standardized Residuals\", fontsize=24)\n",
    "ax1.set_xlabel(\"Dlist Rank\", fontsize=18)\n",
    "ax1.set_ylabel(\"Standard Error\", fontsize=20)\n",
    "ax1.legend(loc='best', fontsize=16)\n",
    "\n",
    "ax1.xaxis.set_major_locator(ticker.MultipleLocator(1))\n",
    "ax1.yaxis.set_major_locator(ticker.MultipleLocator(1))\n",
    "ax1.yaxis.set_minor_locator(AutoMinorLocator(5))\n",
    "ax1.tick_params(axis='both',which='major', direction=\"out\", bottom=\"on\", length=8, labelsize=14)\n",
    "ax1.tick_params(axis='both',which='minor', direction=\"out\", bottom=\"on\", length=5, labelsize=14)\n",
    "\n",
    "sres_fig.tight_layout()\n",
    "\n",
    "plt.savefig('A3 stdres.png')"
   ]
  },
  {
   "cell_type": "markdown",
   "metadata": {},
   "source": [
    "### Statistical Tests on the Standardized Residuals"
   ]
  },
  {
   "cell_type": "code",
   "execution_count": 22,
   "metadata": {
    "ExecuteTime": {
     "end_time": "2021-12-18T20:04:08.608241Z",
     "start_time": "2021-12-18T20:04:08.583235Z"
    }
   },
   "outputs": [
    {
     "name": "stdout",
     "output_type": "stream",
     "text": [
      "\u001b[1mA1 Tests for Standardized Residual Normality\u001b[0m\n",
      "Ho (null): The data was produced in a random manner.\n",
      "Ha (alternative): The data was not produced in a random manner.\n",
      "  Reject the null hypothesis if p < alpha\n",
      " \n",
      "\u001b[1mRuns Test\u001b[0m\n",
      "Purpose: detect non-randomness\n",
      "  Test Statistics=0.592, p=0.554\n",
      "  Data appears random (failed to reject Ho)\n",
      "-----------------------------------------------------------------\n",
      "\u001b[1mLilliefors Test\u001b[0m\n",
      "Purpose: test that data come from a normal distribution when pop mean and std dev not known\n",
      "  Test Statistics=0.179, p=0.190\n",
      "  A1 residuals look normal (failed to reject Ho)\n",
      "----------------------------------------------\n",
      "\u001b[1mShapiro-Wilk Test\u001b[0m\n",
      "Purpose: test that data come from a normal distribution when small sample sizes (<50)\n",
      "  Test Statistics=0.915, p=0.141\n",
      "  A1 residuals look normal (failed to reject Ho)\n",
      "\u001b[1mKolmogorov-Smirnov Test\u001b[0m\n",
      "Purpose: test that data come from a normal distribution\n",
      "  Test Statistics=0.179, p=0.190\n",
      "  A1 residuals look normal (failed to reject Ho)\n",
      "----------------------------------------------\n",
      "\u001b[1mJarque-Bera Test\u001b[0m\n",
      "Purpose: goodness-of-fit test of data's skewness and kurtosis to a normal distribution\n",
      "  Test Statistics=1.683, p=0.431\n",
      "  A1 residuals look normal (failed to reject Ho)\n",
      "----------------------------------------------\n"
     ]
    },
    {
     "name": "stderr",
     "output_type": "stream",
     "text": [
      "C:\\ProgramData\\Anaconda3\\lib\\site-packages\\statsmodels\\stats\\_lilliefors.py:272: FutureWarning: The default pvalmethod will change from \"approx\" to \"table\" after 0.11. The \"table\" method uses values from a very large simulation and is more accurate.  Explicitly set this parameter to \"approx\" or \"table\" to silence this warning\n",
      "  warnings.warn(msg, FutureWarning)\n"
     ]
    }
   ],
   "source": [
    "print('\\033[1m' +\"A1 Tests for Standardized Residual Normality\" + '\\033[0m')\n",
    "alpha = 0.05\n",
    "print(\"Ho (null): The data was produced in a random manner.\")\n",
    "print(\"Ha (alternative): The data was not produced in a random manner.\")\n",
    "print(\"  Reject the null hypothesis if p < alpha\")\n",
    "print(' ')\n",
    "\n",
    "#Perform Runs test\n",
    "print('\\033[1m' + 'Runs Test' + '\\033[0m')\n",
    "print(\"Purpose: detect non-randomness\")\n",
    "runs_stdRes_zStat, runs_stdRes_zpval = runstest_1samp(A1_standardized_residuals, correction=False)\n",
    "print('  Test Statistics=%.3f, p=%.3f' % (runs_stdRes_zStat, runs_stdRes_zpval))\n",
    "if runs_stdRes_zpval > alpha:\n",
    "    print(\"  Data appears random (failed to reject Ho)\".format(round(runs_stdRes_zpval,4), alpha))\n",
    "else:\n",
    "    print(\"  Data appears non-random (reject Ho)\".format(round(runs_pval,4), alpha))\n",
    "print(\"-----------------------------------------------------------------\")\n",
    "\n",
    "lil_stdRes_zstat,lil_stdRes_zp = sm.stats.lilliefors(A1_standardized_residuals)\n",
    "print('\\033[1m' + 'Lilliefors Test' + '\\033[0m')\n",
    "print(\"Purpose: test that data come from a normal distribution when pop mean and std dev not known\")\n",
    "print('  Test Statistics=%.3f, p=%.3f' % (lil_stdRes_zstat, lil_stdRes_zp))\n",
    "if lil_stdRes_zp > alpha:\n",
    "\tprint('  A1 residuals look normal (failed to reject Ho)')\n",
    "else:\n",
    "\tprint('  A1 residuals do not look normal (reject Ho)')\n",
    "\n",
    "print('----------------------------------------------')\n",
    "\n",
    "# Shapiro-Wilk Test\n",
    "print('\\033[1m' + 'Shapiro-Wilk Test' + '\\033[0m')\n",
    "print(\"Purpose: test that data come from a normal distribution when small sample sizes (<50)\")\n",
    "shap_stdres_stat, shap_stdres_p = shapiro(A1_standardized_residuals)\n",
    "print('  Test Statistics=%.3f, p=%.3f' % (shap_stdres_stat, shap_stdres_p))\n",
    "# interpret\n",
    "if shap_stdres_p > alpha:\n",
    "\tprint('  A1 residuals look normal (failed to reject Ho)')\n",
    "else:\n",
    "\tprint('  A1 residuals do not look normal (reject Ho)')\n",
    "\n",
    "ks_stdRes_zstat,ks_stdRes_zp = sm.stats.diagnostic.kstest_normal(A1_standardized_residuals)\n",
    "print('\\033[1m' + 'Kolmogorov-Smirnov Test' + '\\033[0m')\n",
    "print(\"Purpose: test that data come from a normal distribution\")\n",
    "print('  Test Statistics=%.3f, p=%.3f' % (ks_stdRes_zstat, ks_stdRes_zp))\n",
    "if ks_stdRes_zp > alpha:\n",
    "\tprint('  A1 residuals look normal (failed to reject Ho)')\n",
    "else:\n",
    "\tprint('  A1 residuals do not look normal (reject Ho)') \n",
    "\n",
    "print('----------------------------------------------')    \n",
    "    \n",
    "jb_stdres_stat,jb_stdres_p, xx, yy = sm.stats.stattools.jarque_bera(A1_standardized_residuals)\n",
    "print('\\033[1m' + 'Jarque-Bera Test' + '\\033[0m')\n",
    "print(\"Purpose: goodness-of-fit test of data's skewness and kurtosis to a normal distribution\")\n",
    "print('  Test Statistics=%.3f, p=%.3f' % (jb_stdres_stat, jb_stdres_p))\n",
    "if jb_stdres_p > alpha:\n",
    "\tprint('  A1 residuals look normal (failed to reject Ho)')\n",
    "else:\n",
    "\tprint('  A1 residuals do not look normal (reject Ho)')\n",
    "\n",
    "print('----------------------------------------------')  \n",
    "    \n",
    "    "
   ]
  },
  {
   "cell_type": "code",
   "execution_count": 23,
   "metadata": {
    "ExecuteTime": {
     "end_time": "2021-12-18T20:04:43.964886Z",
     "start_time": "2021-12-18T20:04:43.943881Z"
    }
   },
   "outputs": [
    {
     "name": "stdout",
     "output_type": "stream",
     "text": [
      "\u001b[1mA2 Tests for Standardized Residual Normality\u001b[0m\n",
      "Ho (null): The data was produced in a random manner.\n",
      "Ha (alternative): The data was not produced in a random manner.\n",
      "  Reject the null hypothesis if p < alpha\n",
      " \n",
      "\u001b[1mRuns Test\u001b[0m\n",
      "Purpose: detect non-randomness\n",
      "  Test Statistics=0.518, p=0.605\n",
      "  Data appears random (failed to reject Ho)\n",
      "-----------------------------------------------------------------\n",
      "\u001b[1mLilliefors Test\u001b[0m\n",
      "Purpose: test that data come from a normal distribution when pop mean and std dev not known\n",
      "  Test Statistics=0.146, p=0.472\n",
      "  D1 residuals look normal (failed to reject Ho)\n",
      "----------------------------------------------\n",
      "\u001b[1mShapiro-Wilk Test\u001b[0m\n",
      "Purpose: test that data come from a normal distribution when small sample sizes (<50)\n",
      "  Test Statistics=0.953, p=0.531\n",
      "  D1 residuals look normal (failed to reject Ho)\n",
      "\u001b[1mKolmogorov-Smirnov Test\u001b[0m\n",
      "Purpose: test that data come from a normal distribution\n",
      "  Test Statistics=0.146, p=0.472\n",
      "  D1 residuals look normal (failed to reject Ho)\n",
      "----------------------------------------------\n",
      "\u001b[1mJarque-Bera Test\u001b[0m\n",
      "Purpose: goodness-of-fit test of data's skewness and kurtosis to a normal distribution\n",
      "  Test Statistics=0.877, p=0.645\n",
      "  D1 residuals look normal (failed to reject Ho)\n",
      "----------------------------------------------\n"
     ]
    }
   ],
   "source": [
    "print('\\033[1m' +\"A2 Tests for Standardized Residual Normality\" + '\\033[0m')\n",
    "alpha = 0.05\n",
    "print(\"Ho (null): The data was produced in a random manner.\")\n",
    "print(\"Ha (alternative): The data was not produced in a random manner.\")\n",
    "print(\"  Reject the null hypothesis if p < alpha\")\n",
    "print(' ')\n",
    "\n",
    "#Perform Runs test\n",
    "print('\\033[1m' + 'Runs Test' + '\\033[0m')\n",
    "print(\"Purpose: detect non-randomness\")\n",
    "runs_stdRes_zStat, runs_stdRes_zpval = runstest_1samp(A2_standardized_residuals, correction=False)\n",
    "print('  Test Statistics=%.3f, p=%.3f' % (runs_stdRes_zStat, runs_stdRes_zpval))\n",
    "if runs_stdRes_zpval > alpha:\n",
    "    print(\"  Data appears random (failed to reject Ho)\".format(round(runs_stdRes_zpval,4), alpha))\n",
    "else:\n",
    "    print(\"  Data appears non-random (reject Ho)\".format(round(runs_pval,4), alpha))\n",
    "print(\"-----------------------------------------------------------------\")\n",
    "\n",
    "lil_stdRes_zstat,lil_stdRes_zp = sm.stats.lilliefors(A2_standardized_residuals)\n",
    "print('\\033[1m' + 'Lilliefors Test' + '\\033[0m')\n",
    "print(\"Purpose: test that data come from a normal distribution when pop mean and std dev not known\")\n",
    "print('  Test Statistics=%.3f, p=%.3f' % (lil_stdRes_zstat, lil_stdRes_zp))\n",
    "if lil_stdRes_zp > alpha:\n",
    "\tprint('  D1 residuals look normal (failed to reject Ho)')\n",
    "else:\n",
    "\tprint('  D1 residuals do not look normal (reject Ho)')\n",
    "\n",
    "print('----------------------------------------------')\n",
    "\n",
    "# Shapiro-Wilk Test\n",
    "print('\\033[1m' + 'Shapiro-Wilk Test' + '\\033[0m')\n",
    "print(\"Purpose: test that data come from a normal distribution when small sample sizes (<50)\")\n",
    "shap_stdres_stat, shap_stdres_p = shapiro(A2_standardized_residuals)\n",
    "print('  Test Statistics=%.3f, p=%.3f' % (shap_stdres_stat, shap_stdres_p))\n",
    "# interpret\n",
    "if shap_stdres_p > alpha:\n",
    "\tprint('  D1 residuals look normal (failed to reject Ho)')\n",
    "else:\n",
    "\tprint('  D1 residuals do not look normal (reject Ho)')\n",
    "\n",
    "ks_stdRes_zstat,ks_stdRes_zp = sm.stats.diagnostic.kstest_normal(A2_standardized_residuals)\n",
    "print('\\033[1m' + 'Kolmogorov-Smirnov Test' + '\\033[0m')\n",
    "print(\"Purpose: test that data come from a normal distribution\")\n",
    "print('  Test Statistics=%.3f, p=%.3f' % (ks_stdRes_zstat, ks_stdRes_zp))\n",
    "if ks_stdRes_zp > alpha:\n",
    "\tprint('  D1 residuals look normal (failed to reject Ho)')\n",
    "else:\n",
    "\tprint('  D1 residuals do not look normal (reject Ho)') \n",
    "\n",
    "print('----------------------------------------------')    \n",
    "    \n",
    "jb_stdres_stat,jb_stdres_p, xx, yy = sm.stats.stattools.jarque_bera(A2_standardized_residuals)\n",
    "print('\\033[1m' + 'Jarque-Bera Test' + '\\033[0m')\n",
    "print(\"Purpose: goodness-of-fit test of data's skewness and kurtosis to a normal distribution\")\n",
    "print('  Test Statistics=%.3f, p=%.3f' % (jb_stdres_stat, jb_stdres_p))\n",
    "if jb_stdres_p > alpha:\n",
    "\tprint('  D1 residuals look normal (failed to reject Ho)')\n",
    "else:\n",
    "\tprint('  D1 residuals do not look normal (reject Ho)')\n",
    "\n",
    "print('----------------------------------------------') "
   ]
  },
  {
   "cell_type": "code",
   "execution_count": 24,
   "metadata": {
    "ExecuteTime": {
     "end_time": "2021-12-18T20:04:57.601241Z",
     "start_time": "2021-12-18T20:04:57.582237Z"
    }
   },
   "outputs": [
    {
     "name": "stdout",
     "output_type": "stream",
     "text": [
      "\u001b[1mA3 Tests for Standardized Residual Normality\u001b[0m\n",
      "Ho (null): The data was produced in a random manner.\n",
      "Ha (alternative): The data was not produced in a random manner.\n",
      "  Reject the null hypothesis if p < alpha\n",
      " \n",
      "\u001b[1mRuns Test\u001b[0m\n",
      "Purpose: detect non-randomness\n",
      "  Test Statistics=-0.518, p=0.605\n",
      "  Data appears random (failed to reject Ho)\n",
      "-----------------------------------------------------------------\n",
      "\u001b[1mLilliefors Test\u001b[0m\n",
      "Purpose: test that data come from a normal distribution when pop mean and std dev not known\n",
      "  Test Statistics=0.123, p=0.741\n",
      "  D1 residuals look normal (failed to reject Ho)\n",
      "----------------------------------------------\n",
      "\u001b[1mShapiro-Wilk Test\u001b[0m\n",
      "Purpose: test that data come from a normal distribution when small sample sizes (<50)\n",
      "  Test Statistics=0.961, p=0.678\n",
      "  D1 residuals look normal (failed to reject Ho)\n",
      "\u001b[1mKolmogorov-Smirnov Test\u001b[0m\n",
      "Purpose: test that data come from a normal distribution\n",
      "  Test Statistics=0.123, p=0.741\n",
      "  D1 residuals look normal (failed to reject Ho)\n",
      "----------------------------------------------\n",
      "\u001b[1mJarque-Bera Test\u001b[0m\n",
      "Purpose: goodness-of-fit test of data's skewness and kurtosis to a normal distribution\n",
      "  Test Statistics=0.867, p=0.648\n",
      "  D1 residuals look normal (failed to reject Ho)\n",
      "----------------------------------------------\n"
     ]
    }
   ],
   "source": [
    "print('\\033[1m' +\"A3 Tests for Standardized Residual Normality\" + '\\033[0m')\n",
    "alpha = 0.05\n",
    "print(\"Ho (null): The data was produced in a random manner.\")\n",
    "print(\"Ha (alternative): The data was not produced in a random manner.\")\n",
    "print(\"  Reject the null hypothesis if p < alpha\")\n",
    "print(' ')\n",
    "\n",
    "#Perform Runs test\n",
    "print('\\033[1m' + 'Runs Test' + '\\033[0m')\n",
    "print(\"Purpose: detect non-randomness\")\n",
    "runs_stdRes_zStat, runs_stdRes_zpval = runstest_1samp(A3_standardized_residuals, correction=False)\n",
    "print('  Test Statistics=%.3f, p=%.3f' % (runs_stdRes_zStat, runs_stdRes_zpval))\n",
    "if runs_stdRes_zpval > alpha:\n",
    "    print(\"  Data appears random (failed to reject Ho)\".format(round(runs_stdRes_zpval,4), alpha))\n",
    "else:\n",
    "    print(\"  Data appears non-random (reject Ho)\".format(round(runs_stdRes_zpval,4), alpha))\n",
    "print(\"-----------------------------------------------------------------\")\n",
    "\n",
    "lil_stdRes_zstat,lil_stdRes_zp = sm.stats.lilliefors(A3_standardized_residuals)\n",
    "print('\\033[1m' + 'Lilliefors Test' + '\\033[0m')\n",
    "print(\"Purpose: test that data come from a normal distribution when pop mean and std dev not known\")\n",
    "print('  Test Statistics=%.3f, p=%.3f' % (lil_stdRes_zstat, lil_stdRes_zp))\n",
    "if lil_stdRes_zp > alpha:\n",
    "\tprint('  D1 residuals look normal (failed to reject Ho)')\n",
    "else:\n",
    "\tprint('  D1 residuals do not look normal (reject Ho)')\n",
    "\n",
    "print('----------------------------------------------')\n",
    "\n",
    "# Shapiro-Wilk Test\n",
    "print('\\033[1m' + 'Shapiro-Wilk Test' + '\\033[0m')\n",
    "print(\"Purpose: test that data come from a normal distribution when small sample sizes (<50)\")\n",
    "shap_stdres_stat, shap_stdres_p = shapiro(A3_standardized_residuals)\n",
    "print('  Test Statistics=%.3f, p=%.3f' % (shap_stdres_stat, shap_stdres_p))\n",
    "# interpret\n",
    "if shap_stdres_p > alpha:\n",
    "\tprint('  D1 residuals look normal (failed to reject Ho)')\n",
    "else:\n",
    "\tprint('  D1 residuals do not look normal (reject Ho)')\n",
    "\n",
    "ks_stdRes_zstat,ks_stdRes_zp = sm.stats.diagnostic.kstest_normal(A3_standardized_residuals)\n",
    "print('\\033[1m' + 'Kolmogorov-Smirnov Test' + '\\033[0m')\n",
    "print(\"Purpose: test that data come from a normal distribution\")\n",
    "print('  Test Statistics=%.3f, p=%.3f' % (ks_stdRes_zstat, ks_stdRes_zp))\n",
    "if ks_stdRes_zp > alpha:\n",
    "\tprint('  D1 residuals look normal (failed to reject Ho)')\n",
    "else:\n",
    "\tprint('  D1 residuals do not look normal (reject Ho)') \n",
    "\n",
    "print('----------------------------------------------')    \n",
    "    \n",
    "jb_stdres_stat,jb_stdres_p, xx, yy = sm.stats.stattools.jarque_bera(A3_standardized_residuals)\n",
    "print('\\033[1m' + 'Jarque-Bera Test' + '\\033[0m')\n",
    "print(\"Purpose: goodness-of-fit test of data's skewness and kurtosis to a normal distribution\")\n",
    "print('  Test Statistics=%.3f, p=%.3f' % (jb_stdres_stat, jb_stdres_p))\n",
    "if jb_stdres_p > alpha:\n",
    "\tprint('  D1 residuals look normal (failed to reject Ho)')\n",
    "else:\n",
    "\tprint('  D1 residuals do not look normal (reject Ho)')\n",
    "\n",
    "print('----------------------------------------------') "
   ]
  },
  {
   "cell_type": "markdown",
   "metadata": {},
   "source": [
    "## Plot the Landscape Learning results"
   ]
  },
  {
   "cell_type": "markdown",
   "metadata": {},
   "source": [
    "%LL = (1 - r^2)   Calculations and group ages are described in my dissertation, Chapter 5"
   ]
  },
  {
   "cell_type": "code",
   "execution_count": 25,
   "metadata": {
    "ExecuteTime": {
     "end_time": "2021-12-18T20:05:21.942240Z",
     "start_time": "2021-12-18T20:05:21.928237Z"
    }
   },
   "outputs": [
    {
     "data": {
      "text/html": [
       "<div>\n",
       "<style scoped>\n",
       "    .dataframe tbody tr th:only-of-type {\n",
       "        vertical-align: middle;\n",
       "    }\n",
       "\n",
       "    .dataframe tbody tr th {\n",
       "        vertical-align: top;\n",
       "    }\n",
       "\n",
       "    .dataframe thead th {\n",
       "        text-align: right;\n",
       "    }\n",
       "</style>\n",
       "<table border=\"1\" class=\"dataframe\">\n",
       "  <thead>\n",
       "    <tr style=\"text-align: right;\">\n",
       "      <th></th>\n",
       "      <th>A_LL</th>\n",
       "      <th>A_dates</th>\n",
       "    </tr>\n",
       "  </thead>\n",
       "  <tbody>\n",
       "    <tr>\n",
       "      <th>0</th>\n",
       "      <td>65.0</td>\n",
       "      <td>9300</td>\n",
       "    </tr>\n",
       "    <tr>\n",
       "      <th>1</th>\n",
       "      <td>74.8</td>\n",
       "      <td>10050</td>\n",
       "    </tr>\n",
       "    <tr>\n",
       "      <th>2</th>\n",
       "      <td>39.6</td>\n",
       "      <td>10650</td>\n",
       "    </tr>\n",
       "  </tbody>\n",
       "</table>\n",
       "</div>"
      ],
      "text/plain": [
       "   A_LL  A_dates\n",
       "0  65.0     9300\n",
       "1  74.8    10050\n",
       "2  39.6    10650"
      ]
     },
     "execution_count": 25,
     "metadata": {},
     "output_type": "execute_result"
    }
   ],
   "source": [
    "A_LL = [65.0, 74.8, 39.6]\n",
    "A_dates = [9300, 10050, 10650]\n",
    "\n",
    "#create dataset\n",
    "Agrp_df = pd.DataFrame({'A_LL': A_LL,\n",
    "                     'A_dates': A_dates})\n",
    "#view dataset\n",
    "Agrp_df"
   ]
  },
  {
   "cell_type": "code",
   "execution_count": 26,
   "metadata": {
    "ExecuteTime": {
     "end_time": "2021-12-18T20:06:40.962061Z",
     "start_time": "2021-12-18T20:06:40.732341Z"
    },
    "scrolled": false
   },
   "outputs": [
    {
     "name": "stdout",
     "output_type": "stream",
     "text": [
      "slope = -0.02 (+/-) 0.02\n",
      "y-intercept = 234.88 (+/-) 203.99\n"
     ]
    },
    {
     "data": {
      "image/png": "[encoded data removed]",
      "text/plain": [
       "<Figure size 864x864 with 1 Axes>"
      ]
     },
     "metadata": {
      "needs_background": "light"
     },
     "output_type": "display_data"
    }
   ],
   "source": [
    "# Plot the A Groups %LL over time\n",
    "fig = plt.figure(figsize=(12,12))\n",
    "gs = GridSpec(1,1)\n",
    "ax1 = fig.add_subplot(gs[0])\n",
    "\n",
    "ax1.plot(Agrp_df.A_dates, Agrp_df.A_LL, \"ko\", markersize=7)    \n",
    "\n",
    "# popt_linear: this contains the fitting parameters\n",
    "# pcov_linear: estimated covariance of the fitting paramters\n",
    "popt_linear, pcov_linear = scipy.optimize.curve_fit(linear, Agrp_df.A_dates, Agrp_df.A_LL)\n",
    "perr_linear = np.sqrt(np.diag(pcov_linear))\n",
    "print (\"slope = %0.2f (+/-) %0.2f\" % (popt_linear[0], perr_linear[0]))\n",
    "print( \"y-intercept = %0.2f (+/-) %0.2f\" %(popt_linear[1], perr_linear[1]))\n",
    "\n",
    "ax1.plot(Agrp_df.A_dates, linear(Agrp_df.A_dates, *popt_linear), 'r--', label=\"y= %0.2fx + %0.2f\" % (popt_linear[0], popt_linear[1]))\n",
    "ax1.set_xlim(10900,9100)\n",
    "ax1.set_ylim(0,100)\n",
    "\n",
    "ax1.set_title(\"%LL Over Time (A Groups)\", fontsize=22)\n",
    "ax1.set_ylabel(\"%LL\",  fontsize=22)\n",
    "ax1.set_xlabel(\"Radiocarbon years\",  fontsize=18)\n",
    "ax1.legend(loc='best', fontsize=18)\n",
    "ax1.tick_params(axis='both',which='major', direction=\"out\", bottom=\"on\", length=8, labelsize=16)\n",
    "ax1.tick_params(axis='both',which='minor', direction=\"out\", bottom=\"on\", length=5, labelsize=16)\n",
    "\n",
    "fig.tight_layout()\n",
    "   \n",
    "plt.savefig('A LL.png')"
   ]
  },
  {
   "cell_type": "code",
   "execution_count": 27,
   "metadata": {
    "ExecuteTime": {
     "end_time": "2021-12-18T20:07:02.228919Z",
     "start_time": "2021-12-18T20:07:02.223919Z"
    }
   },
   "outputs": [
    {
     "name": "stdout",
     "output_type": "stream",
     "text": [
      "A Pearson's r:           -0.652\n",
      "A Pearson's r, p value:  0.548\n",
      "--------------------------------\n"
     ]
    }
   ],
   "source": [
    "A_pearson_r, A_pearson_r_pval = stats.pearsonr(A_LL, A_dates)\n",
    "print(\"A Pearson's r:          \", str(round(A_pearson_r, 3)))\n",
    "print(\"A Pearson's r, p value: \", str(round(A_pearson_r_pval, 4)))\n",
    "print(\"--------------------------------\")"
   ]
  },
  {
   "cell_type": "code",
   "execution_count": 28,
   "metadata": {
    "ExecuteTime": {
     "end_time": "2021-12-18T20:07:19.295367Z",
     "start_time": "2021-12-18T20:07:19.287366Z"
    }
   },
   "outputs": [
    {
     "name": "stdout",
     "output_type": "stream",
     "text": [
      "A Spearman's r:           -0.5\n",
      "A Spearman's r, p value:  0.6667\n"
     ]
    }
   ],
   "source": [
    "A_spearman_r, A_spearman_r_pval = stats.spearmanr(A_LL, A_dates)\n",
    "print(\"A Spearman's r:          \", str(round(A_spearman_r, 3)))\n",
    "print(\"A Spearman's r, p value: \", str(round(A_spearman_r_pval, 4)))"
   ]
  },
  {
   "cell_type": "code",
   "execution_count": 29,
   "metadata": {
    "ExecuteTime": {
     "end_time": "2021-12-18T20:07:33.929272Z",
     "start_time": "2021-12-18T20:07:33.910240Z"
    }
   },
   "outputs": [
    {
     "name": "stdout",
     "output_type": "stream",
     "text": [
      "                            OLS Regression Results                            \n",
      "==============================================================================\n",
      "Dep. Variable:                   A_LL   R-squared:                       0.425\n",
      "Model:                            OLS   Adj. R-squared:                 -0.150\n",
      "Method:                 Least Squares   F-statistic:                    0.7389\n",
      "Date:                Sat, 18 Dec 2021   Prob (F-statistic):              0.548\n",
      "Time:                        12:07:33   Log-Likelihood:                -11.518\n",
      "No. Observations:                   3   AIC:                             27.04\n",
      "Df Residuals:                       1   BIC:                             25.23\n",
      "Df Model:                           1                                         \n",
      "Covariance Type:            nonrobust                                         \n",
      "==============================================================================\n",
      "                 coef    std err          t      P>|t|      [0.025      0.975]\n",
      "------------------------------------------------------------------------------\n",
      "Intercept    234.8820    203.992      1.151      0.455   -2357.082    2826.846\n",
      "A_dates       -0.0175      0.020     -0.860      0.548      -0.276       0.241\n",
      "==============================================================================\n",
      "Omnibus:                          nan   Durbin-Watson:                   2.992\n",
      "Prob(Omnibus):                    nan   Jarque-Bera (JB):                0.522\n",
      "Skew:                           0.694   Prob(JB):                        0.770\n",
      "Kurtosis:                       1.500   Cond. No.                     1.82e+05\n",
      "==============================================================================\n",
      "\n",
      "Warnings:\n",
      "[1] Standard Errors assume that the covariance matrix of the errors is correctly specified.\n",
      "[2] The condition number is large, 1.82e+05. This might indicate that there are\n",
      "strong multicollinearity or other numerical problems.\n"
     ]
    },
    {
     "name": "stderr",
     "output_type": "stream",
     "text": [
      "C:\\ProgramData\\Anaconda3\\lib\\site-packages\\statsmodels\\stats\\stattools.py:71: ValueWarning: omni_normtest is not valid with less than 8 observations; 3 samples were given.\n",
      "  \"samples were given.\" % int(n), ValueWarning)\n"
     ]
    }
   ],
   "source": [
    "#fit multiple linear regression model\n",
    "A_model = ols('A_LL ~ A_dates', data=Agrp_df).fit()\n",
    "\n",
    "#view model summary\n",
    "print(A_model.summary())"
   ]
  },
  {
   "cell_type": "markdown",
   "metadata": {},
   "source": [
    "### Running the same regression and stats tests using calender years instead of radiocarbon years."
   ]
  },
  {
   "cell_type": "code",
   "execution_count": 30,
   "metadata": {
    "ExecuteTime": {
     "end_time": "2021-12-18T20:07:58.884554Z",
     "start_time": "2021-12-18T20:07:58.877553Z"
    }
   },
   "outputs": [
    {
     "data": {
      "text/html": [
       "<div>\n",
       "<style scoped>\n",
       "    .dataframe tbody tr th:only-of-type {\n",
       "        vertical-align: middle;\n",
       "    }\n",
       "\n",
       "    .dataframe tbody tr th {\n",
       "        vertical-align: top;\n",
       "    }\n",
       "\n",
       "    .dataframe thead th {\n",
       "        text-align: right;\n",
       "    }\n",
       "</style>\n",
       "<table border=\"1\" class=\"dataframe\">\n",
       "  <thead>\n",
       "    <tr style=\"text-align: right;\">\n",
       "      <th></th>\n",
       "      <th>A_LL</th>\n",
       "      <th>A_dates</th>\n",
       "    </tr>\n",
       "  </thead>\n",
       "  <tbody>\n",
       "    <tr>\n",
       "      <th>0</th>\n",
       "      <td>65.0</td>\n",
       "      <td>8647</td>\n",
       "    </tr>\n",
       "    <tr>\n",
       "      <th>1</th>\n",
       "      <td>74.8</td>\n",
       "      <td>9816</td>\n",
       "    </tr>\n",
       "    <tr>\n",
       "      <th>2</th>\n",
       "      <td>39.6</td>\n",
       "      <td>10786</td>\n",
       "    </tr>\n",
       "  </tbody>\n",
       "</table>\n",
       "</div>"
      ],
      "text/plain": [
       "   A_LL  A_dates\n",
       "0  65.0     8647\n",
       "1  74.8     9816\n",
       "2  39.6    10786"
      ]
     },
     "execution_count": 30,
     "metadata": {},
     "output_type": "execute_result"
    }
   ],
   "source": [
    "A_LL = [65.0, 74.8, 39.6]\n",
    "A_caldates = [8647, 9816, 10786]\n",
    "#create dataset\n",
    "Acal_df = pd.DataFrame({'A_LL': A_LL,\n",
    "                     'A_dates': A_caldates})\n",
    "#view dataset\n",
    "Acal_df"
   ]
  },
  {
   "cell_type": "code",
   "execution_count": 31,
   "metadata": {
    "ExecuteTime": {
     "end_time": "2021-12-18T20:09:06.299910Z",
     "start_time": "2021-12-18T20:09:06.071459Z"
    }
   },
   "outputs": [
    {
     "name": "stdout",
     "output_type": "stream",
     "text": [
      "slope = -0.01 (+/-) 0.01\n",
      "y-intercept = 168.90 (+/-) 124.78\n"
     ]
    },
    {
     "data": {
      "image/png": "[encoded data removed]",
      "text/plain": [
       "<Figure size 864x864 with 1 Axes>"
      ]
     },
     "metadata": {
      "needs_background": "light"
     },
     "output_type": "display_data"
    }
   ],
   "source": [
    "fig = plt.figure(figsize=(12,12))\n",
    "gs = GridSpec(1,1)\n",
    "ax1 = fig.add_subplot(gs[0])\n",
    "\n",
    "ax1.plot(Acal_df.A_dates, Acal_df.A_LL, \"ko\", markersize=7)    \n",
    "\n",
    "# popt_linear: this contains the fitting parameters\n",
    "# pcov_linear: estimated covariance of the fitting paramters\n",
    "popt_linear, pcov_linear = scipy.optimize.curve_fit(linear, Acal_df.A_dates, Acal_df.A_LL)\n",
    "perr_linear = np.sqrt(np.diag(pcov_linear))\n",
    "print (\"slope = %0.2f (+/-) %0.2f\" % (popt_linear[0], perr_linear[0]))\n",
    "print( \"y-intercept = %0.2f (+/-) %0.2f\" %(popt_linear[1], perr_linear[1]))\n",
    "\n",
    "ax1.plot(Acal_df.A_dates, linear(Acal_df.A_dates, *popt_linear), 'r--', label=\"y= %0.2fx + %0.2f\" % (popt_linear[0], popt_linear[1]))\n",
    "\n",
    "ax1.set_xlim(11000,8500)\n",
    "ax1.set_ylim(0,100)\n",
    "\n",
    "ax1.set_title(\"%LL Over Time (A groups, calendar dates)\", fontsize=22)\n",
    "ax1.set_ylabel(\"%LL\",  fontsize=20)\n",
    "ax1.set_xlabel(\"Calendar years\",  fontsize=18)\n",
    "ax1.legend(loc='best', fontsize=16)\n",
    "ax1.tick_params(axis='both',which='major', direction=\"out\", bottom=\"on\", length=8, labelsize=16)\n",
    "ax1.tick_params(axis='both',which='minor', direction=\"out\", bottom=\"on\", length=5, labelsize=16)\n",
    "fig.tight_layout()\n",
    "   \n",
    "plt.savefig('Acal LL.png')"
   ]
  },
  {
   "cell_type": "code",
   "execution_count": 32,
   "metadata": {
    "ExecuteTime": {
     "end_time": "2021-12-18T20:09:31.681459Z",
     "start_time": "2021-12-18T20:09:31.665455Z"
    }
   },
   "outputs": [
    {
     "name": "stdout",
     "output_type": "stream",
     "text": [
      "A Pearson's r:           -0.66\n",
      "A Pearson's r, p value:  0.5414\n",
      "--------------------------------\n"
     ]
    }
   ],
   "source": [
    "A_pearson_r, A_pearson_r_pval = stats.pearsonr(A_LL, A_caldates)\n",
    "print(\"A Pearson's r:          \", str(round(A_pearson_r, 3)))\n",
    "print(\"A Pearson's r, p value: \", str(round(A_pearson_r_pval, 4)))\n",
    "print(\"--------------------------------\")"
   ]
  },
  {
   "cell_type": "code",
   "execution_count": 34,
   "metadata": {
    "ExecuteTime": {
     "end_time": "2021-12-18T20:09:56.492155Z",
     "start_time": "2021-12-18T20:09:56.478245Z"
    }
   },
   "outputs": [
    {
     "name": "stdout",
     "output_type": "stream",
     "text": [
      "A Spearman's r:           -0.5\n",
      "A Spearman's r, p value:  0.6667\n"
     ]
    }
   ],
   "source": [
    "A_spearman_r, A_spearman_r_pval = stats.spearmanr(A_LL, A_caldates)\n",
    "print(\"A Spearman's r:          \", str(round(A_spearman_r, 3)))\n",
    "print(\"A Spearman's r, p value: \", str(round(A_spearman_r_pval, 4)))"
   ]
  },
  {
   "cell_type": "code",
   "execution_count": 35,
   "metadata": {
    "ExecuteTime": {
     "end_time": "2021-12-18T20:10:14.025543Z",
     "start_time": "2021-12-18T20:10:14.000533Z"
    }
   },
   "outputs": [
    {
     "name": "stdout",
     "output_type": "stream",
     "text": [
      "                            OLS Regression Results                            \n",
      "==============================================================================\n",
      "Dep. Variable:                   A_LL   R-squared:                       0.435\n",
      "Model:                            OLS   Adj. R-squared:                 -0.130\n",
      "Method:                 Least Squares   F-statistic:                    0.7706\n",
      "Date:                Sat, 18 Dec 2021   Prob (F-statistic):              0.541\n",
      "Time:                        12:10:14   Log-Likelihood:                -11.490\n",
      "No. Observations:                   3   AIC:                             26.98\n",
      "Df Residuals:                       1   BIC:                             25.18\n",
      "Df Model:                           1                                         \n",
      "Covariance Type:            nonrobust                                         \n",
      "==============================================================================\n",
      "                 coef    std err          t      P>|t|      [0.025      0.975]\n",
      "------------------------------------------------------------------------------\n",
      "Intercept    168.8989    124.781      1.354      0.405   -1416.589    1754.386\n",
      "A_caldates    -0.0112      0.013     -0.878      0.541      -0.173       0.151\n",
      "==============================================================================\n",
      "Omnibus:                          nan   Durbin-Watson:                   2.994\n",
      "Prob(Omnibus):                    nan   Jarque-Bera (JB):                0.525\n",
      "Skew:                           0.698   Prob(JB):                        0.769\n",
      "Kurtosis:                       1.500   Cond. No.                     1.10e+05\n",
      "==============================================================================\n",
      "\n",
      "Warnings:\n",
      "[1] Standard Errors assume that the covariance matrix of the errors is correctly specified.\n",
      "[2] The condition number is large, 1.1e+05. This might indicate that there are\n",
      "strong multicollinearity or other numerical problems.\n"
     ]
    },
    {
     "name": "stderr",
     "output_type": "stream",
     "text": [
      "C:\\ProgramData\\Anaconda3\\lib\\site-packages\\statsmodels\\stats\\stattools.py:71: ValueWarning: omni_normtest is not valid with less than 8 observations; 3 samples were given.\n",
      "  \"samples were given.\" % int(n), ValueWarning)\n"
     ]
    }
   ],
   "source": [
    "#fit multiple linear regression model\n",
    "A_model = ols('A_LL ~ A_caldates', data=Agrp_df).fit()\n",
    "\n",
    "#view model summary\n",
    "print(A_model.summary())"
   ]
  },
  {
   "cell_type": "markdown",
   "metadata": {},
   "source": [
    "## Results after removing the Flat Hills outlier"
   ]
  },
  {
   "cell_type": "code",
   "execution_count": 39,
   "metadata": {
    "ExecuteTime": {
     "end_time": "2021-12-18T20:13:53.210907Z",
     "start_time": "2021-12-18T20:13:53.200905Z"
    }
   },
   "outputs": [],
   "source": [
    "# rank order of index list by Discoverability\n",
    "a1o_dlist = np.array([1,14,6,2,5,10,4,12,11,15,9,7,8,13,3])\n",
    "a1o_olist = np.array([3,13,6,2,5,9,4,13,13,7.5,7.5,10,13,13,1])\n",
    "\n",
    "a2o_dlist = np.array([2,14,6,3,5, 10,4,12,11,15,8,7,9,13,1])\n",
    "a2o_olist = np.array([12,12,3.5,2,12,6.5,6.5,12,12,12,3.5,6.5,12,6.5,1])\n",
    "\n",
    "a3o_dlist = np.array([1,14,6,3,4,10,5,12,11,15,8,7,9,13,2])\n",
    "a3o_olist = np.array([8,8,4.5,2,4.5,13,8,13,13,13,3,13,8,8,1])"
   ]
  },
  {
   "cell_type": "code",
   "execution_count": 40,
   "metadata": {
    "ExecuteTime": {
     "end_time": "2021-12-18T20:13:53.572758Z",
     "start_time": "2021-12-18T20:13:53.554249Z"
    }
   },
   "outputs": [
    {
     "name": "stdout",
     "output_type": "stream",
     "text": [
      "A1o Pearson's r:           0.805\n",
      "A1o Pearson's r, p value:  0.00029853\n",
      "A1o coeff:                 0.647\n",
      "--------------------------------\n",
      "A2o Pearson's r:           0.506\n",
      "A2o Pearson's r, p value:  0.05415697\n",
      "A2o coeff:                 0.256\n",
      "--------------------------------\n",
      "A3o Pearson's r:           0.623\n",
      "A3o Pearson's r, p value:  0.0130548\n",
      "A3o coeff:                 0.388\n",
      "--------------------------------\n"
     ]
    }
   ],
   "source": [
    "a1o_pearson_r, a1o_pearson_r_pval = stats.pearsonr(a1o_dlist, a1o_olist)\n",
    "print(\"A1o Pearson's r:          \", str(round(a1o_pearson_r, 3)))\n",
    "print(\"A1o Pearson's r, p value: \", str(round(a1o_pearson_r_pval, 8)))\n",
    "a1o_pearson_coeff = a1o_pearson_r ** 2\n",
    "print(\"A1o coeff:                \", round(a1o_pearson_coeff,3))\n",
    "print(\"--------------------------------\")\n",
    "\n",
    "a2o_pearson_r, a2o_pearson_r_pval = stats.pearsonr(a2o_dlist, a2o_olist)\n",
    "print(\"A2o Pearson's r:          \", str(round(a2o_pearson_r, 3)))\n",
    "print(\"A2o Pearson's r, p value: \", str(round(a2o_pearson_r_pval, 8)))\n",
    "a2o_pearson_coeff = a2o_pearson_r ** 2\n",
    "print(\"A2o coeff:                \", round(a2o_pearson_coeff,3))\n",
    "print(\"--------------------------------\")\n",
    "\n",
    "a3o_pearson_r, a3o_pearson_r_pval = stats.pearsonr(a3o_dlist, a3o_olist)\n",
    "print(\"A3o Pearson's r:          \", str(round(a3o_pearson_r, 3)))\n",
    "print(\"A3o Pearson's r, p value: \", str(round(a3o_pearson_r_pval, 8)))\n",
    "a3o_pearson_coeff = a3o_pearson_r ** 2\n",
    "print(\"A3o coeff:                \", round(a3o_pearson_coeff,3))\n",
    "print(\"--------------------------------\")"
   ]
  },
  {
   "cell_type": "code",
   "execution_count": 41,
   "metadata": {
    "ExecuteTime": {
     "end_time": "2021-12-18T20:15:57.974286Z",
     "start_time": "2021-12-18T20:15:57.961250Z"
    }
   },
   "outputs": [
    {
     "name": "stdout",
     "output_type": "stream",
     "text": [
      "A1o Spearman's r:           0.805\n",
      "A1o Spearman's r, p value:  0.00029853\n",
      "A1o coeff:                  0.647\n",
      "A1o LL:                     35.3\n",
      "--------------------------------\n",
      "A2o Spearman's r:           0.506\n",
      "A2o Spearman's r, p value:  0.05415697\n",
      "A2o coeff:                  0.256\n",
      "A2o LL:                     74.4\n",
      "--------------------------------\n",
      "A3o Spearman's r:           0.623\n",
      "A3o Spearman's r, p value:  0.0130548\n",
      "A3o coeff:                  0.388\n",
      "A3o LL:                     61.2\n",
      "--------------------------------\n"
     ]
    }
   ],
   "source": [
    "a1o_spearman_r, a1o_spearman_r_pval = stats.spearmanr(a1o_dlist, a1o_olist)\n",
    "print(\"A1o Spearman's r:          \", str(round(a1o_spearman_r, 3)))\n",
    "print(\"A1o Spearman's r, p value: \", str(round(a1o_spearman_r_pval, 8)))\n",
    "a1o_spearman_coeff = a1o_spearman_r ** 2\n",
    "print(\"A1o coeff:                 \", round(a1o_spearman_coeff,3))\n",
    "print(\"A1o LL:                    \", round((1-a1o_spearman_coeff)*100,1))\n",
    "print(\"--------------------------------\")\n",
    "\n",
    "a2o_spearman_r, a2o_spearman_r_pval = stats.spearmanr(a2o_dlist, a2o_olist)\n",
    "print(\"A2o Spearman's r:          \", str(round(a2o_spearman_r, 3)))\n",
    "print(\"A2o Spearman's r, p value: \", str(round(a2o_spearman_r_pval, 8)))\n",
    "a2o_spearman_coeff = a2o_spearman_r ** 2\n",
    "print(\"A2o coeff:                 \", round(a2o_spearman_coeff,3))\n",
    "print(\"A2o LL:                    \", round((1-a2o_spearman_coeff)*100,1))\n",
    "print(\"--------------------------------\")\n",
    "\n",
    "\n",
    "a3o_spearman_r, a3o_spearman_r_pval = stats.spearmanr(a3o_dlist, a3o_olist)\n",
    "print(\"A3o Spearman's r:          \", str(round(a3o_spearman_r, 3)))\n",
    "print(\"A3o Spearman's r, p value: \", str(round(a3o_spearman_r_pval, 8)))\n",
    "a3o_spearman_coeff = a3o_spearman_r ** 2\n",
    "print(\"A3o coeff:                 \", round(a3o_spearman_coeff,3))\n",
    "print(\"A3o LL:                    \", round((1-a3o_spearman_coeff)*100,1))\n",
    "print(\"--------------------------------\")"
   ]
  },
  {
   "cell_type": "code",
   "execution_count": 43,
   "metadata": {
    "ExecuteTime": {
     "end_time": "2021-12-18T20:20:10.951262Z",
     "start_time": "2021-12-18T20:20:10.920256Z"
    }
   },
   "outputs": [
    {
     "data": {
      "text/html": [
       "<div>\n",
       "<style scoped>\n",
       "    .dataframe tbody tr th:only-of-type {\n",
       "        vertical-align: middle;\n",
       "    }\n",
       "\n",
       "    .dataframe tbody tr th {\n",
       "        vertical-align: top;\n",
       "    }\n",
       "\n",
       "    .dataframe thead th {\n",
       "        text-align: right;\n",
       "    }\n",
       "</style>\n",
       "<table border=\"1\" class=\"dataframe\">\n",
       "  <thead>\n",
       "    <tr style=\"text-align: right;\">\n",
       "      <th></th>\n",
       "      <th>a1o_dlist</th>\n",
       "      <th>a1o_olist</th>\n",
       "      <th>a2o_dlist</th>\n",
       "      <th>a2o_olist</th>\n",
       "      <th>a3o_dlist</th>\n",
       "      <th>a3o_olist</th>\n",
       "    </tr>\n",
       "  </thead>\n",
       "  <tbody>\n",
       "    <tr>\n",
       "      <th>0</th>\n",
       "      <td>1</td>\n",
       "      <td>3.0</td>\n",
       "      <td>2</td>\n",
       "      <td>12.0</td>\n",
       "      <td>1</td>\n",
       "      <td>8.0</td>\n",
       "    </tr>\n",
       "    <tr>\n",
       "      <th>1</th>\n",
       "      <td>14</td>\n",
       "      <td>13.0</td>\n",
       "      <td>14</td>\n",
       "      <td>12.0</td>\n",
       "      <td>14</td>\n",
       "      <td>8.0</td>\n",
       "    </tr>\n",
       "    <tr>\n",
       "      <th>2</th>\n",
       "      <td>6</td>\n",
       "      <td>6.0</td>\n",
       "      <td>6</td>\n",
       "      <td>3.5</td>\n",
       "      <td>6</td>\n",
       "      <td>4.5</td>\n",
       "    </tr>\n",
       "    <tr>\n",
       "      <th>3</th>\n",
       "      <td>2</td>\n",
       "      <td>2.0</td>\n",
       "      <td>3</td>\n",
       "      <td>2.0</td>\n",
       "      <td>3</td>\n",
       "      <td>2.0</td>\n",
       "    </tr>\n",
       "    <tr>\n",
       "      <th>4</th>\n",
       "      <td>5</td>\n",
       "      <td>5.0</td>\n",
       "      <td>5</td>\n",
       "      <td>12.0</td>\n",
       "      <td>4</td>\n",
       "      <td>4.5</td>\n",
       "    </tr>\n",
       "    <tr>\n",
       "      <th>5</th>\n",
       "      <td>10</td>\n",
       "      <td>9.0</td>\n",
       "      <td>10</td>\n",
       "      <td>6.5</td>\n",
       "      <td>10</td>\n",
       "      <td>13.0</td>\n",
       "    </tr>\n",
       "    <tr>\n",
       "      <th>6</th>\n",
       "      <td>4</td>\n",
       "      <td>4.0</td>\n",
       "      <td>4</td>\n",
       "      <td>6.5</td>\n",
       "      <td>5</td>\n",
       "      <td>8.0</td>\n",
       "    </tr>\n",
       "    <tr>\n",
       "      <th>7</th>\n",
       "      <td>12</td>\n",
       "      <td>13.0</td>\n",
       "      <td>12</td>\n",
       "      <td>12.0</td>\n",
       "      <td>12</td>\n",
       "      <td>13.0</td>\n",
       "    </tr>\n",
       "    <tr>\n",
       "      <th>8</th>\n",
       "      <td>11</td>\n",
       "      <td>13.0</td>\n",
       "      <td>11</td>\n",
       "      <td>12.0</td>\n",
       "      <td>11</td>\n",
       "      <td>13.0</td>\n",
       "    </tr>\n",
       "    <tr>\n",
       "      <th>9</th>\n",
       "      <td>15</td>\n",
       "      <td>7.5</td>\n",
       "      <td>15</td>\n",
       "      <td>12.0</td>\n",
       "      <td>15</td>\n",
       "      <td>13.0</td>\n",
       "    </tr>\n",
       "    <tr>\n",
       "      <th>10</th>\n",
       "      <td>9</td>\n",
       "      <td>7.5</td>\n",
       "      <td>8</td>\n",
       "      <td>3.5</td>\n",
       "      <td>8</td>\n",
       "      <td>3.0</td>\n",
       "    </tr>\n",
       "    <tr>\n",
       "      <th>11</th>\n",
       "      <td>7</td>\n",
       "      <td>10.0</td>\n",
       "      <td>7</td>\n",
       "      <td>6.5</td>\n",
       "      <td>7</td>\n",
       "      <td>13.0</td>\n",
       "    </tr>\n",
       "    <tr>\n",
       "      <th>12</th>\n",
       "      <td>8</td>\n",
       "      <td>13.0</td>\n",
       "      <td>9</td>\n",
       "      <td>12.0</td>\n",
       "      <td>9</td>\n",
       "      <td>8.0</td>\n",
       "    </tr>\n",
       "    <tr>\n",
       "      <th>13</th>\n",
       "      <td>13</td>\n",
       "      <td>13.0</td>\n",
       "      <td>13</td>\n",
       "      <td>6.5</td>\n",
       "      <td>13</td>\n",
       "      <td>8.0</td>\n",
       "    </tr>\n",
       "    <tr>\n",
       "      <th>14</th>\n",
       "      <td>3</td>\n",
       "      <td>1.0</td>\n",
       "      <td>1</td>\n",
       "      <td>1.0</td>\n",
       "      <td>2</td>\n",
       "      <td>1.0</td>\n",
       "    </tr>\n",
       "  </tbody>\n",
       "</table>\n",
       "</div>"
      ],
      "text/plain": [
       "    a1o_dlist  a1o_olist  a2o_dlist  a2o_olist  a3o_dlist  a3o_olist\n",
       "0           1        3.0          2       12.0          1        8.0\n",
       "1          14       13.0         14       12.0         14        8.0\n",
       "2           6        6.0          6        3.5          6        4.5\n",
       "3           2        2.0          3        2.0          3        2.0\n",
       "4           5        5.0          5       12.0          4        4.5\n",
       "5          10        9.0         10        6.5         10       13.0\n",
       "6           4        4.0          4        6.5          5        8.0\n",
       "7          12       13.0         12       12.0         12       13.0\n",
       "8          11       13.0         11       12.0         11       13.0\n",
       "9          15        7.5         15       12.0         15       13.0\n",
       "10          9        7.5          8        3.5          8        3.0\n",
       "11          7       10.0          7        6.5          7       13.0\n",
       "12          8       13.0          9       12.0          9        8.0\n",
       "13         13       13.0         13        6.5         13        8.0\n",
       "14          3        1.0          1        1.0          2        1.0"
      ]
     },
     "execution_count": 43,
     "metadata": {},
     "output_type": "execute_result"
    }
   ],
   "source": [
    "a1o_dlist = np.array([1,14,6,2,5,10,4,12,11,15,9,7,8,13,3]).reshape((-1, 1))\n",
    "a1o_olist = np.array([3,13,6,2,5,9,4,13,13,7.5,7.5,10,13,13,1]).reshape((-1, 1))\n",
    "\n",
    "a2o_dlist = np.array([2,14,6,3,5,10,4,12,11,15,8,7,9,13,1]).reshape((-1, 1))\n",
    "a2o_olist = np.array([12,12,3.5,2,12,6.5,6.5,12,12,12,3.5,6.5,12,6.5,1]).reshape((-1, 1))\n",
    "\n",
    "a3o_dlist = np.array([1,14,6,3,4,10,5,12,11,15,8,7,9,13,2]).reshape((-1, 1))\n",
    "a3o_olist = np.array([8,8,4.5,2,4.5,13,8,13,13,13,3,13,8,8,1]).reshape((-1, 1))\n",
    "\n",
    "a1o_dlist = list(np.concatenate(a1o_dlist).flat)\n",
    "a1o_olist = list(np.concatenate(a1o_olist).flat)\n",
    "a2o_dlist = list(np.concatenate(a2o_dlist).flat)\n",
    "a2o_olist = list(np.concatenate(a2o_olist).flat)\n",
    "a3o_dlist = list(np.concatenate(a3o_dlist).flat)\n",
    "a3o_olist = list(np.concatenate(a3o_olist).flat)\n",
    "\n",
    "#create dataset\n",
    "df = pd.DataFrame({'a1o_dlist': a1o_dlist,\n",
    "                   'a1o_olist': a1o_olist,\n",
    "                   'a2o_dlist': a2o_dlist,\n",
    "                   'a2o_olist': a2o_olist,\n",
    "                   'a3o_dlist': a3o_dlist,\n",
    "                   'a3o_olist': a3o_olist})\n",
    "#view dataset\n",
    "df"
   ]
  },
  {
   "cell_type": "code",
   "execution_count": 44,
   "metadata": {
    "ExecuteTime": {
     "end_time": "2021-12-18T20:20:45.515964Z",
     "start_time": "2021-12-18T20:20:45.495829Z"
    }
   },
   "outputs": [
    {
     "name": "stdout",
     "output_type": "stream",
     "text": [
      "                            OLS Regression Results                            \n",
      "==============================================================================\n",
      "Dep. Variable:              a1o_olist   R-squared:                       0.647\n",
      "Model:                            OLS   Adj. R-squared:                  0.620\n",
      "Method:                 Least Squares   F-statistic:                     23.85\n",
      "Date:                Sat, 18 Dec 2021   Prob (F-statistic):           0.000299\n",
      "Time:                        12:20:45   Log-Likelihood:                -35.133\n",
      "No. Observations:                  15   AIC:                             74.27\n",
      "Df Residuals:                      13   BIC:                             75.68\n",
      "Df Model:                           1                                         \n",
      "Covariance Type:            nonrobust                                         \n",
      "==============================================================================\n",
      "                 coef    std err          t      P>|t|      [0.025      0.975]\n",
      "------------------------------------------------------------------------------\n",
      "Intercept      1.6857      1.469      1.147      0.272      -1.489       4.860\n",
      "a1o_dlist      0.7893      0.162      4.884      0.000       0.440       1.138\n",
      "==============================================================================\n",
      "Omnibus:                        2.038   Durbin-Watson:                   1.692\n",
      "Prob(Omnibus):                  0.361   Jarque-Bera (JB):                0.489\n",
      "Skew:                          -0.334   Prob(JB):                        0.783\n",
      "Kurtosis:                       3.580   Cond. No.                         19.3\n",
      "==============================================================================\n",
      "\n",
      "Warnings:\n",
      "[1] Standard Errors assume that the covariance matrix of the errors is correctly specified.\n"
     ]
    },
    {
     "name": "stderr",
     "output_type": "stream",
     "text": [
      "C:\\ProgramData\\Anaconda3\\lib\\site-packages\\scipy\\stats\\stats.py:1535: UserWarning: kurtosistest only valid for n>=20 ... continuing anyway, n=15\n",
      "  \"anyway, n=%i\" % int(n))\n"
     ]
    }
   ],
   "source": [
    "#fit multiple linear regression model\n",
    "A1o_model = ols('a1o_olist ~ a1o_dlist', data=df).fit()\n",
    "\n",
    "#view model summary\n",
    "print(A1o_model.summary())"
   ]
  },
  {
   "cell_type": "code",
   "execution_count": 45,
   "metadata": {
    "ExecuteTime": {
     "end_time": "2021-12-18T20:22:14.777259Z",
     "start_time": "2021-12-18T20:22:14.523258Z"
    }
   },
   "outputs": [
    {
     "name": "stdout",
     "output_type": "stream",
     "text": [
      "slope = 0.79 (+/-) 0.16\n",
      "y-intercept = 1.69 (+/-) 1.47\n"
     ]
    },
    {
     "data": {
      "image/png": "[encoded data removed]",
      "text/plain": [
       "<Figure size 864x864 with 1 Axes>"
      ]
     },
     "metadata": {
      "needs_background": "light"
     },
     "output_type": "display_data"
    }
   ],
   "source": [
    "fig = plt.figure(figsize=(12,12))\n",
    "gs = GridSpec(1,1)\n",
    "ax1 = fig.add_subplot(gs[0])\n",
    "\n",
    "ax1.plot(df.a1o_dlist, df.a1o_olist, \"ko\", markersize=7)    \n",
    "\n",
    "# popt_linear: this contains the fitting parameters\n",
    "# pcov_linear: estimated covariance of the fitting paramters\n",
    "popt_linear, pcov_linear = scipy.optimize.curve_fit(linear, df.a1o_dlist, df.a1o_olist)\n",
    "perr_linear = np.sqrt(np.diag(pcov_linear))\n",
    "print (\"slope = %0.2f (+/-) %0.2f\" % (popt_linear[0], perr_linear[0]))\n",
    "print( \"y-intercept = %0.2f (+/-) %0.2f\" %(popt_linear[1], perr_linear[1]))\n",
    "\n",
    "ax1.plot(df.a1o_dlist, linear(df.a1o_dlist, *popt_linear), 'r--', label=\"y= %0.2fx + %0.2f\" % (popt_linear[0], popt_linear[1]))\n",
    "\n",
    "ax1.set_xlim(0,15.5)\n",
    "ax1.set_ylim(0,15.5)\n",
    "\n",
    "ax1.set_title(\"A1fh: Dlist v. Olist Ranks (less outlier)\", fontsize=22)\n",
    "ax1.set_xlabel(\"Dlist Ranks\", fontsize=18)\n",
    "ax1.set_ylabel(\"Olist Ranks\", fontsize=20)\n",
    "ax1.legend(loc='best', fontsize=16)\n",
    "\n",
    "ax1.xaxis.set_major_locator(ticker.MultipleLocator(1))\n",
    "ax1.yaxis.set_major_locator(ticker.MultipleLocator(1))\n",
    "ax1.tick_params(axis='both',which='major', direction=\"out\", bottom=\"on\", length=8, labelsize=14)\n",
    "ax1.tick_params(axis='both',which='minor', direction=\"out\", bottom=\"on\", length=5, labelsize=14)\n",
    "\n",
    "fig.tight_layout()\n",
    "    \n",
    "plt.savefig('A1fh regression chart.png')"
   ]
  },
  {
   "cell_type": "code",
   "execution_count": 47,
   "metadata": {
    "ExecuteTime": {
     "end_time": "2021-12-18T20:22:53.958271Z",
     "start_time": "2021-12-18T20:22:53.930337Z"
    }
   },
   "outputs": [
    {
     "name": "stdout",
     "output_type": "stream",
     "text": [
      "                            OLS Regression Results                            \n",
      "==============================================================================\n",
      "Dep. Variable:              a2o_olist   R-squared:                       0.256\n",
      "Model:                            OLS   Adj. R-squared:                  0.199\n",
      "Method:                 Least Squares   F-statistic:                     4.480\n",
      "Date:                Sat, 18 Dec 2021   Prob (F-statistic):             0.0542\n",
      "Time:                        12:22:53   Log-Likelihood:                -40.058\n",
      "No. Observations:                  15   AIC:                             84.12\n",
      "Df Residuals:                      13   BIC:                             85.53\n",
      "Df Model:                           1                                         \n",
      "Covariance Type:            nonrobust                                         \n",
      "==============================================================================\n",
      "                 coef    std err          t      P>|t|      [0.025      0.975]\n",
      "------------------------------------------------------------------------------\n",
      "Intercept      4.2000      2.040      2.058      0.060      -0.208       8.608\n",
      "a2o_dlist      0.4750      0.224      2.117      0.054      -0.010       0.960\n",
      "==============================================================================\n",
      "Omnibus:                        1.342   Durbin-Watson:                   1.788\n",
      "Prob(Omnibus):                  0.511   Jarque-Bera (JB):                0.997\n",
      "Skew:                           0.384   Prob(JB):                        0.607\n",
      "Kurtosis:                       1.997   Cond. No.                         19.3\n",
      "==============================================================================\n",
      "\n",
      "Warnings:\n",
      "[1] Standard Errors assume that the covariance matrix of the errors is correctly specified.\n"
     ]
    }
   ],
   "source": [
    "#fit multiple linear regression model\n",
    "A2o_model = ols('a2o_olist ~ a2o_dlist', data=df).fit()\n",
    "\n",
    "#view model summary\n",
    "print(A2o_model.summary())"
   ]
  },
  {
   "cell_type": "code",
   "execution_count": 49,
   "metadata": {
    "ExecuteTime": {
     "end_time": "2021-12-18T20:24:36.654610Z",
     "start_time": "2021-12-18T20:24:36.400537Z"
    }
   },
   "outputs": [
    {
     "name": "stdout",
     "output_type": "stream",
     "text": [
      "slope = 0.47 (+/-) 0.22\n",
      "y-intercept = 4.20 (+/-) 2.04\n"
     ]
    },
    {
     "data": {
      "image/png": "[encoded data removed]",
      "text/plain": [
       "<Figure size 864x864 with 1 Axes>"
      ]
     },
     "metadata": {
      "needs_background": "light"
     },
     "output_type": "display_data"
    }
   ],
   "source": [
    "fig = plt.figure(figsize=(12,12))\n",
    "gs = GridSpec(1,1)\n",
    "ax1 = fig.add_subplot(gs[0])\n",
    "\n",
    "ax1.plot(df.a2o_dlist, df.a2o_olist, \"ko\", markersize=7)     \n",
    "\n",
    "# popt_linear: this contains the fitting parameters\n",
    "# pcov_linear: estimated covariance of the fitting paramters\n",
    "popt_linear, pcov_linear = scipy.optimize.curve_fit(linear, df.a2o_dlist, df.a2o_olist)\n",
    "perr_linear = np.sqrt(np.diag(pcov_linear))\n",
    "print (\"slope = %0.2f (+/-) %0.2f\" % (popt_linear[0], perr_linear[0]))\n",
    "print( \"y-intercept = %0.2f (+/-) %0.2f\" %(popt_linear[1], perr_linear[1]))\n",
    "\n",
    "ax1.plot(df.a2o_dlist, linear(df.a2o_dlist, *popt_linear), 'r--', label=\"y= %0.2fx + %0.2f\" % (popt_linear[0], popt_linear[1]))\n",
    "\n",
    "ax1.set_xlim(0,15.5)\n",
    "ax1.set_ylim(0,15.5)\n",
    "\n",
    "ax1.set_title(\"A2fh: Dlist v. Olist Ranks (less outliers)\", fontsize=22)\n",
    "ax1.set_xlabel(\"Dlist Ranks\", fontsize=18)\n",
    "ax1.set_ylabel(\"Olist Ranks\", fontsize=20)\n",
    "ax1.legend(loc='best', fontsize=16)\n",
    "\n",
    "ax1.xaxis.set_major_locator(ticker.MultipleLocator(1))\n",
    "ax1.yaxis.set_major_locator(ticker.MultipleLocator(1))\n",
    "ax1.tick_params(axis='both',which='major', direction=\"out\", bottom=\"on\", length=8, labelsize=14)\n",
    "ax1.tick_params(axis='both',which='minor', direction=\"out\", bottom=\"on\", length=5, labelsize=14)\n",
    "\n",
    "fig.tight_layout()\n",
    "    \n",
    "plt.savefig('A2fh regression chart.png')"
   ]
  },
  {
   "cell_type": "code",
   "execution_count": 50,
   "metadata": {
    "ExecuteTime": {
     "end_time": "2021-12-18T20:25:08.942290Z",
     "start_time": "2021-12-18T20:25:08.914263Z"
    }
   },
   "outputs": [
    {
     "name": "stdout",
     "output_type": "stream",
     "text": [
      "                            OLS Regression Results                            \n",
      "==============================================================================\n",
      "Dep. Variable:              a3o_olist   R-squared:                       0.388\n",
      "Model:                            OLS   Adj. R-squared:                  0.341\n",
      "Method:                 Least Squares   F-statistic:                     8.257\n",
      "Date:                Sat, 18 Dec 2021   Prob (F-statistic):             0.0131\n",
      "Time:                        12:25:08   Log-Likelihood:                -38.976\n",
      "No. Observations:                  15   AIC:                             81.95\n",
      "Df Residuals:                      13   BIC:                             83.37\n",
      "Df Model:                           1                                         \n",
      "Covariance Type:            nonrobust                                         \n",
      "==============================================================================\n",
      "                 coef    std err          t      P>|t|      [0.025      0.975]\n",
      "------------------------------------------------------------------------------\n",
      "Intercept      3.2000      1.898      1.686      0.116      -0.901       7.301\n",
      "a3o_dlist      0.6000      0.209      2.874      0.013       0.149       1.051\n",
      "==============================================================================\n",
      "Omnibus:                        3.136   Durbin-Watson:                   1.838\n",
      "Prob(Omnibus):                  0.208   Jarque-Bera (JB):                1.191\n",
      "Skew:                           0.160   Prob(JB):                        0.551\n",
      "Kurtosis:                       1.657   Cond. No.                         19.3\n",
      "==============================================================================\n",
      "\n",
      "Warnings:\n",
      "[1] Standard Errors assume that the covariance matrix of the errors is correctly specified.\n"
     ]
    },
    {
     "name": "stderr",
     "output_type": "stream",
     "text": [
      "C:\\ProgramData\\Anaconda3\\lib\\site-packages\\scipy\\stats\\stats.py:1535: UserWarning: kurtosistest only valid for n>=20 ... continuing anyway, n=15\n",
      "  \"anyway, n=%i\" % int(n))\n"
     ]
    }
   ],
   "source": [
    "#fit multiple linear regression model\n",
    "A3o_model = ols('a3o_olist ~ a3o_dlist', data=df).fit()\n",
    "\n",
    "#view model summary\n",
    "print(A3o_model.summary())"
   ]
  },
  {
   "cell_type": "code",
   "execution_count": 51,
   "metadata": {
    "ExecuteTime": {
     "end_time": "2021-12-18T20:27:57.178048Z",
     "start_time": "2021-12-18T20:27:56.878521Z"
    }
   },
   "outputs": [
    {
     "name": "stdout",
     "output_type": "stream",
     "text": [
      "slope = 0.60 (+/-) 0.21\n",
      "y-intercept = 3.20 (+/-) 1.90\n"
     ]
    },
    {
     "data": {
      "image/png": "[encoded data removed]",
      "text/plain": [
       "<Figure size 864x864 with 1 Axes>"
      ]
     },
     "metadata": {
      "needs_background": "light"
     },
     "output_type": "display_data"
    }
   ],
   "source": [
    "fig = plt.figure(figsize=(12,12))\n",
    "gs = GridSpec(1,1)\n",
    "ax1 = fig.add_subplot(gs[0])\n",
    "\n",
    "ax1.plot(df.a3o_dlist, df.a3o_olist, \"ko\", markersize=7)  \n",
    "\n",
    "# popt_linear: this contains the fitting parameters\n",
    "# pcov_linear: estimated covariance of the fitting paramters\n",
    "popt_linear, pcov_linear = scipy.optimize.curve_fit(linear, df.a3o_dlist, df.a3o_olist)\n",
    "perr_linear = np.sqrt(np.diag(pcov_linear))\n",
    "print (\"slope = %0.2f (+/-) %0.2f\" % (popt_linear[0], perr_linear[0]))\n",
    "print( \"y-intercept = %0.2f (+/-) %0.2f\" %(popt_linear[1], perr_linear[1]))\n",
    "\n",
    "ax1.plot(df.a3o_dlist, linear(df.a3o_dlist, *popt_linear), 'r--', label=\"y= %0.2fx + %0.2f\" % (popt_linear[0], popt_linear[1]))\n",
    "\n",
    "ax1.set_xlim(0,15.5)\n",
    "ax1.set_ylim(0,15.5)\n",
    "\n",
    "ax1.set_title(\"A3fh: Dlist v. Olist Ranks (less outliers)\", fontsize=22)\n",
    "ax1.set_xlabel(\"Dlist Ranks\",  fontsize=18)\n",
    "ax1.set_ylabel(\"Olist Ranks\",  fontsize=20)\n",
    "ax1.legend(loc='best', fontsize=16)\n",
    "\n",
    "ax1.xaxis.set_major_locator(ticker.MultipleLocator(1))\n",
    "ax1.yaxis.set_major_locator(ticker.MultipleLocator(1))\n",
    "ax1.tick_params(axis='both',which='major', direction=\"out\", bottom=\"on\", length=8, labelsize=14)\n",
    "ax1.tick_params(axis='both',which='minor', direction=\"out\", bottom=\"on\", length=5, labelsize=14)\n",
    "\n",
    "fig.tight_layout()\n",
    "    \n",
    "plt.savefig('A3fh regression chart.png')"
   ]
  },
  {
   "cell_type": "code",
   "execution_count": 52,
   "metadata": {
    "ExecuteTime": {
     "end_time": "2021-12-18T20:28:17.436299Z",
     "start_time": "2021-12-18T20:28:17.417295Z"
    }
   },
   "outputs": [
    {
     "data": {
      "text/html": [
       "<div>\n",
       "<style scoped>\n",
       "    .dataframe tbody tr th:only-of-type {\n",
       "        vertical-align: middle;\n",
       "    }\n",
       "\n",
       "    .dataframe tbody tr th {\n",
       "        vertical-align: top;\n",
       "    }\n",
       "\n",
       "    .dataframe thead th {\n",
       "        text-align: right;\n",
       "    }\n",
       "</style>\n",
       "<table border=\"1\" class=\"dataframe\">\n",
       "  <thead>\n",
       "    <tr style=\"text-align: right;\">\n",
       "      <th></th>\n",
       "      <th>Afh_LL</th>\n",
       "      <th>Afh_dates</th>\n",
       "    </tr>\n",
       "  </thead>\n",
       "  <tbody>\n",
       "    <tr>\n",
       "      <th>0</th>\n",
       "      <td>35.3</td>\n",
       "      <td>10650</td>\n",
       "    </tr>\n",
       "    <tr>\n",
       "      <th>1</th>\n",
       "      <td>74.4</td>\n",
       "      <td>10050</td>\n",
       "    </tr>\n",
       "    <tr>\n",
       "      <th>2</th>\n",
       "      <td>61.2</td>\n",
       "      <td>9300</td>\n",
       "    </tr>\n",
       "  </tbody>\n",
       "</table>\n",
       "</div>"
      ],
      "text/plain": [
       "   Afh_LL  Afh_dates\n",
       "0    35.3      10650\n",
       "1    74.4      10050\n",
       "2    61.2       9300"
      ]
     },
     "execution_count": 52,
     "metadata": {},
     "output_type": "execute_result"
    }
   ],
   "source": [
    "Afh_LL = [35.3, 74.4, 61.2]\n",
    "Afh_dates = [10650, 10050, 9300]\n",
    "\n",
    "#create dataset\n",
    "Afhgrp_df = pd.DataFrame({'Afh_LL': Afh_LL,\n",
    "                          'Afh_dates': Afh_dates})\n",
    "#view dataset\n",
    "Afhgrp_df"
   ]
  },
  {
   "cell_type": "code",
   "execution_count": 53,
   "metadata": {
    "ExecuteTime": {
     "end_time": "2021-12-18T20:29:15.190801Z",
     "start_time": "2021-12-18T20:29:14.959267Z"
    }
   },
   "outputs": [
    {
     "name": "stdout",
     "output_type": "stream",
     "text": [
      "slope = -0.02 (+/-) 0.02\n",
      "y-intercept = 233.74 (+/-) 235.37\n"
     ]
    },
    {
     "data": {
      "image/png": "[encoded data removed]",
      "text/plain": [
       "<Figure size 864x864 with 1 Axes>"
      ]
     },
     "metadata": {
      "needs_background": "light"
     },
     "output_type": "display_data"
    }
   ],
   "source": [
    "fig = plt.figure(figsize=(12,12))\n",
    "gs = GridSpec(1,1)\n",
    "ax1 = fig.add_subplot(gs[0])\n",
    "\n",
    "ax1.plot(Afhgrp_df.Afh_dates, Afhgrp_df.Afh_LL, \"ko\", markersize=7)    \n",
    "\n",
    "# popt_linear: this contains the fitting parameters\n",
    "# pcov_linear: estimated covariance of the fitting paramters\n",
    "popt_linear, pcov_linear = scipy.optimize.curve_fit(linear, Afhgrp_df.Afh_dates, Afhgrp_df.Afh_LL)\n",
    "perr_linear = np.sqrt(np.diag(pcov_linear))\n",
    "print (\"slope = %0.2f (+/-) %0.2f\" % (popt_linear[0], perr_linear[0]))\n",
    "print( \"y-intercept = %0.2f (+/-) %0.2f\" %(popt_linear[1], perr_linear[1]))\n",
    "\n",
    "ax1.plot(Afhgrp_df.Afh_dates, linear(Afhgrp_df.Afh_dates, *popt_linear), 'r--', label=\"y= %0.2fx + %0.2f\" % (popt_linear[0], popt_linear[1]))\n",
    "\n",
    "ax1.set_xlim(11000,9000)\n",
    "ax1.set_ylim(0,100)\n",
    "\n",
    "ax1.set_title(\"%LL Over Time (A Groups less Flat Hills outlier)\", fontsize=22)\n",
    "ax1.set_ylabel(\"%LL\",  fontsize=20)\n",
    "ax1.set_xlabel(\"Radiocarbon years\",  fontsize=18)\n",
    "ax1.legend(loc='best', fontsize=16)\n",
    "ax1.tick_params(axis='both',which='major', direction=\"out\", bottom=\"on\", length=8, labelsize=16)\n",
    "ax1.tick_params(axis='both',which='minor', direction=\"out\", bottom=\"on\", length=5, labelsize=16)\n",
    "fig.tight_layout()\n",
    "   \n",
    "plt.savefig('Afh LL.png')"
   ]
  },
  {
   "cell_type": "code",
   "execution_count": 54,
   "metadata": {
    "ExecuteTime": {
     "end_time": "2021-12-18T20:29:34.254971Z",
     "start_time": "2021-12-18T20:29:34.240968Z"
    }
   },
   "outputs": [
    {
     "name": "stdout",
     "output_type": "stream",
     "text": [
      "                            OLS Regression Results                            \n",
      "==============================================================================\n",
      "Dep. Variable:                 Afh_LL   R-squared:                       0.361\n",
      "Model:                            OLS   Adj. R-squared:                 -0.277\n",
      "Method:                 Least Squares   F-statistic:                    0.5658\n",
      "Date:                Sat, 18 Dec 2021   Prob (F-statistic):              0.589\n",
      "Time:                        12:29:34   Log-Likelihood:                -11.947\n",
      "No. Observations:                   3   AIC:                             27.89\n",
      "Df Residuals:                       1   BIC:                             26.09\n",
      "Df Model:                           1                                         \n",
      "Covariance Type:            nonrobust                                         \n",
      "==============================================================================\n",
      "                 coef    std err          t      P>|t|      [0.025      0.975]\n",
      "------------------------------------------------------------------------------\n",
      "Intercept    233.7426    235.368      0.993      0.502   -2756.892    3224.378\n",
      "Afh_dates     -0.0177      0.024     -0.752      0.589      -0.316       0.281\n",
      "==============================================================================\n",
      "Omnibus:                          nan   Durbin-Watson:                   2.992\n",
      "Prob(Omnibus):                    nan   Jarque-Bera (JB):                0.522\n",
      "Skew:                           0.694   Prob(JB):                        0.770\n",
      "Kurtosis:                       1.500   Cond. No.                     1.82e+05\n",
      "==============================================================================\n",
      "\n",
      "Warnings:\n",
      "[1] Standard Errors assume that the covariance matrix of the errors is correctly specified.\n",
      "[2] The condition number is large, 1.82e+05. This might indicate that there are\n",
      "strong multicollinearity or other numerical problems.\n"
     ]
    },
    {
     "name": "stderr",
     "output_type": "stream",
     "text": [
      "C:\\ProgramData\\Anaconda3\\lib\\site-packages\\statsmodels\\stats\\stattools.py:71: ValueWarning: omni_normtest is not valid with less than 8 observations; 3 samples were given.\n",
      "  \"samples were given.\" % int(n), ValueWarning)\n"
     ]
    }
   ],
   "source": [
    "#fit multiple linear regression model\n",
    "Afh_model = ols('Afh_LL ~ Afh_dates', data=Afhgrp_df).fit()\n",
    "\n",
    "#view model summary\n",
    "print(Afh_model.summary())"
   ]
  },
  {
   "cell_type": "code",
   "execution_count": 55,
   "metadata": {
    "ExecuteTime": {
     "end_time": "2021-12-18T20:30:12.722793Z",
     "start_time": "2021-12-18T20:30:12.711268Z"
    }
   },
   "outputs": [
    {
     "name": "stdout",
     "output_type": "stream",
     "text": [
      "Afh Pearson's r:           -0.601\n",
      "Afh Pearson's r, p value:  0.5894\n",
      "--------------------------------\n"
     ]
    }
   ],
   "source": [
    "Afh_pearson_r, Afh_pearson_r_pval = stats.pearsonr(Afh_LL, Afh_dates)\n",
    "print(\"Afh Pearson's r:          \", str(round(Afh_pearson_r, 3)))\n",
    "print(\"Afh Pearson's r, p value: \", str(round(Afh_pearson_r_pval, 4)))\n",
    "print(\"--------------------------------\")"
   ]
  },
  {
   "cell_type": "code",
   "execution_count": 56,
   "metadata": {
    "ExecuteTime": {
     "end_time": "2021-12-18T20:30:13.567274Z",
     "start_time": "2021-12-18T20:30:13.550239Z"
    }
   },
   "outputs": [
    {
     "name": "stdout",
     "output_type": "stream",
     "text": [
      "Afh Spearman's r:           -0.5\n",
      "Afh Spearman's r, p value:  0.6667\n"
     ]
    }
   ],
   "source": [
    "Afh_spearman_r, Afh_spearman_r_pval = stats.spearmanr(Afh_LL, Afh_dates)\n",
    "print(\"Afh Spearman's r:          \", str(round(Afh_spearman_r, 3)))\n",
    "print(\"Afh Spearman's r, p value: \", str(round(Afh_spearman_r_pval, 4)))"
   ]
  },
  {
   "cell_type": "code",
   "execution_count": null,
   "metadata": {},
   "outputs": [],
   "source": []
  }
 ],
 "metadata": {
  "kernelspec": {
   "display_name": "Python 3.7.6 64-bit ('base')",
   "language": "python",
   "name": "python37664bitbased8e3534a00c646cc9f91e1fe3a0fa8ec"
  },
  "language_info": {
   "codemirror_mode": {
    "name": "ipython",
    "version": 3
   },
   "file_extension": ".py",
   "mimetype": "text/x-python",
   "name": "python",
   "nbconvert_exporter": "python",
   "pygments_lexer": "ipython3",
   "version": "3.7.6"
  }
 },
 "nbformat": 4,
 "nbformat_minor": 5
}
