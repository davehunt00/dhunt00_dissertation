{
 "cells": [
  {
   "cell_type": "markdown",
   "id": "7bb387a0",
   "metadata": {},
   "source": [
    "# Discoverability Testing - Channel Age (C) Groups Statistical Tests"
   ]
  },
  {
   "cell_type": "code",
   "execution_count": 61,
   "id": "027c8969",
   "metadata": {
    "ExecuteTime": {
     "end_time": "2022-11-09T05:53:29.978718Z",
     "start_time": "2022-11-09T05:53:29.974717Z"
    }
   },
   "outputs": [],
   "source": [
    "# Dave Hunt\n",
    "# University of Washington\n",
    "# Nov 8, 2022\n",
    "\n",
    "# This notebook runs regression analysis and statistical tests on the Dlist and Olist ranked lists produced to\n",
    "# test Discoverability of toolstone sources surrounding the Old River Bed delta archaeological sites.\n",
    "\n",
    "#  Discoverability/ \n",
    "#    │\n",
    "#    ├──notebooks/\n",
    "#    │   └── Discoverability Testing - A Groups statistical tests.ipynb\n",
    "#    │   │\n",
    "#    │   └── Discoverability Testing - C Groups statistical tests.ipynb\n",
    "#    │\n",
    "#    │──shapefiles/\n",
    "#    │\n",
    "#    └──Excel/\n",
    "#\n",
    "# Copyright (c) 2022, David Hunt\n",
    "# All rights reserved.\n",
    "\n",
    "# This source code is licensed under the BSD-style license found in the\n",
    "# LICENSE file in the root directory of this source tree. "
   ]
  },
  {
   "cell_type": "markdown",
   "id": "4fd04f4d",
   "metadata": {},
   "source": [
    "This notebook is used to perform linear regression on the Channel Age groups Dlist and Olist data created in the associated Excel spreadsheet. In this notebook, simple linear regression is run on the Dlist and Olist data to ensure \n",
    "its statistical validity.  The results are then used to produce the %LL value for each group.  These %LL values are plotted over time to gauge landscape learning over the time of the Paleoindian occupation of the Old River Bed delta in Utah, USA"
   ]
  },
  {
   "cell_type": "code",
   "execution_count": 62,
   "id": "01639c68",
   "metadata": {
    "ExecuteTime": {
     "end_time": "2022-11-09T05:53:31.102196Z",
     "start_time": "2022-11-09T05:53:31.086192Z"
    }
   },
   "outputs": [],
   "source": [
    "# included Python libraries\n",
    "import statsmodels.api as sm\n",
    "from statsmodels.compat import lzip\n",
    "import statsmodels.stats.api as sms\n",
    "from statsmodels.formula.api import ols\n",
    "\n",
    "from matplotlib import pyplot as plt\n",
    "from matplotlib.gridspec import GridSpec\n",
    "from matplotlib.ticker import AutoMinorLocator\n",
    "import matplotlib.ticker as ticker\n",
    "\n",
    "import scipy as scipy\n",
    "from scipy import stats\n",
    "\n",
    "import numpy as np\n",
    "import pandas as pd"
   ]
  },
  {
   "cell_type": "code",
   "execution_count": 63,
   "id": "fcdb8209",
   "metadata": {
    "ExecuteTime": {
     "end_time": "2022-11-09T05:53:31.781945Z",
     "start_time": "2022-11-09T05:53:31.779945Z"
    }
   },
   "outputs": [],
   "source": [
    "# function that returns a line with equation mx+b \n",
    "def linear(x, m, b):\n",
    "    return m*x + b"
   ]
  },
  {
   "cell_type": "code",
   "execution_count": 67,
   "id": "aeb48660",
   "metadata": {
    "ExecuteTime": {
     "end_time": "2022-11-09T05:57:53.340799Z",
     "start_time": "2022-11-09T05:57:53.330798Z"
    }
   },
   "outputs": [],
   "source": [
    "# The C group (C1 - C5) Dlists (expected rank orders)\n",
    "c1_dlist = np.array([1,15,6,2,5,11,4,13,7,12,16,10,8,9,14,3])  # Black channel, same as D1\n",
    "c2_dlist = np.array([2,15,6,3,5,11,4,13,7,12,16,9,8,10,14,1])  # Green channel\n",
    "c3_dlist = np.array([1,15,6,3,5,11,4,13,7,12,16,10,8,9,14,2])  # Blue B channel\n",
    "c4_dlist = np.array([3,15,6,2,5,11,4,13,7,12,16,9,8,10,14,1])  # Light Blue channel\n",
    "c5_dlist = np.array([3,15,6,2,5,11,4,13,7,12,16,9,8,10,14,1])  # Lavender channel\n",
    "\n",
    "# The C Group Olists (actual/observed artifact counts)\n",
    "c1_olist = pd.Series([14,0,5,23,6,2,7,0,117,0,3,3,1,0,0,48])\n",
    "c2_olist = pd.Series([0,0,2,11,0,1,1,0,20,0,0,2,1,0,1,30])\n",
    "c3_olist = pd.Series([2,0,1,1,0,0,1,1,5,1,0,1,0,0,0,11])\n",
    "c4_olist = pd.Series([1,1,2,8,2,0,1,0,38,0,0,2,0,1,1,21])\n",
    "c5_olist = pd.Series([0,0,0,3,0,0,0,0,0,0,0,1,0,0,0,16])"
   ]
  },
  {
   "cell_type": "code",
   "execution_count": 68,
   "id": "d85e17f7",
   "metadata": {
    "ExecuteTime": {
     "end_time": "2022-11-09T05:57:53.889771Z",
     "start_time": "2022-11-09T05:57:53.871767Z"
    }
   },
   "outputs": [],
   "source": [
    "c1_olist_rank = c1_olist.rank(ascending = False)\n",
    "c2_olist_rank = c2_olist.rank(ascending = False)\n",
    "c3_olist_rank = c3_olist.rank(ascending = False)\n",
    "c4_olist_rank = c4_olist.rank(ascending = False)\n",
    "c5_olist_rank = c5_olist.rank(ascending = False)"
   ]
  },
  {
   "cell_type": "code",
   "execution_count": 69,
   "id": "63bc956c",
   "metadata": {
    "ExecuteTime": {
     "end_time": "2022-11-09T05:57:54.391543Z",
     "start_time": "2022-11-09T05:57:54.380541Z"
    }
   },
   "outputs": [
    {
     "name": "stdout",
     "output_type": "stream",
     "text": [
      "0     13.0\n",
      "1     13.0\n",
      "2      4.5\n",
      "3      3.0\n",
      "4     13.0\n",
      "5      7.5\n",
      "6      7.5\n",
      "7     13.0\n",
      "8      2.0\n",
      "9     13.0\n",
      "10    13.0\n",
      "11     4.5\n",
      "12     7.5\n",
      "13    13.0\n",
      "14     7.5\n",
      "15     1.0\n",
      "dtype: float64\n"
     ]
    }
   ],
   "source": [
    "print(c2_olist_rank)"
   ]
  },
  {
   "cell_type": "code",
   "execution_count": 70,
   "id": "ea852874",
   "metadata": {
    "ExecuteTime": {
     "end_time": "2022-11-09T05:58:05.372116Z",
     "start_time": "2022-11-09T05:58:05.356112Z"
    }
   },
   "outputs": [
    {
     "name": "stdout",
     "output_type": "stream",
     "text": [
      "c1 Spearman's r:           0.77679\n",
      "c1 Spearman's r, p value:  0.0004\n",
      "c1 Spearman's r2:          0.60341\n",
      "c1 %LL =  39.7\n",
      "--------------------------------\n",
      "c2 Spearman's r:           0.50183\n",
      "c2 Spearman's r, p value:  0.048\n",
      "c2 Spearman's r2:          0.25184\n",
      "c2 %LL =  74.8\n",
      "--------------------------------\n",
      "c3 Spearman's r:           0.59728\n",
      "c3 Spearman's r, p value:  0.015\n",
      "c3 Spearman's r2:          0.35675\n",
      "c3 %LL =  64.3\n",
      "--------------------------------\n",
      "c4 Spearman's r:           0.64778\n",
      "c4 Spearman's r, p value:  0.007\n",
      "c4 Spearman's r2:          0.41962\n",
      "c4 %LL =  58.040000000000006\n",
      "--------------------------------\n",
      "c5 Spearman's r:           0.50048\n",
      "c5 Spearman's r, p value:  0.048\n",
      "c5 Spearman's r2:          0.25048\n",
      "c5 %LL =  75.0\n"
     ]
    }
   ],
   "source": [
    "# Compare the Dlist and Olist pair for each C group using Spearmans's rank-order correlation\n",
    "c1_spearman_r, c1_spearman_r_pval = stats.spearmanr(c1_olist_rank, c1_dlist)\n",
    "print(\"c1 Spearman's r:          \", str(round(c1_spearman_r, 5)))\n",
    "print(\"c1 Spearman's r, p value: \", str(round(c1_spearman_r_pval, 4)))\n",
    "c1_r2 = c1_spearman_r * c1_spearman_r\n",
    "print(\"c1 Spearman's r2:         \", round(c1_r2, 5))\n",
    "print(\"c1 %LL = \", round(1 - c1_r2,3) * 100)\n",
    "print(\"--------------------------------\")\n",
    "\n",
    "c2_spearman_r, c2_spearman_r_pval = stats.spearmanr(c2_olist_rank, c2_dlist)\n",
    "print(\"c2 Spearman's r:          \", str(round(c2_spearman_r, 5)))\n",
    "print(\"c2 Spearman's r, p value: \", str(round(c2_spearman_r_pval, 3)))\n",
    "c2_r2 = c2_spearman_r * c2_spearman_r\n",
    "print(\"c2 Spearman's r2:         \", round(c2_r2, 5))\n",
    "print(\"c2 %LL = \", round(1 - c2_r2,3) * 100)\n",
    "print(\"--------------------------------\")\n",
    "\n",
    "c3_spearman_r, c3_spearman_r_pval = stats.spearmanr(c3_olist_rank, c3_dlist)\n",
    "print(\"c3 Spearman's r:          \", str(round(c3_spearman_r, 5)))\n",
    "print(\"c3 Spearman's r, p value: \", str(round(c3_spearman_r_pval, 3)))\n",
    "c3_r2 = c3_spearman_r * c3_spearman_r\n",
    "print(\"c3 Spearman's r2:         \", round(c3_r2, 5))\n",
    "print(\"c3 %LL = \", round(1 - c3_r2,3) * 100)\n",
    "print(\"--------------------------------\")\n",
    "\n",
    "c4_spearman_r, c4_spearman_r_pval = stats.spearmanr(c4_olist_rank, c4_dlist)\n",
    "print(\"c4 Spearman's r:          \", str(round(c4_spearman_r, 5)))\n",
    "print(\"c4 Spearman's r, p value: \", str(round(c4_spearman_r_pval, 3)))\n",
    "c4_r2 = c4_spearman_r * c4_spearman_r\n",
    "print(\"c4 Spearman's r2:         \", round(c4_r2, 5))\n",
    "print(\"c4 %LL = \", round(1 - c4_r2,4) * 100)\n",
    "print(\"--------------------------------\")\n",
    "\n",
    "c5_spearman_r, c5_spearman_r_pval = stats.spearmanr(c5_olist_rank, c5_dlist)\n",
    "print(\"c5 Spearman's r:          \", str(round(c5_spearman_r, 5)))\n",
    "print(\"c5 Spearman's r, p value: \", str(round(c5_spearman_r_pval, 3)))\n",
    "c5_r2 = c5_spearman_r * c5_spearman_r\n",
    "print(\"c5 Spearman's r2:         \", round(c5_r2, 5))\n",
    "print(\"c5 %LL = \", round(1 - c5_r2,3) * 100)"
   ]
  },
  {
   "cell_type": "code",
   "execution_count": 71,
   "id": "f452f2b7",
   "metadata": {
    "ExecuteTime": {
     "end_time": "2022-11-09T05:59:29.647446Z",
     "start_time": "2022-11-09T05:59:29.626441Z"
    }
   },
   "outputs": [
    {
     "data": {
      "text/html": [
       "<div>\n",
       "<style scoped>\n",
       "    .dataframe tbody tr th:only-of-type {\n",
       "        vertical-align: middle;\n",
       "    }\n",
       "\n",
       "    .dataframe tbody tr th {\n",
       "        vertical-align: top;\n",
       "    }\n",
       "\n",
       "    .dataframe thead th {\n",
       "        text-align: right;\n",
       "    }\n",
       "</style>\n",
       "<table border=\"1\" class=\"dataframe\">\n",
       "  <thead>\n",
       "    <tr style=\"text-align: right;\">\n",
       "      <th></th>\n",
       "      <th>c1_x</th>\n",
       "      <th>c1_y</th>\n",
       "      <th>c2_x</th>\n",
       "      <th>c2_y</th>\n",
       "      <th>c3_x</th>\n",
       "      <th>c3_y</th>\n",
       "      <th>c4_x</th>\n",
       "      <th>c4_y</th>\n",
       "      <th>c5_x</th>\n",
       "      <th>c5_y</th>\n",
       "    </tr>\n",
       "  </thead>\n",
       "  <tbody>\n",
       "    <tr>\n",
       "      <th>0</th>\n",
       "      <td>1</td>\n",
       "      <td>4.0</td>\n",
       "      <td>2</td>\n",
       "      <td>13.0</td>\n",
       "      <td>1</td>\n",
       "      <td>3.0</td>\n",
       "      <td>3</td>\n",
       "      <td>9.0</td>\n",
       "      <td>3</td>\n",
       "      <td>10.0</td>\n",
       "    </tr>\n",
       "    <tr>\n",
       "      <th>1</th>\n",
       "      <td>15</td>\n",
       "      <td>14.0</td>\n",
       "      <td>15</td>\n",
       "      <td>13.0</td>\n",
       "      <td>15</td>\n",
       "      <td>13.0</td>\n",
       "      <td>15</td>\n",
       "      <td>9.0</td>\n",
       "      <td>15</td>\n",
       "      <td>10.0</td>\n",
       "    </tr>\n",
       "    <tr>\n",
       "      <th>2</th>\n",
       "      <td>6</td>\n",
       "      <td>7.0</td>\n",
       "      <td>6</td>\n",
       "      <td>4.5</td>\n",
       "      <td>6</td>\n",
       "      <td>6.5</td>\n",
       "      <td>6</td>\n",
       "      <td>5.0</td>\n",
       "      <td>6</td>\n",
       "      <td>10.0</td>\n",
       "    </tr>\n",
       "    <tr>\n",
       "      <th>3</th>\n",
       "      <td>2</td>\n",
       "      <td>3.0</td>\n",
       "      <td>3</td>\n",
       "      <td>3.0</td>\n",
       "      <td>3</td>\n",
       "      <td>6.5</td>\n",
       "      <td>2</td>\n",
       "      <td>3.0</td>\n",
       "      <td>2</td>\n",
       "      <td>2.0</td>\n",
       "    </tr>\n",
       "    <tr>\n",
       "      <th>4</th>\n",
       "      <td>5</td>\n",
       "      <td>6.0</td>\n",
       "      <td>5</td>\n",
       "      <td>13.0</td>\n",
       "      <td>5</td>\n",
       "      <td>13.0</td>\n",
       "      <td>5</td>\n",
       "      <td>5.0</td>\n",
       "      <td>5</td>\n",
       "      <td>10.0</td>\n",
       "    </tr>\n",
       "    <tr>\n",
       "      <th>5</th>\n",
       "      <td>11</td>\n",
       "      <td>10.0</td>\n",
       "      <td>11</td>\n",
       "      <td>7.5</td>\n",
       "      <td>11</td>\n",
       "      <td>13.0</td>\n",
       "      <td>11</td>\n",
       "      <td>14.0</td>\n",
       "      <td>11</td>\n",
       "      <td>10.0</td>\n",
       "    </tr>\n",
       "    <tr>\n",
       "      <th>6</th>\n",
       "      <td>4</td>\n",
       "      <td>5.0</td>\n",
       "      <td>4</td>\n",
       "      <td>7.5</td>\n",
       "      <td>4</td>\n",
       "      <td>6.5</td>\n",
       "      <td>4</td>\n",
       "      <td>9.0</td>\n",
       "      <td>4</td>\n",
       "      <td>10.0</td>\n",
       "    </tr>\n",
       "    <tr>\n",
       "      <th>7</th>\n",
       "      <td>13</td>\n",
       "      <td>14.0</td>\n",
       "      <td>13</td>\n",
       "      <td>13.0</td>\n",
       "      <td>13</td>\n",
       "      <td>6.5</td>\n",
       "      <td>13</td>\n",
       "      <td>14.0</td>\n",
       "      <td>13</td>\n",
       "      <td>10.0</td>\n",
       "    </tr>\n",
       "    <tr>\n",
       "      <th>8</th>\n",
       "      <td>7</td>\n",
       "      <td>1.0</td>\n",
       "      <td>7</td>\n",
       "      <td>2.0</td>\n",
       "      <td>7</td>\n",
       "      <td>2.0</td>\n",
       "      <td>7</td>\n",
       "      <td>1.0</td>\n",
       "      <td>7</td>\n",
       "      <td>10.0</td>\n",
       "    </tr>\n",
       "    <tr>\n",
       "      <th>9</th>\n",
       "      <td>12</td>\n",
       "      <td>14.0</td>\n",
       "      <td>12</td>\n",
       "      <td>13.0</td>\n",
       "      <td>12</td>\n",
       "      <td>6.5</td>\n",
       "      <td>12</td>\n",
       "      <td>14.0</td>\n",
       "      <td>12</td>\n",
       "      <td>10.0</td>\n",
       "    </tr>\n",
       "    <tr>\n",
       "      <th>10</th>\n",
       "      <td>16</td>\n",
       "      <td>8.5</td>\n",
       "      <td>16</td>\n",
       "      <td>13.0</td>\n",
       "      <td>16</td>\n",
       "      <td>13.0</td>\n",
       "      <td>16</td>\n",
       "      <td>14.0</td>\n",
       "      <td>16</td>\n",
       "      <td>10.0</td>\n",
       "    </tr>\n",
       "    <tr>\n",
       "      <th>11</th>\n",
       "      <td>10</td>\n",
       "      <td>8.5</td>\n",
       "      <td>9</td>\n",
       "      <td>4.5</td>\n",
       "      <td>10</td>\n",
       "      <td>6.5</td>\n",
       "      <td>9</td>\n",
       "      <td>5.0</td>\n",
       "      <td>9</td>\n",
       "      <td>3.0</td>\n",
       "    </tr>\n",
       "    <tr>\n",
       "      <th>12</th>\n",
       "      <td>8</td>\n",
       "      <td>11.0</td>\n",
       "      <td>8</td>\n",
       "      <td>7.5</td>\n",
       "      <td>8</td>\n",
       "      <td>13.0</td>\n",
       "      <td>8</td>\n",
       "      <td>14.0</td>\n",
       "      <td>8</td>\n",
       "      <td>10.0</td>\n",
       "    </tr>\n",
       "    <tr>\n",
       "      <th>13</th>\n",
       "      <td>9</td>\n",
       "      <td>14.0</td>\n",
       "      <td>10</td>\n",
       "      <td>13.0</td>\n",
       "      <td>9</td>\n",
       "      <td>13.0</td>\n",
       "      <td>10</td>\n",
       "      <td>9.0</td>\n",
       "      <td>10</td>\n",
       "      <td>10.0</td>\n",
       "    </tr>\n",
       "    <tr>\n",
       "      <th>14</th>\n",
       "      <td>14</td>\n",
       "      <td>14.0</td>\n",
       "      <td>14</td>\n",
       "      <td>7.5</td>\n",
       "      <td>14</td>\n",
       "      <td>13.0</td>\n",
       "      <td>14</td>\n",
       "      <td>9.0</td>\n",
       "      <td>14</td>\n",
       "      <td>10.0</td>\n",
       "    </tr>\n",
       "    <tr>\n",
       "      <th>15</th>\n",
       "      <td>3</td>\n",
       "      <td>2.0</td>\n",
       "      <td>1</td>\n",
       "      <td>1.0</td>\n",
       "      <td>2</td>\n",
       "      <td>1.0</td>\n",
       "      <td>1</td>\n",
       "      <td>2.0</td>\n",
       "      <td>1</td>\n",
       "      <td>1.0</td>\n",
       "    </tr>\n",
       "  </tbody>\n",
       "</table>\n",
       "</div>"
      ],
      "text/plain": [
       "    c1_x  c1_y  c2_x  c2_y  c3_x  c3_y  c4_x  c4_y  c5_x  c5_y\n",
       "0      1   4.0     2  13.0     1   3.0     3   9.0     3  10.0\n",
       "1     15  14.0    15  13.0    15  13.0    15   9.0    15  10.0\n",
       "2      6   7.0     6   4.5     6   6.5     6   5.0     6  10.0\n",
       "3      2   3.0     3   3.0     3   6.5     2   3.0     2   2.0\n",
       "4      5   6.0     5  13.0     5  13.0     5   5.0     5  10.0\n",
       "5     11  10.0    11   7.5    11  13.0    11  14.0    11  10.0\n",
       "6      4   5.0     4   7.5     4   6.5     4   9.0     4  10.0\n",
       "7     13  14.0    13  13.0    13   6.5    13  14.0    13  10.0\n",
       "8      7   1.0     7   2.0     7   2.0     7   1.0     7  10.0\n",
       "9     12  14.0    12  13.0    12   6.5    12  14.0    12  10.0\n",
       "10    16   8.5    16  13.0    16  13.0    16  14.0    16  10.0\n",
       "11    10   8.5     9   4.5    10   6.5     9   5.0     9   3.0\n",
       "12     8  11.0     8   7.5     8  13.0     8  14.0     8  10.0\n",
       "13     9  14.0    10  13.0     9  13.0    10   9.0    10  10.0\n",
       "14    14  14.0    14   7.5    14  13.0    14   9.0    14  10.0\n",
       "15     3   2.0     1   1.0     2   1.0     1   2.0     1   1.0"
      ]
     },
     "execution_count": 71,
     "metadata": {},
     "output_type": "execute_result"
    }
   ],
   "source": [
    "# Form the lists into a Pandas dataframe\n",
    "\n",
    "c1_dlist = np.array([1,15,6,2,5,11,4,13,7,12,16,10,8,9,14,3]).reshape((-1, 1))\n",
    "c2_dlist = np.array([2,15,6,3,5,11,4,13,7,12,16,9,8,10,14,1]).reshape((-1, 1))\n",
    "c3_dlist = np.array([1,15,6,3,5,11,4,13,7,12,16,10,8,9,14,2]).reshape((-1, 1))\n",
    "c4_dlist = np.array([3,15,6,2,5,11,4,13,7,12,16,9,8,10,14,1]).reshape((-1, 1))\n",
    "c5_dlist = np.array([3,15,6,2,5,11,4,13,7,12,16,9,8,10,14,1]).reshape((-1, 1))\n",
    "\n",
    "c1_x = list(np.concatenate(c1_dlist).flat)\n",
    "c2_x = list(np.concatenate(c2_dlist).flat)\n",
    "c3_x = list(np.concatenate(c3_dlist).flat)\n",
    "c4_x = list(np.concatenate(c4_dlist).flat)\n",
    "c5_x = list(np.concatenate(c5_dlist).flat)\n",
    "\n",
    "c1_y = c1_olist_rank.tolist()\n",
    "c2_y = c2_olist_rank.tolist()\n",
    "c3_y = c3_olist_rank.tolist()\n",
    "c4_y = c4_olist_rank.tolist()\n",
    "c5_y = c5_olist_rank.tolist()\n",
    "\n",
    "#create dataset\n",
    "C_df = pd.DataFrame({'c1_x': c1_x,\n",
    "                     'c1_y': c1_y,\n",
    "                     'c2_x': c2_x,\n",
    "                     'c2_y': c2_y,\n",
    "                     'c3_x': c3_x,\n",
    "                     'c3_y': c3_y,                     \n",
    "                     'c4_x': c4_x,\n",
    "                     'c4_y': c4_y,                     \n",
    "                     'c5_x': c5_x,\n",
    "                     'c5_y': c5_y})\n",
    "#view dataset\n",
    "C_df"
   ]
  },
  {
   "cell_type": "markdown",
   "id": "bf131de2",
   "metadata": {},
   "source": [
    "## Plot each group"
   ]
  },
  {
   "cell_type": "code",
   "execution_count": 72,
   "id": "cac0a3da",
   "metadata": {
    "ExecuteTime": {
     "end_time": "2022-11-09T06:00:45.141457Z",
     "start_time": "2022-11-09T06:00:44.571330Z"
    },
    "scrolled": false
   },
   "outputs": [
    {
     "name": "stderr",
     "output_type": "stream",
     "text": [
      "No artists with labels found to put in legend.  Note that artists whose label start with an underscore are ignored when legend() is called with no argument.\n"
     ]
    },
    {
     "data": {
      "image/png": "[encoded data removed]",
      "text/plain": [
       "<Figure size 864x864 with 1 Axes>"
      ]
     },
     "metadata": {
      "needs_background": "light"
     },
     "output_type": "display_data"
    }
   ],
   "source": [
    "# C1 Dlist v Olist\n",
    "# fits the data to a line and plots it\n",
    "fig = plt.figure(figsize=(12,12))\n",
    "gs = GridSpec(1,1)\n",
    "ax1 = fig.add_subplot(gs[0])\n",
    "\n",
    "ax1.plot(C_df.c1_x, C_df.c1_y, \"ko\", markersize=7)    \n",
    "\n",
    "ax1.set_xlim(0,16.5)\n",
    "ax1.set_ylim(0,16.5)\n",
    "\n",
    "ax1.set_title(\"C1: Dlist v. Olist Ranks\", fontsize=22)\n",
    "ax1.set_xlabel(\"Dlist Ranks\",  fontsize=18)\n",
    "ax1.set_ylabel(\"Olist Ranks\",  fontsize=20)\n",
    "ax1.legend(loc='best', fontsize=16)\n",
    "\n",
    "ax1.xaxis.set_major_locator(ticker.MultipleLocator(1))\n",
    "ax1.yaxis.set_major_locator(ticker.MultipleLocator(1))\n",
    "ax1.tick_params(axis='both',which='major', direction=\"out\", bottom=\"on\", length=8, labelsize=14)\n",
    "ax1.tick_params(axis='both',which='minor', direction=\"out\", bottom=\"on\", length=5, labelsize=14)\n",
    "\n",
    "fig.tight_layout()\n",
    "\n",
    "plt.annotate(\"Malad\",               # this is the text\n",
    "        (16,8.5),                   # these are the coordinates to position the label\n",
    "        textcoords=\"offset points\", # how to position the text\n",
    "        size=18,\n",
    "        xytext=(-10,10),            # distance from text to points (x,y)\n",
    "        ha='center')                # horizontal alignment can be left, right or center    \n",
    "\n",
    "plt.annotate(\"Flat Hills\", \n",
    "        (7,1), \n",
    "        textcoords=\"offset points\", \n",
    "        size=18,\n",
    "        xytext=(-5,10), \n",
    "        ha='center') \n",
    "    \n",
    "plt.savefig('C1 scatter plot book1 300dpi.jpg', dpi=300)"
   ]
  },
  {
   "cell_type": "code",
   "execution_count": 73,
   "id": "a8a691ea",
   "metadata": {
    "ExecuteTime": {
     "end_time": "2022-11-09T06:00:47.053083Z",
     "start_time": "2022-11-09T06:00:46.489852Z"
    }
   },
   "outputs": [
    {
     "name": "stderr",
     "output_type": "stream",
     "text": [
      "No artists with labels found to put in legend.  Note that artists whose label start with an underscore are ignored when legend() is called with no argument.\n"
     ]
    },
    {
     "data": {
      "image/png": "[encoded data removed]",
      "text/plain": [
       "<Figure size 864x864 with 1 Axes>"
      ]
     },
     "metadata": {
      "needs_background": "light"
     },
     "output_type": "display_data"
    }
   ],
   "source": [
    "# C2 Dlist v Olist\n",
    "# fits the data to a line and plots itfig = plt.figure(figsize=(12,12))\n",
    "fig = plt.figure(figsize=(12,12))\n",
    "gs = GridSpec(1,1)\n",
    "ax1 = fig.add_subplot(gs[0])\n",
    "\n",
    "ax1.plot(C_df.c2_x, C_df.c2_y, \"ko\", markersize=7)    \n",
    "\n",
    "ax1.set_xlim(0,16.5)\n",
    "ax1.set_ylim(0,16.5)\n",
    "\n",
    "ax1.set_title(\"C2: Dlist v. Olist Ranks\", fontsize=22)\n",
    "ax1.set_xlabel(\"Dlist Ranks\",  fontsize=18)\n",
    "ax1.set_ylabel(\"Olist Ranks\",  fontsize=20)\n",
    "ax1.legend(loc='best', fontsize=16)\n",
    "\n",
    "ax1.xaxis.set_major_locator(ticker.MultipleLocator(1))\n",
    "ax1.yaxis.set_major_locator(ticker.MultipleLocator(1))\n",
    "ax1.tick_params(axis='both',which='major', direction=\"out\", bottom=\"on\", length=8, labelsize=14)\n",
    "ax1.tick_params(axis='both',which='minor', direction=\"out\", bottom=\"on\", length=5, labelsize=14)\n",
    "\n",
    "plt.annotate(\"Badlands\", \n",
    "        (2,13),\n",
    "        textcoords=\"offset points\", \n",
    "        size=18,\n",
    "        xytext=(10,20), \n",
    "        ha='center') \n",
    "\n",
    "plt.annotate(\"Cedar Mtn\", \n",
    "        (5,13),\n",
    "        textcoords=\"offset points\", \n",
    "        size=18,\n",
    "        xytext=(10,20), \n",
    "        ha='center') \n",
    "\n",
    "fig.tight_layout()\n",
    "    \n",
    "plt.savefig('C2 scatter plot book1 300dpi.jpg', dpi=300)"
   ]
  },
  {
   "cell_type": "code",
   "execution_count": 74,
   "id": "1836fb35",
   "metadata": {
    "ExecuteTime": {
     "end_time": "2022-11-09T06:00:48.098894Z",
     "start_time": "2022-11-09T06:00:47.322984Z"
    }
   },
   "outputs": [
    {
     "name": "stderr",
     "output_type": "stream",
     "text": [
      "No artists with labels found to put in legend.  Note that artists whose label start with an underscore are ignored when legend() is called with no argument.\n"
     ]
    },
    {
     "data": {
      "image/png": "[encoded data removed]",
      "text/plain": [
       "<Figure size 864x864 with 1 Axes>"
      ]
     },
     "metadata": {
      "needs_background": "light"
     },
     "output_type": "display_data"
    }
   ],
   "source": [
    "# C3 Dlist v Olist\n",
    "# fits the data to a line and plots itfig = plt.figure(figsize=(12,12))\n",
    "fig = plt.figure(figsize=(12,12))\n",
    "gs = GridSpec(1,1)\n",
    "ax1 = fig.add_subplot(gs[0])\n",
    "\n",
    "ax1.plot(C_df.c3_x, C_df.c3_y, \"ko\", markersize=7)    \n",
    "\n",
    "ax1.set_xlim(0,16.5)\n",
    "ax1.set_ylim(0,16.5)\n",
    "\n",
    "ax1.set_title(\"C3: Dlist v. Olist Ranks\", fontsize=22)\n",
    "ax1.set_xlabel(\"Dlist Ranks\",  fontsize=18)\n",
    "ax1.set_ylabel(\"Olist Ranks\",  fontsize=20)\n",
    "ax1.legend(loc='best', fontsize=16)\n",
    "\n",
    "ax1.xaxis.set_major_locator(ticker.MultipleLocator(1))\n",
    "ax1.yaxis.set_major_locator(ticker.MultipleLocator(1))\n",
    "ax1.tick_params(axis='both',which='major', direction=\"out\", bottom=\"on\", length=8, labelsize=14)\n",
    "ax1.tick_params(axis='both',which='minor', direction=\"out\", bottom=\"on\", length=5, labelsize=14)\n",
    "\n",
    "plt.annotate(\"Cedar Mtn\", \n",
    "        (5,13),\n",
    "        textcoords=\"offset points\", \n",
    "        size=18,\n",
    "        xytext=(-20,20), \n",
    "        ha='center') \n",
    "\n",
    "plt.annotate(\"Ferguson Wash\", \n",
    "        (13,6.5),\n",
    "        textcoords=\"offset points\", \n",
    "        size=18,\n",
    "        xytext=(50,-30), \n",
    "        ha='center') \n",
    "\n",
    "fig.tight_layout()  \n",
    "plt.savefig('C3 scatter plot book1 300dpi.jpg', dpi=300)"
   ]
  },
  {
   "cell_type": "code",
   "execution_count": 75,
   "id": "a7f26c14",
   "metadata": {
    "ExecuteTime": {
     "end_time": "2022-11-09T06:00:48.686026Z",
     "start_time": "2022-11-09T06:00:48.099895Z"
    }
   },
   "outputs": [
    {
     "name": "stderr",
     "output_type": "stream",
     "text": [
      "No artists with labels found to put in legend.  Note that artists whose label start with an underscore are ignored when legend() is called with no argument.\n"
     ]
    },
    {
     "data": {
      "image/png": "[encoded data removed]",
      "text/plain": [
       "<Figure size 864x864 with 1 Axes>"
      ]
     },
     "metadata": {
      "needs_background": "light"
     },
     "output_type": "display_data"
    }
   ],
   "source": [
    "# C4 Dlist v Olist\n",
    "# fits the data to a line and plots itfig = plt.figure(figsize=(12,12))\n",
    "fig = plt.figure(figsize=(12,12))\n",
    "gs = GridSpec(1,1)\n",
    "ax1 = fig.add_subplot(gs[0])\n",
    "\n",
    "ax1.plot(C_df.c4_x, C_df.c4_y, \"ko\", markersize=7)    \n",
    "\n",
    "ax1.set_xlim(0,16.5)\n",
    "ax1.set_ylim(0,16.5)\n",
    "\n",
    "ax1.set_title(\"C4: Dlist v. Olist Ranks\", fontsize=22)\n",
    "ax1.set_xlabel(\"Dlist Ranks\",  fontsize=18)\n",
    "ax1.set_ylabel(\"Olist Ranks\",  fontsize=20)\n",
    "ax1.legend(loc='best', fontsize=16)\n",
    "\n",
    "ax1.xaxis.set_major_locator(ticker.MultipleLocator(1))\n",
    "ax1.yaxis.set_major_locator(ticker.MultipleLocator(1))\n",
    "ax1.tick_params(axis='both',which='major', direction=\"out\", bottom=\"on\", length=8, labelsize=14)\n",
    "ax1.tick_params(axis='both',which='minor', direction=\"out\", bottom=\"on\", length=5, labelsize=14)\n",
    "\n",
    "plt.annotate(\"Badlands\", \n",
    "        (2,9),\n",
    "        textcoords=\"offset points\", \n",
    "        size=18,\n",
    "        xytext=(10,20), \n",
    "        ha='center') \n",
    "\n",
    "plt.annotate(\"Bear Gulch\", \n",
    "        (15,8),\n",
    "        textcoords=\"offset points\", \n",
    "        size=18,\n",
    "        xytext=(10,20), \n",
    "        ha='center') \n",
    "\n",
    "plt.annotate(\"Flat Hills\", \n",
    "        (7,1),\n",
    "        textcoords=\"offset points\", \n",
    "        size=18,\n",
    "        xytext=(10,20), \n",
    "        ha='center') \n",
    "\n",
    "plt.annotate(\"Owyhee\", \n",
    "        (8,14),\n",
    "        textcoords=\"offset points\", \n",
    "        size=18,\n",
    "        xytext=(10,20), \n",
    "        ha='center') \n",
    "\n",
    "\n",
    "\n",
    "\n",
    "fig.tight_layout()  \n",
    "plt.savefig('C4 scatter plot book1 300dpi.jpg', dpi=300)"
   ]
  },
  {
   "cell_type": "code",
   "execution_count": 76,
   "id": "e01220a4",
   "metadata": {
    "ExecuteTime": {
     "end_time": "2022-11-09T06:00:49.258155Z",
     "start_time": "2022-11-09T06:00:48.687026Z"
    }
   },
   "outputs": [
    {
     "name": "stderr",
     "output_type": "stream",
     "text": [
      "No artists with labels found to put in legend.  Note that artists whose label start with an underscore are ignored when legend() is called with no argument.\n"
     ]
    },
    {
     "data": {
      "image/png": "[encoded data removed]",
      "text/plain": [
       "<Figure size 864x864 with 1 Axes>"
      ]
     },
     "metadata": {
      "needs_background": "light"
     },
     "output_type": "display_data"
    }
   ],
   "source": [
    "# C5 Dlist v Olist\n",
    "# fits the data to a line and plots itfig = plt.figure(figsize=(12,12))\n",
    "fig = plt.figure(figsize=(12,12))\n",
    "gs = GridSpec(1,1)\n",
    "ax1 = fig.add_subplot(gs[0])\n",
    "\n",
    "ax1.plot(C_df.c5_x, C_df.c5_y, \"ko\", markersize=7)    \n",
    "\n",
    "ax1.set_xlim(0,16.5)\n",
    "ax1.set_ylim(0,16.5)\n",
    "\n",
    "ax1.set_title(\"C5: Dlist v. Olist Ranks\", fontsize=22)\n",
    "ax1.set_xlabel(\"Dlist Ranks\",  fontsize=18)\n",
    "ax1.set_ylabel(\"Olist Ranks\",  fontsize=20)\n",
    "ax1.legend(loc='best', fontsize=16)\n",
    "\n",
    "ax1.xaxis.set_major_locator(ticker.MultipleLocator(1))\n",
    "ax1.yaxis.set_major_locator(ticker.MultipleLocator(1))\n",
    "ax1.tick_params(axis='both',which='major', direction=\"out\", bottom=\"on\", length=8, labelsize=14)\n",
    "ax1.tick_params(axis='both',which='minor', direction=\"out\", bottom=\"on\", length=5, labelsize=14)\n",
    "\n",
    "plt.annotate(\"Badlands\", \n",
    "        (3,10),\n",
    "        textcoords=\"offset points\", \n",
    "        size=18,\n",
    "        xytext=(-30,20), \n",
    "        ha='center') \n",
    "\n",
    "fig.tight_layout()  \n",
    "plt.savefig('C5 scatter plot book1 300dpi.jpg', dpi=300)"
   ]
  },
  {
   "cell_type": "markdown",
   "id": "2e1ad415",
   "metadata": {},
   "source": [
    "## Plot the Landscape Learning results"
   ]
  },
  {
   "cell_type": "markdown",
   "id": "b4e693bd",
   "metadata": {},
   "source": [
    "%LL = (1 - r^2)   Calculations and group ages (radiocarbon) are described in my dissertation, Chapter 5"
   ]
  },
  {
   "cell_type": "code",
   "execution_count": 77,
   "id": "d8eb7101",
   "metadata": {
    "ExecuteTime": {
     "end_time": "2022-11-09T06:00:49.274159Z",
     "start_time": "2022-11-09T06:00:49.259156Z"
    }
   },
   "outputs": [
    {
     "data": {
      "text/html": [
       "<div>\n",
       "<style scoped>\n",
       "    .dataframe tbody tr th:only-of-type {\n",
       "        vertical-align: middle;\n",
       "    }\n",
       "\n",
       "    .dataframe tbody tr th {\n",
       "        vertical-align: top;\n",
       "    }\n",
       "\n",
       "    .dataframe thead th {\n",
       "        text-align: right;\n",
       "    }\n",
       "</style>\n",
       "<table border=\"1\" class=\"dataframe\">\n",
       "  <thead>\n",
       "    <tr style=\"text-align: right;\">\n",
       "      <th></th>\n",
       "      <th>C_LL</th>\n",
       "      <th>C_dates</th>\n",
       "    </tr>\n",
       "  </thead>\n",
       "  <tbody>\n",
       "    <tr>\n",
       "      <th>0</th>\n",
       "      <td>75.0</td>\n",
       "      <td>9050</td>\n",
       "    </tr>\n",
       "    <tr>\n",
       "      <th>1</th>\n",
       "      <td>58.0</td>\n",
       "      <td>9300</td>\n",
       "    </tr>\n",
       "    <tr>\n",
       "      <th>2</th>\n",
       "      <td>64.3</td>\n",
       "      <td>9750</td>\n",
       "    </tr>\n",
       "    <tr>\n",
       "      <th>3</th>\n",
       "      <td>74.8</td>\n",
       "      <td>10050</td>\n",
       "    </tr>\n",
       "    <tr>\n",
       "      <th>4</th>\n",
       "      <td>39.7</td>\n",
       "      <td>10650</td>\n",
       "    </tr>\n",
       "  </tbody>\n",
       "</table>\n",
       "</div>"
      ],
      "text/plain": [
       "   C_LL  C_dates\n",
       "0  75.0     9050\n",
       "1  58.0     9300\n",
       "2  64.3     9750\n",
       "3  74.8    10050\n",
       "4  39.7    10650"
      ]
     },
     "execution_count": 77,
     "metadata": {},
     "output_type": "execute_result"
    }
   ],
   "source": [
    "C_LL = [75, 58.0, 64.3, 74.8, 39.7]\n",
    "C_dates = [9050, 9300, 9750, 10050, 10650]\n",
    "\n",
    "#create dataset\n",
    "Cgrp_df = pd.DataFrame({'C_LL': C_LL,\n",
    "                        'C_dates': C_dates})\n",
    "#view dataset\n",
    "Cgrp_df"
   ]
  },
  {
   "cell_type": "code",
   "execution_count": 78,
   "id": "a8aa2a3a",
   "metadata": {
    "ExecuteTime": {
     "end_time": "2022-11-09T06:00:49.799284Z",
     "start_time": "2022-11-09T06:00:49.275159Z"
    },
    "scrolled": false
   },
   "outputs": [
    {
     "name": "stdout",
     "output_type": "stream",
     "text": [
      "slope = -0.01 (+/-) 0.01\n",
      "y-intercept = 206.72 (+/-) 100.28\n"
     ]
    },
    {
     "data": {
      "image/png": "[encoded data removed]",
      "text/plain": [
       "<Figure size 864x864 with 1 Axes>"
      ]
     },
     "metadata": {
      "needs_background": "light"
     },
     "output_type": "display_data"
    }
   ],
   "source": [
    "fig = plt.figure(figsize=(12,12))\n",
    "gs = GridSpec(1,1)\n",
    "ax1 = fig.add_subplot(gs[0])\n",
    "\n",
    "ax1.plot(Cgrp_df.C_dates, Cgrp_df.C_LL, \"ko\", markersize=7)    \n",
    "\n",
    "# popt_linear: this contains the fitting parameters\n",
    "# pcov_linear: estimated covariance of the fitting paramters\n",
    "popt_linear, pcov_linear = scipy.optimize.curve_fit(linear, Cgrp_df.C_dates, Cgrp_df.C_LL)\n",
    "perr_linear = np.sqrt(np.diag(pcov_linear))\n",
    "print (\"slope = %0.2f (+/-) %0.2f\" % (popt_linear[0], perr_linear[0]))\n",
    "print( \"y-intercept = %0.2f (+/-) %0.2f\" %(popt_linear[1], perr_linear[1]))\n",
    "\n",
    "ax1.plot(Cgrp_df.C_dates, linear(Cgrp_df.C_dates, *popt_linear), 'r--', label=\"y= %0.2fx + %0.2f\" % (popt_linear[0], popt_linear[1]))\n",
    "\n",
    "ax1.set_xlim(10800,8900)\n",
    "ax1.set_ylim(0,100)\n",
    "\n",
    "ax1.set_title(\"%LL Over Time (C Groups)\", fontsize=22)\n",
    "ax1.set_ylabel(\"%LL\",  fontsize=20)\n",
    "ax1.set_xlabel(\"Radiocarbon years\",  fontsize=18)\n",
    "ax1.legend(loc='best', fontsize=16)\n",
    "ax1.tick_params(axis='both',which='major', direction=\"out\", bottom=\"on\", length=8, labelsize=16)\n",
    "ax1.tick_params(axis='both',which='minor', direction=\"out\", bottom=\"on\", length=5, labelsize=16)\n",
    "fig.tight_layout()\n",
    "   \n",
    "plt.savefig('C LL book1 300dpi.jpg', dpi=300)"
   ]
  },
  {
   "cell_type": "code",
   "execution_count": 79,
   "id": "3d7fb05e",
   "metadata": {
    "ExecuteTime": {
     "end_time": "2022-11-09T06:00:49.815400Z",
     "start_time": "2022-11-09T06:00:49.800285Z"
    }
   },
   "outputs": [
    {
     "name": "stdout",
     "output_type": "stream",
     "text": [
      "C Pearson's r:           -0.64\n",
      "C Pearson's r, p value:  0.245\n",
      "--------------------------------\n"
     ]
    }
   ],
   "source": [
    "C_pearson_r, C_pearson_r_pval = stats.pearsonr(C_LL, C_dates)\n",
    "print(\"C Pearson's r:          \", str(round(C_pearson_r, 3)))\n",
    "print(\"C Pearson's r, p value: \", str(round(C_pearson_r_pval, 4)))\n",
    "print(\"--------------------------------\")"
   ]
  },
  {
   "cell_type": "code",
   "execution_count": 80,
   "id": "41167eb8",
   "metadata": {
    "ExecuteTime": {
     "end_time": "2022-11-09T06:00:49.831404Z",
     "start_time": "2022-11-09T06:00:49.816401Z"
    }
   },
   "outputs": [
    {
     "name": "stdout",
     "output_type": "stream",
     "text": [
      "C Spearman's r:           -0.6\n",
      "C Spearman's r, p value:  0.2848\n"
     ]
    }
   ],
   "source": [
    "C_spearman_r, C_spearman_r_pval = stats.spearmanr(C_LL, C_dates)\n",
    "print(\"C Spearman's r:          \", str(round(C_spearman_r, 3)))\n",
    "print(\"C Spearman's r, p value: \", str(round(C_spearman_r_pval, 4)))"
   ]
  },
  {
   "cell_type": "code",
   "execution_count": 81,
   "id": "8b5492a7",
   "metadata": {
    "ExecuteTime": {
     "end_time": "2022-11-09T06:00:49.847408Z",
     "start_time": "2022-11-09T06:00:49.832405Z"
    }
   },
   "outputs": [
    {
     "name": "stdout",
     "output_type": "stream",
     "text": [
      "                            OLS Regression Results                            \n",
      "==============================================================================\n",
      "Dep. Variable:                   C_LL   R-squared:                       0.409\n",
      "Model:                            OLS   Adj. R-squared:                  0.213\n",
      "Method:                 Least Squares   F-statistic:                     2.080\n",
      "Date:                Tue, 08 Nov 2022   Prob (F-statistic):              0.245\n",
      "Time:                        22:00:49   Log-Likelihood:                -18.620\n",
      "No. Observations:                   5   AIC:                             41.24\n",
      "Df Residuals:                       3   BIC:                             40.46\n",
      "Df Model:                           1                                         \n",
      "Covariance Type:            nonrobust                                         \n",
      "==============================================================================\n",
      "                 coef    std err          t      P>|t|      [0.025      0.975]\n",
      "------------------------------------------------------------------------------\n",
      "Intercept    206.7246    100.275      2.062      0.131    -112.396     525.846\n",
      "C_dates       -0.0148      0.010     -1.442      0.245      -0.047       0.018\n",
      "==============================================================================\n",
      "Omnibus:                          nan   Durbin-Watson:                   2.499\n",
      "Prob(Omnibus):                    nan   Jarque-Bera (JB):                0.397\n",
      "Skew:                           0.486   Prob(JB):                        0.820\n",
      "Kurtosis:                       2.021   Cond. No.                     1.69e+05\n",
      "==============================================================================\n",
      "\n",
      "Notes:\n",
      "[1] Standard Errors assume that the covariance matrix of the errors is correctly specified.\n",
      "[2] The condition number is large, 1.69e+05. This might indicate that there are\n",
      "strong multicollinearity or other numerical problems.\n"
     ]
    },
    {
     "name": "stderr",
     "output_type": "stream",
     "text": [
      "C:\\ProgramData\\Anaconda3\\lib\\site-packages\\statsmodels\\stats\\stattools.py:75: ValueWarning: omni_normtest is not valid with less than 8 observations; 5 samples were given.\n",
      "  \"samples were given.\" % int(n), ValueWarning)\n"
     ]
    }
   ],
   "source": [
    "#fit multiple linear regression model\n",
    "C_model = ols('C_LL ~ C_dates', data=Cgrp_df).fit()\n",
    "\n",
    "#view model summary\n",
    "print(C_model.summary())"
   ]
  },
  {
   "cell_type": "markdown",
   "id": "a91f6113",
   "metadata": {},
   "source": [
    "### Running the same regression and stats tests using calender years instead of radiocarbon years."
   ]
  },
  {
   "cell_type": "code",
   "execution_count": 82,
   "id": "b233b60a",
   "metadata": {
    "ExecuteTime": {
     "end_time": "2022-11-09T06:00:49.863413Z",
     "start_time": "2022-11-09T06:00:49.848407Z"
    }
   },
   "outputs": [
    {
     "data": {
      "text/html": [
       "<div>\n",
       "<style scoped>\n",
       "    .dataframe tbody tr th:only-of-type {\n",
       "        vertical-align: middle;\n",
       "    }\n",
       "\n",
       "    .dataframe tbody tr th {\n",
       "        vertical-align: top;\n",
       "    }\n",
       "\n",
       "    .dataframe thead th {\n",
       "        text-align: right;\n",
       "    }\n",
       "</style>\n",
       "<table border=\"1\" class=\"dataframe\">\n",
       "  <thead>\n",
       "    <tr style=\"text-align: right;\">\n",
       "      <th></th>\n",
       "      <th>C_LL</th>\n",
       "      <th>Ccal_dates</th>\n",
       "    </tr>\n",
       "  </thead>\n",
       "  <tbody>\n",
       "    <tr>\n",
       "      <th>0</th>\n",
       "      <td>75.0</td>\n",
       "      <td>10221</td>\n",
       "    </tr>\n",
       "    <tr>\n",
       "      <th>1</th>\n",
       "      <td>58.0</td>\n",
       "      <td>10444</td>\n",
       "    </tr>\n",
       "    <tr>\n",
       "      <th>2</th>\n",
       "      <td>64.3</td>\n",
       "      <td>11167</td>\n",
       "    </tr>\n",
       "    <tr>\n",
       "      <th>3</th>\n",
       "      <td>74.8</td>\n",
       "      <td>11578</td>\n",
       "    </tr>\n",
       "    <tr>\n",
       "      <th>4</th>\n",
       "      <td>39.7</td>\n",
       "      <td>12674</td>\n",
       "    </tr>\n",
       "  </tbody>\n",
       "</table>\n",
       "</div>"
      ],
      "text/plain": [
       "   C_LL  Ccal_dates\n",
       "0  75.0       10221\n",
       "1  58.0       10444\n",
       "2  64.3       11167\n",
       "3  74.8       11578\n",
       "4  39.7       12674"
      ]
     },
     "execution_count": 82,
     "metadata": {},
     "output_type": "execute_result"
    }
   ],
   "source": [
    "C_LL = [75, 58.0, 64.3, 74.8, 39.7]\n",
    "Ccal_dates = [10221, 10444, 11167, 11578, 12674]\n",
    "#create dataset\n",
    "Ccal_df = pd.DataFrame({'C_LL': C_LL,\n",
    "                     'Ccal_dates': Ccal_dates})\n",
    "#view dataset\n",
    "Ccal_df"
   ]
  },
  {
   "cell_type": "code",
   "execution_count": 83,
   "id": "322456d5",
   "metadata": {
    "ExecuteTime": {
     "end_time": "2022-11-09T06:00:50.387039Z",
     "start_time": "2022-11-09T06:00:49.864413Z"
    }
   },
   "outputs": [
    {
     "name": "stdout",
     "output_type": "stream",
     "text": [
      "slope = -0.01 (+/-) 0.01\n",
      "y-intercept = 172.75 (+/-) 72.45\n"
     ]
    },
    {
     "data": {
      "image/png": "[encoded data removed]",
      "text/plain": [
       "<Figure size 864x864 with 1 Axes>"
      ]
     },
     "metadata": {
      "needs_background": "light"
     },
     "output_type": "display_data"
    }
   ],
   "source": [
    "# fits the data to a line and plots it\n",
    "# dist: x variables, independent, distance from Home to patch\n",
    "# tally: y variables, dependent, tally of encounters with the patch during 100 walks\n",
    "# label: patch name to title the graph and create the filename    \n",
    "\n",
    "fig = plt.figure(figsize=(12,12))\n",
    "gs = GridSpec(1,1)\n",
    "ax1 = fig.add_subplot(gs[0])\n",
    "\n",
    "ax1.plot(Ccal_df.Ccal_dates, Ccal_df.C_LL, \"ko\", markersize=7)    \n",
    "\n",
    "# popt_linear: this contains the fitting parameters\n",
    "# pcov_linear: estimated covariance of the fitting paramters\n",
    "popt_linear, pcov_linear = scipy.optimize.curve_fit(linear, Ccal_df.Ccal_dates, Ccal_df.C_LL)\n",
    "perr_linear = np.sqrt(np.diag(pcov_linear))\n",
    "print (\"slope = %0.2f (+/-) %0.2f\" % (popt_linear[0], perr_linear[0]))\n",
    "print( \"y-intercept = %0.2f (+/-) %0.2f\" %(popt_linear[1], perr_linear[1]))\n",
    "\n",
    "ax1.plot(Ccal_df.Ccal_dates, linear(Ccal_df.Ccal_dates, *popt_linear), 'r--', label=\"y= %0.2fx + %0.2f\" % (popt_linear[0], popt_linear[1]))\n",
    "\n",
    "ax1.set_xlim(13000,10000)\n",
    "ax1.set_ylim(0,100)\n",
    "\n",
    "ax1.set_title(\"%LL Over Time (C groups, cal BP dates)\", fontsize=22)\n",
    "ax1.set_ylabel(\"%LL\",  fontsize=20)\n",
    "ax1.set_xlabel(\"Cal BP\",  fontsize=18)\n",
    "ax1.legend(loc='best', fontsize=16)\n",
    "\n",
    "ax1.legend(loc='best', fontsize=16)\n",
    "\n",
    "fig.tight_layout()\n",
    "   \n",
    "plt.savefig('Ccal LL book1 300dpi.jpg', dpi=300)"
   ]
  },
  {
   "cell_type": "code",
   "execution_count": 84,
   "id": "208ea1f0",
   "metadata": {
    "ExecuteTime": {
     "end_time": "2022-11-09T06:00:50.402217Z",
     "start_time": "2022-11-09T06:00:50.388038Z"
    }
   },
   "outputs": [
    {
     "name": "stdout",
     "output_type": "stream",
     "text": [
      "                            OLS Regression Results                            \n",
      "==============================================================================\n",
      "Dep. Variable:                   C_LL   R-squared:                       0.438\n",
      "Model:                            OLS   Adj. R-squared:                  0.250\n",
      "Method:                 Least Squares   F-statistic:                     2.335\n",
      "Date:                Tue, 08 Nov 2022   Prob (F-statistic):              0.224\n",
      "Time:                        22:00:50   Log-Likelihood:                -18.497\n",
      "No. Observations:                   5   AIC:                             40.99\n",
      "Df Residuals:                       3   BIC:                             40.21\n",
      "Df Model:                           1                                         \n",
      "Covariance Type:            nonrobust                                         \n",
      "==============================================================================\n",
      "                 coef    std err          t      P>|t|      [0.025      0.975]\n",
      "------------------------------------------------------------------------------\n",
      "Intercept    172.7451     72.453      2.384      0.097     -57.833     403.323\n",
      "Ccal_dates    -0.0098      0.006     -1.528      0.224      -0.030       0.011\n",
      "==============================================================================\n",
      "Omnibus:                          nan   Durbin-Watson:                   2.512\n",
      "Prob(Omnibus):                    nan   Jarque-Bera (JB):                0.342\n",
      "Skew:                           0.391   Prob(JB):                        0.843\n",
      "Kurtosis:                       1.984   Cond. No.                     1.44e+05\n",
      "==============================================================================\n",
      "\n",
      "Notes:\n",
      "[1] Standard Errors assume that the covariance matrix of the errors is correctly specified.\n",
      "[2] The condition number is large, 1.44e+05. This might indicate that there are\n",
      "strong multicollinearity or other numerical problems.\n"
     ]
    },
    {
     "name": "stderr",
     "output_type": "stream",
     "text": [
      "C:\\ProgramData\\Anaconda3\\lib\\site-packages\\statsmodels\\stats\\stattools.py:75: ValueWarning: omni_normtest is not valid with less than 8 observations; 5 samples were given.\n",
      "  \"samples were given.\" % int(n), ValueWarning)\n"
     ]
    }
   ],
   "source": [
    "#fit multiple linear regression model\n",
    "Ccal_model = ols('C_LL ~ Ccal_dates', data=Ccal_df).fit()\n",
    "\n",
    "#view model summary\n",
    "print(Ccal_model.summary())"
   ]
  },
  {
   "cell_type": "code",
   "execution_count": 85,
   "id": "8f2c52ae",
   "metadata": {
    "ExecuteTime": {
     "end_time": "2022-11-09T06:00:50.417006Z",
     "start_time": "2022-11-09T06:00:50.403218Z"
    }
   },
   "outputs": [
    {
     "name": "stdout",
     "output_type": "stream",
     "text": [
      "Ccal Pearson's r:           -0.662\n",
      "Ccal Pearson's r, p value:  0.2239\n",
      "--------------------------------\n"
     ]
    }
   ],
   "source": [
    "Ccal_pearson_r, Ccal_pearson_r_pval = stats.pearsonr(C_LL, Ccal_dates)\n",
    "print(\"Ccal Pearson's r:          \", str(round(Ccal_pearson_r, 3)))\n",
    "print(\"Ccal Pearson's r, p value: \", str(round(Ccal_pearson_r_pval, 4)))\n",
    "print(\"--------------------------------\")"
   ]
  },
  {
   "cell_type": "code",
   "execution_count": 86,
   "id": "a979858f",
   "metadata": {
    "ExecuteTime": {
     "end_time": "2022-11-09T06:00:50.432009Z",
     "start_time": "2022-11-09T06:00:50.418007Z"
    }
   },
   "outputs": [
    {
     "name": "stdout",
     "output_type": "stream",
     "text": [
      "Ccal Spearman's r:           -0.6\n",
      "Ccal Spearman's r, p value:  0.2848\n",
      "--------------------------------\n"
     ]
    }
   ],
   "source": [
    "Ccal_spearman_r, Ccal_spearman_r_pval = stats.spearmanr(C_LL, Ccal_dates)\n",
    "print(\"Ccal Spearman's r:          \", str(round(Ccal_spearman_r, 3)))\n",
    "print(\"Ccal Spearman's r, p value: \", str(round(Ccal_spearman_r_pval, 4)))\n",
    "print(\"--------------------------------\")"
   ]
  },
  {
   "cell_type": "code",
   "execution_count": null,
   "id": "1bfa6648",
   "metadata": {},
   "outputs": [],
   "source": []
  },
  {
   "cell_type": "code",
   "execution_count": null,
   "id": "507255a3",
   "metadata": {},
   "outputs": [],
   "source": []
  }
 ],
 "metadata": {
  "kernelspec": {
   "display_name": "Python 3.7.6 64-bit ('base')",
   "language": "python",
   "name": "python37664bitbased8e3534a00c646cc9f91e1fe3a0fa8ec"
  },
  "language_info": {
   "codemirror_mode": {
    "name": "ipython",
    "version": 3
   },
   "file_extension": ".py",
   "mimetype": "text/x-python",
   "name": "python",
   "nbconvert_exporter": "python",
   "pygments_lexer": "ipython3",
   "version": "3.7.11"
  }
 },
 "nbformat": 4,
 "nbformat_minor": 5
}
