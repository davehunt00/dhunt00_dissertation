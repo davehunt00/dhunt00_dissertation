{
 "cells": [
  {
   "cell_type": "markdown",
   "id": "56ab8c9c",
   "metadata": {},
   "source": [
    "# Discoverability Testing - Discrete Age (A) Groups Statistical Tests"
   ]
  },
  {
   "cell_type": "code",
   "execution_count": 69,
   "id": "3d6d8a8b",
   "metadata": {
    "ExecuteTime": {
     "end_time": "2022-11-09T00:55:17.538936Z",
     "start_time": "2022-11-09T00:55:17.528934Z"
    }
   },
   "outputs": [],
   "source": [
    "# Dave Hunt\n",
    "# University of Washington\n",
    "# Nov 8, 2022\n",
    "\n",
    "# This notebook runs regression analysis and statistical tests on the Dlist and Olist ranked lists produced to\n",
    "# test Discoverability of toolstone sources surrounding the Old River Bed delta archaeological sites.\n",
    "\n",
    "#  Discoverability/ \n",
    "#    │\n",
    "#    ├──notebooks/\n",
    "#    │   └── Discoverability Testing - A Groups statistical tests.ipynb\n",
    "#    │   │\n",
    "#    │   └── Discoverability Testing - C Groups statistical tests.ipynb\n",
    "#    │\n",
    "#    │──shapefiles/\n",
    "#    │\n",
    "#    └──Excel/\n",
    "#\n",
    "# Copyright (c) 2022, David Hunt\n",
    "# All rights reserved.\n",
    "\n",
    "# This source code is licensed under the BSD-style license found in the\n",
    "# LICENSE file in the root directory of this source tree. "
   ]
  },
  {
   "cell_type": "markdown",
   "id": "4b722f21",
   "metadata": {},
   "source": [
    "This notebook is used to perform linear regression on the Discrete Age groups Dlist and Olist data created in the associated Excel spreadsheet. In this notebook, simple linear regression is run on the Dlist and Olist data to ensure \n",
    "its statistical validity.  The results are then used to produce the %LL value for each group.  These %LL values are plotted over time to gauge landscape learning over the time of the Paleoindian occupation of the Old River Bed delta in Utah, USA"
   ]
  },
  {
   "cell_type": "code",
   "execution_count": 70,
   "id": "37380088",
   "metadata": {
    "ExecuteTime": {
     "end_time": "2022-11-09T00:55:17.554938Z",
     "start_time": "2022-11-09T00:55:17.539936Z"
    }
   },
   "outputs": [],
   "source": [
    "# included Python libraries\n",
    "import statsmodels.api as sm\n",
    "from statsmodels.compat import lzip\n",
    "import statsmodels.stats.api as sms\n",
    "from statsmodels.formula.api import ols\n",
    "\n",
    "from matplotlib import pyplot as plt\n",
    "from matplotlib.gridspec import GridSpec\n",
    "from matplotlib.ticker import AutoMinorLocator\n",
    "import matplotlib.ticker as ticker\n",
    "\n",
    "import scipy as scipy\n",
    "from scipy import stats\n",
    "\n",
    "import numpy as np\n",
    "import pandas as pd"
   ]
  },
  {
   "cell_type": "code",
   "execution_count": 71,
   "id": "b5e66869",
   "metadata": {
    "ExecuteTime": {
     "end_time": "2022-11-09T00:55:17.570942Z",
     "start_time": "2022-11-09T00:55:17.555940Z"
    }
   },
   "outputs": [],
   "source": [
    "# function that returns a line with equation mx+b \n",
    "def linear(x, m, b):\n",
    "   return m*x + b"
   ]
  },
  {
   "cell_type": "code",
   "execution_count": 72,
   "id": "6fe99f71",
   "metadata": {
    "ExecuteTime": {
     "end_time": "2022-11-09T00:55:17.586946Z",
     "start_time": "2022-11-09T00:55:17.571943Z"
    }
   },
   "outputs": [],
   "source": [
    "# The A group (A1, A2, A3) Dlists (expected rank orders)\n",
    "a1_dlist = np.array([1,15,6,2,5,11,4,13,7,12,16,10,8,9,14,3])\n",
    "a2_dlist = np.array([2,15,6,3,5,11,4,13,7,12,16,9,8,10,14,1])\n",
    "a3_dlist = np.array([1,15,6,3,4,11,5,13,7,12,16,10,8,9,14,2])\n",
    "\n",
    "# The A Group Olists (actual/observed artifact counts)\n",
    "a1_olist = pd.Series([14,0,5,23,6,2,7,0,117,0,3,3,1,0,0,48])\n",
    "a2_olist = pd.Series([0,0,2,11,0,1,1,0,20,0,0,2,1,0,1,32])\n",
    "a3_olist = pd.Series([1,1,2,11,2,0,1,0,38,0,0,3,0,1,1,37])"
   ]
  },
  {
   "cell_type": "code",
   "execution_count": 73,
   "id": "9ee665c2",
   "metadata": {
    "ExecuteTime": {
     "end_time": "2022-11-09T00:55:17.601949Z",
     "start_time": "2022-11-09T00:55:17.587947Z"
    }
   },
   "outputs": [],
   "source": [
    "a1_olist_rank = a1_olist.rank(ascending = False)\n",
    "a2_olist_rank = a2_olist.rank(ascending = False)\n",
    "a3_olist_rank = a3_olist.rank(ascending = False)\n",
    "\n",
    "#print(a1_olist_rank)\n",
    "#print(a2_olist_rank)\n",
    "#print(a3_olist_rank)"
   ]
  },
  {
   "cell_type": "code",
   "execution_count": 74,
   "id": "dfa33e64",
   "metadata": {
    "ExecuteTime": {
     "end_time": "2022-11-09T00:55:17.617953Z",
     "start_time": "2022-11-09T00:55:17.602949Z"
    }
   },
   "outputs": [
    {
     "name": "stdout",
     "output_type": "stream",
     "text": [
      "A1 Spearman's r:           0.77679\n",
      "A1 Spearman's r, p value:  0.0004\n",
      "A1 Spearman's r2:          0.60341\n",
      "A1 %LL =  39.7\n",
      "--------------------------------\n",
      "A2 Spearman's r:           0.502\n",
      "A2 Spearman's r, p value:  0.048\n",
      "A2 Spearman's r2:          0.25184\n",
      "A2 %LL =  74.8\n",
      "--------------------------------\n",
      "A3 Spearman's r:           0.592\n",
      "A3 Spearman's r, p value:  0.016\n",
      "A3 Spearman's r2:          0.35004\n",
      "A3 %LL =  65.0\n",
      "--------------------------------\n"
     ]
    }
   ],
   "source": [
    "# Compare the Dlist and Olist pair for each A group using Spearmans's rank-order correlation\n",
    "a1_spearman_r, a1_spearman_r_pval = stats.spearmanr(a1_olist_rank, a1_dlist)\n",
    "print(\"A1 Spearman's r:          \", str(round(a1_spearman_r, 5)))\n",
    "print(\"A1 Spearman's r, p value: \", str(round(a1_spearman_r_pval, 4)))\n",
    "a1_r2 = a1_spearman_r * a1_spearman_r\n",
    "print(\"A1 Spearman's r2:         \", round(a1_r2, 5))\n",
    "print(\"A1 %LL = \", round(1 - a1_r2,3) * 100)\n",
    "print(\"--------------------------------\")\n",
    "\n",
    "a2_spearman_r, a2_spearman_r_pval = stats.spearmanr(a2_olist_rank, a2_dlist)\n",
    "print(\"A2 Spearman's r:          \", str(round(a2_spearman_r, 3)))\n",
    "print(\"A2 Spearman's r, p value: \", str(round(a2_spearman_r_pval, 3)))\n",
    "a2_r2 = a2_spearman_r * a2_spearman_r\n",
    "print(\"A2 Spearman's r2:         \", round(a2_r2, 5))\n",
    "print(\"A2 %LL = \", round(1 - a2_r2,3) * 100)\n",
    "print(\"--------------------------------\")\n",
    "\n",
    "a3_spearman_r, a3_spearman_r_pval = stats.spearmanr(a3_olist_rank, a3_dlist)\n",
    "print(\"A3 Spearman's r:          \", str(round(a3_spearman_r, 3)))\n",
    "print(\"A3 Spearman's r, p value: \", str(round(a3_spearman_r_pval, 3)))\n",
    "a3_r2 = a3_spearman_r * a3_spearman_r\n",
    "print(\"A3 Spearman's r2:         \", round(a3_r2, 5))\n",
    "print(\"A3 %LL = \", round(1 - a3_r2,3) * 100)\n",
    "print(\"--------------------------------\")\n"
   ]
  },
  {
   "cell_type": "code",
   "execution_count": 75,
   "id": "4d81a3a8",
   "metadata": {
    "ExecuteTime": {
     "end_time": "2022-11-09T00:55:17.633956Z",
     "start_time": "2022-11-09T00:55:17.618953Z"
    }
   },
   "outputs": [
    {
     "name": "stdout",
     "output_type": "stream",
     "text": [
      "[1, 15, 6, 2, 5, 11, 4, 13, 7, 12, 16, 10, 8, 9, 14, 3]\n",
      "[4.0, 14.0, 7.0, 3.0, 6.0, 10.0, 5.0, 14.0, 1.0, 14.0, 8.5, 8.5, 11.0, 14.0, 14.0, 2.0]\n"
     ]
    },
    {
     "data": {
      "text/html": [
       "<div>\n",
       "<style scoped>\n",
       "    .dataframe tbody tr th:only-of-type {\n",
       "        vertical-align: middle;\n",
       "    }\n",
       "\n",
       "    .dataframe tbody tr th {\n",
       "        vertical-align: top;\n",
       "    }\n",
       "\n",
       "    .dataframe thead th {\n",
       "        text-align: right;\n",
       "    }\n",
       "</style>\n",
       "<table border=\"1\" class=\"dataframe\">\n",
       "  <thead>\n",
       "    <tr style=\"text-align: right;\">\n",
       "      <th></th>\n",
       "      <th>a1_x</th>\n",
       "      <th>a1_y</th>\n",
       "      <th>a2_x</th>\n",
       "      <th>a2_y</th>\n",
       "      <th>a3_x</th>\n",
       "      <th>a3_y</th>\n",
       "    </tr>\n",
       "  </thead>\n",
       "  <tbody>\n",
       "    <tr>\n",
       "      <th>0</th>\n",
       "      <td>1</td>\n",
       "      <td>4.0</td>\n",
       "      <td>2</td>\n",
       "      <td>13.0</td>\n",
       "      <td>1</td>\n",
       "      <td>9.0</td>\n",
       "    </tr>\n",
       "    <tr>\n",
       "      <th>1</th>\n",
       "      <td>15</td>\n",
       "      <td>14.0</td>\n",
       "      <td>15</td>\n",
       "      <td>13.0</td>\n",
       "      <td>15</td>\n",
       "      <td>9.0</td>\n",
       "    </tr>\n",
       "    <tr>\n",
       "      <th>2</th>\n",
       "      <td>6</td>\n",
       "      <td>7.0</td>\n",
       "      <td>6</td>\n",
       "      <td>4.5</td>\n",
       "      <td>6</td>\n",
       "      <td>5.5</td>\n",
       "    </tr>\n",
       "    <tr>\n",
       "      <th>3</th>\n",
       "      <td>2</td>\n",
       "      <td>3.0</td>\n",
       "      <td>3</td>\n",
       "      <td>3.0</td>\n",
       "      <td>3</td>\n",
       "      <td>3.0</td>\n",
       "    </tr>\n",
       "    <tr>\n",
       "      <th>4</th>\n",
       "      <td>5</td>\n",
       "      <td>6.0</td>\n",
       "      <td>5</td>\n",
       "      <td>13.0</td>\n",
       "      <td>4</td>\n",
       "      <td>5.5</td>\n",
       "    </tr>\n",
       "    <tr>\n",
       "      <th>5</th>\n",
       "      <td>11</td>\n",
       "      <td>10.0</td>\n",
       "      <td>11</td>\n",
       "      <td>7.5</td>\n",
       "      <td>11</td>\n",
       "      <td>14.0</td>\n",
       "    </tr>\n",
       "    <tr>\n",
       "      <th>6</th>\n",
       "      <td>4</td>\n",
       "      <td>5.0</td>\n",
       "      <td>4</td>\n",
       "      <td>7.5</td>\n",
       "      <td>5</td>\n",
       "      <td>9.0</td>\n",
       "    </tr>\n",
       "    <tr>\n",
       "      <th>7</th>\n",
       "      <td>13</td>\n",
       "      <td>14.0</td>\n",
       "      <td>13</td>\n",
       "      <td>13.0</td>\n",
       "      <td>13</td>\n",
       "      <td>14.0</td>\n",
       "    </tr>\n",
       "    <tr>\n",
       "      <th>8</th>\n",
       "      <td>7</td>\n",
       "      <td>1.0</td>\n",
       "      <td>7</td>\n",
       "      <td>2.0</td>\n",
       "      <td>7</td>\n",
       "      <td>1.0</td>\n",
       "    </tr>\n",
       "    <tr>\n",
       "      <th>9</th>\n",
       "      <td>12</td>\n",
       "      <td>14.0</td>\n",
       "      <td>12</td>\n",
       "      <td>13.0</td>\n",
       "      <td>12</td>\n",
       "      <td>14.0</td>\n",
       "    </tr>\n",
       "    <tr>\n",
       "      <th>10</th>\n",
       "      <td>16</td>\n",
       "      <td>8.5</td>\n",
       "      <td>16</td>\n",
       "      <td>13.0</td>\n",
       "      <td>16</td>\n",
       "      <td>14.0</td>\n",
       "    </tr>\n",
       "    <tr>\n",
       "      <th>11</th>\n",
       "      <td>10</td>\n",
       "      <td>8.5</td>\n",
       "      <td>9</td>\n",
       "      <td>4.5</td>\n",
       "      <td>10</td>\n",
       "      <td>4.0</td>\n",
       "    </tr>\n",
       "    <tr>\n",
       "      <th>12</th>\n",
       "      <td>8</td>\n",
       "      <td>11.0</td>\n",
       "      <td>8</td>\n",
       "      <td>7.5</td>\n",
       "      <td>8</td>\n",
       "      <td>14.0</td>\n",
       "    </tr>\n",
       "    <tr>\n",
       "      <th>13</th>\n",
       "      <td>9</td>\n",
       "      <td>14.0</td>\n",
       "      <td>10</td>\n",
       "      <td>13.0</td>\n",
       "      <td>9</td>\n",
       "      <td>9.0</td>\n",
       "    </tr>\n",
       "    <tr>\n",
       "      <th>14</th>\n",
       "      <td>14</td>\n",
       "      <td>14.0</td>\n",
       "      <td>14</td>\n",
       "      <td>7.5</td>\n",
       "      <td>14</td>\n",
       "      <td>9.0</td>\n",
       "    </tr>\n",
       "    <tr>\n",
       "      <th>15</th>\n",
       "      <td>3</td>\n",
       "      <td>2.0</td>\n",
       "      <td>1</td>\n",
       "      <td>1.0</td>\n",
       "      <td>2</td>\n",
       "      <td>2.0</td>\n",
       "    </tr>\n",
       "  </tbody>\n",
       "</table>\n",
       "</div>"
      ],
      "text/plain": [
       "    a1_x  a1_y  a2_x  a2_y  a3_x  a3_y\n",
       "0      1   4.0     2  13.0     1   9.0\n",
       "1     15  14.0    15  13.0    15   9.0\n",
       "2      6   7.0     6   4.5     6   5.5\n",
       "3      2   3.0     3   3.0     3   3.0\n",
       "4      5   6.0     5  13.0     4   5.5\n",
       "5     11  10.0    11   7.5    11  14.0\n",
       "6      4   5.0     4   7.5     5   9.0\n",
       "7     13  14.0    13  13.0    13  14.0\n",
       "8      7   1.0     7   2.0     7   1.0\n",
       "9     12  14.0    12  13.0    12  14.0\n",
       "10    16   8.5    16  13.0    16  14.0\n",
       "11    10   8.5     9   4.5    10   4.0\n",
       "12     8  11.0     8   7.5     8  14.0\n",
       "13     9  14.0    10  13.0     9   9.0\n",
       "14    14  14.0    14   7.5    14   9.0\n",
       "15     3   2.0     1   1.0     2   2.0"
      ]
     },
     "execution_count": 75,
     "metadata": {},
     "output_type": "execute_result"
    }
   ],
   "source": [
    "# Form the lists into a Pandas dataframe\n",
    "\n",
    "a1_dlist = np.array([1,15,6,2,5,11,4,13,7,12,16,10,8,9,14,3]).reshape((-1, 1))\n",
    "a2_dlist = np.array([2,15,6,3,5,11,4,13,7,12,16,9,8,10,14,1]).reshape((-1, 1))\n",
    "a3_dlist = np.array([1,15,6,3,4,11,5,13,7,12,16,10,8,9,14,2]).reshape((-1, 1))\n",
    "\n",
    "a1_x = list(np.concatenate(a1_dlist).flat)\n",
    "a2_x = list(np.concatenate(a2_dlist).flat)\n",
    "a3_x = list(np.concatenate(a3_dlist).flat)\n",
    "print(a1_x)\n",
    "\n",
    "a1_y = a1_olist_rank.tolist()\n",
    "a2_y = a2_olist_rank.tolist()\n",
    "a3_y = a3_olist_rank.tolist()\n",
    "print(a1_y)\n",
    "\n",
    "#create dataset\n",
    "A_df = pd.DataFrame({'a1_x': a1_x,\n",
    "                     'a1_y': a1_y,\n",
    "                     'a2_x': a2_x,\n",
    "                     'a2_y': a2_y,\n",
    "                     'a3_x': a3_x,\n",
    "                     'a3_y': a3_y})\n",
    "#view dataset\n",
    "A_df"
   ]
  },
  {
   "cell_type": "markdown",
   "id": "d2e63301",
   "metadata": {},
   "source": [
    "## Plot each group"
   ]
  },
  {
   "cell_type": "code",
   "execution_count": 76,
   "id": "876600c6",
   "metadata": {
    "ExecuteTime": {
     "end_time": "2022-11-09T00:55:18.206638Z",
     "start_time": "2022-11-09T00:55:17.634957Z"
    },
    "scrolled": false
   },
   "outputs": [
    {
     "name": "stderr",
     "output_type": "stream",
     "text": [
      "No artists with labels found to put in legend.  Note that artists whose label start with an underscore are ignored when legend() is called with no argument.\n"
     ]
    },
    {
     "data": {
      "image/png": "[encoded data removed]",
      "text/plain": [
       "<Figure size 864x864 with 1 Axes>"
      ]
     },
     "metadata": {
      "needs_background": "light"
     },
     "output_type": "display_data"
    }
   ],
   "source": [
    "# A1 Dlist v Olist\n",
    "# fits the data to a line and plots it\n",
    "fig = plt.figure(figsize=(12,12))\n",
    "gs = GridSpec(1,1)\n",
    "ax1 = fig.add_subplot(gs[0])\n",
    "\n",
    "ax1.plot(A_df.a1_x, A_df.a1_y, \"ko\", markersize=7)    \n",
    "\n",
    "# # popt_linear: this contains the fitting parameters\n",
    "# # pcov_linear: estimated covariance of the fitting paramters\n",
    "# popt_linear, pcov_linear = scipy.optimize.curve_fit(linear, A_df.a1_x, A_df.a1_y)\n",
    "# perr_linear = np.sqrt(np.diag(pcov_linear))\n",
    "# print (\"slope = %0.2f (+/-) %0.2f\" % (popt_linear[0], perr_linear[0]))\n",
    "# print( \"y-intercept = %0.2f (+/-) %0.2f\" %(popt_linear[1], perr_linear[1]))\n",
    "\n",
    "# ax1.plot(A_df.a1_x, linear(A_df.a1_x, *popt_linear), 'r--', label=\"y= %0.2fx + %0.2f\" % (popt_linear[0], popt_linear[1]))\n",
    "ax1.set_xlim(0,16.5)\n",
    "ax1.set_ylim(0,16.5)\n",
    "\n",
    "ax1.set_title(\"A1: Dlist v. Olist Ranks\", fontsize=22)\n",
    "ax1.set_xlabel(\"Dlist Ranks\",  fontsize=18)\n",
    "ax1.set_ylabel(\"Olist Ranks\",  fontsize=20)\n",
    "ax1.legend(loc='best', fontsize=16)\n",
    "\n",
    "ax1.xaxis.set_major_locator(ticker.MultipleLocator(1))\n",
    "ax1.yaxis.set_major_locator(ticker.MultipleLocator(1))\n",
    "ax1.tick_params(axis='both',which='major', direction=\"out\", bottom=\"on\", length=8, labelsize=14)\n",
    "ax1.tick_params(axis='both',which='minor', direction=\"out\", bottom=\"on\", length=5, labelsize=14)\n",
    "\n",
    "fig.tight_layout()\n",
    "\n",
    "plt.annotate(\"Malad\",               # this is the text\n",
    "        (16,8.5),                   # these are the coordinates to position the label\n",
    "        textcoords=\"offset points\", # how to position the text\n",
    "        size=18,\n",
    "        xytext=(-10,10),            # distance from text to points (x,y)\n",
    "        ha='center')                # horizontal alignment can be left, right or center    \n",
    "\n",
    "plt.annotate(\"Flat Hills\",          # this is the text\n",
    "        (7,1),                      # these are the coordinates to position the label\n",
    "        textcoords=\"offset points\", # how to position the text\n",
    "        size=18,\n",
    "        xytext=(-5,10),             # distance from text to points (x,y)\n",
    "        ha='center')                # horizontal alignment can be left, right or center\n",
    "    \n",
    "plt.savefig('A1 scatter plot book1 300dpi.jpg', dpi=300)"
   ]
  },
  {
   "cell_type": "code",
   "execution_count": 77,
   "id": "f97478b0",
   "metadata": {
    "ExecuteTime": {
     "end_time": "2022-11-09T00:55:18.847831Z",
     "start_time": "2022-11-09T00:55:18.208201Z"
    }
   },
   "outputs": [
    {
     "name": "stderr",
     "output_type": "stream",
     "text": [
      "No artists with labels found to put in legend.  Note that artists whose label start with an underscore are ignored when legend() is called with no argument.\n"
     ]
    },
    {
     "data": {
      "image/png": "[encoded data removed]",
      "text/plain": [
       "<Figure size 864x864 with 1 Axes>"
      ]
     },
     "metadata": {
      "needs_background": "light"
     },
     "output_type": "display_data"
    }
   ],
   "source": [
    "# A2 Dlist v Olist\n",
    "# fits the data to a line and plots it   \n",
    "fig = plt.figure(figsize=(12,12))\n",
    "gs = GridSpec(1,1)\n",
    "ax1 = fig.add_subplot(gs[0])\n",
    "\n",
    "ax1.plot(A_df.a2_x, A_df.a2_y, \"ko\", markersize=7)    \n",
    "\n",
    "# # popt_linear: this contains the fitting parameters\n",
    "# # pcov_linear: estimated covariance of the fitting paramters\n",
    "# popt_linear, pcov_linear = scipy.optimize.curve_fit(linear, A_df.a2_x, A_df.a2_y)\n",
    "# perr_linear = np.sqrt(np.diag(pcov_linear))\n",
    "# print (\"slope = %0.2f (+/-) %0.2f\" % (popt_linear[0], perr_linear[0]))\n",
    "# print( \"y-intercept = %0.2f (+/-) %0.2f\" %(popt_linear[1], perr_linear[1]))\n",
    "\n",
    "# ax1.plot(A_df.a2_x, linear(A_df.a2_x, *popt_linear), 'r--', label=\"y= %0.2fx + %0.2f\" % (popt_linear[0], popt_linear[1]))\n",
    "ax1.set_xlim(0,16.5)\n",
    "ax1.set_ylim(0,16.5)\n",
    "\n",
    "ax1.set_title(\"A2: Dlist v. Olist Ranks\", fontsize=22)\n",
    "ax1.set_xlabel(\"Dlist Ranks\",  fontsize=18)\n",
    "ax1.set_ylabel(\"Olist Ranks\",  fontsize=20)\n",
    "ax1.legend(loc='best', fontsize=16)\n",
    "\n",
    "ax1.xaxis.set_major_locator(ticker.MultipleLocator(1))\n",
    "ax1.yaxis.set_major_locator(ticker.MultipleLocator(1))\n",
    "ax1.tick_params(axis='both',which='major', direction=\"out\", bottom=\"on\", length=8, labelsize=14)\n",
    "ax1.tick_params(axis='both',which='minor', direction=\"out\", bottom=\"on\", length=5, labelsize=14)\n",
    "\n",
    "fig.tight_layout()\n",
    "\n",
    "plt.annotate(\"Badlands\",            # this is the text\n",
    "        (2.5,13.2),                 # these are the coordinates to position the label\n",
    "        textcoords=\"offset points\", # how to position the text\n",
    "        size=18,\n",
    "        xytext=(-10,10),            # distance from text to points (x,y)\n",
    "        ha='center')                # horizontal alignment can be left, right or center    \n",
    "\n",
    "plt.annotate(\"Cedar Mtn\",            # this is the text\n",
    "        (5.5,13.2),                 # these are the coordinates to position the label\n",
    "        textcoords=\"offset points\", # how to position the text\n",
    "        size=18,\n",
    "        xytext=(-10,10),            # distance from text to points (x,y)\n",
    "        ha='center')                # horizontal alignment can be left, right or center  \n",
    "\n",
    "plt.savefig('A2 scatter plot book1 300dpi.jpg', dpi=300)"
   ]
  },
  {
   "cell_type": "code",
   "execution_count": 78,
   "id": "b47b186f",
   "metadata": {
    "ExecuteTime": {
     "end_time": "2022-11-09T00:55:19.431773Z",
     "start_time": "2022-11-09T00:55:18.849832Z"
    }
   },
   "outputs": [
    {
     "name": "stderr",
     "output_type": "stream",
     "text": [
      "No artists with labels found to put in legend.  Note that artists whose label start with an underscore are ignored when legend() is called with no argument.\n"
     ]
    },
    {
     "data": {
      "image/png": "[encoded data removed]",
      "text/plain": [
       "<Figure size 864x864 with 1 Axes>"
      ]
     },
     "metadata": {
      "needs_background": "light"
     },
     "output_type": "display_data"
    }
   ],
   "source": [
    "# A3 Dlist v Olist\n",
    "# fits the data to a line and plots it\n",
    "fig = plt.figure(figsize=(12,12))\n",
    "gs = GridSpec(1,1)\n",
    "ax1 = fig.add_subplot(gs[0])\n",
    "\n",
    "ax1.plot(A_df.a3_x, A_df.a3_y, \"ko\", markersize=7)    \n",
    "\n",
    "# # popt_linear: this contains the fitting parameters\n",
    "# # pcov_linear: estimated covariance of the fitting paramters\n",
    "# popt_linear, pcov_linear = scipy.optimize.curve_fit(linear, A_df.a3_x, A_df.a3_y)\n",
    "# perr_linear = np.sqrt(np.diag(pcov_linear))\n",
    "# print (\"slope = %0.2f (+/-) %0.2f\" % (popt_linear[0], perr_linear[0]))\n",
    "# print( \"y-intercept = %0.2f (+/-) %0.2f\" %(popt_linear[1], perr_linear[1]))\n",
    "\n",
    "# ax1.plot(A_df.a3_x, linear(A_df.a3_x, *popt_linear), 'r--', label=\"y= %0.2fx + %0.2f\" % (popt_linear[0], popt_linear[1]))\n",
    "ax1.set_xlim(0,16.5)\n",
    "ax1.set_ylim(0,16.5)\n",
    "\n",
    "ax1.set_title(\"A3: Dlist v. Olist Ranks\", fontsize=22)\n",
    "ax1.set_xlabel(\"Dlist Ranks\",  fontsize=18)\n",
    "ax1.set_ylabel(\"Olist Ranks\",  fontsize=20)\n",
    "ax1.legend(loc='best', fontsize=16)\n",
    "\n",
    "ax1.xaxis.set_major_locator(ticker.MultipleLocator(1))\n",
    "ax1.yaxis.set_major_locator(ticker.MultipleLocator(1))\n",
    "ax1.tick_params(axis='both',which='major', direction=\"out\", bottom=\"on\", length=8, labelsize=14)\n",
    "ax1.tick_params(axis='both',which='minor', direction=\"out\", bottom=\"on\", length=5, labelsize=14)\n",
    "\n",
    "plt.annotate(\"Badlands\",            # this is the text\n",
    "        (1.5,9.2),                 # these are the coordinates to position the label\n",
    "        textcoords=\"offset points\", # how to position the text\n",
    "        size=18,\n",
    "        xytext=(-10,10),            # distance from text to points (x,y)\n",
    "        ha='center')                # horizontal alignment can be left, right or center  \n",
    "\n",
    "\n",
    "\n",
    "fig.tight_layout()  \n",
    "plt.savefig('A3 scatter plot book1 300dpi.jpg', dpi=300)"
   ]
  },
  {
   "cell_type": "markdown",
   "id": "b39fcb30",
   "metadata": {},
   "source": [
    "## Plot the Landscape Learning results"
   ]
  },
  {
   "cell_type": "markdown",
   "id": "1404dbb9",
   "metadata": {},
   "source": [
    "%LL = (1 - r^2)   Calculations and group radiocarbon ages are described in my dissertation, Chapter 5"
   ]
  },
  {
   "cell_type": "code",
   "execution_count": 79,
   "id": "47e4ee7f",
   "metadata": {
    "ExecuteTime": {
     "end_time": "2022-11-09T00:55:19.447777Z",
     "start_time": "2022-11-09T00:55:19.432774Z"
    }
   },
   "outputs": [
    {
     "data": {
      "text/html": [
       "<div>\n",
       "<style scoped>\n",
       "    .dataframe tbody tr th:only-of-type {\n",
       "        vertical-align: middle;\n",
       "    }\n",
       "\n",
       "    .dataframe tbody tr th {\n",
       "        vertical-align: top;\n",
       "    }\n",
       "\n",
       "    .dataframe thead th {\n",
       "        text-align: right;\n",
       "    }\n",
       "</style>\n",
       "<table border=\"1\" class=\"dataframe\">\n",
       "  <thead>\n",
       "    <tr style=\"text-align: right;\">\n",
       "      <th></th>\n",
       "      <th>A_LL</th>\n",
       "      <th>A_dates</th>\n",
       "    </tr>\n",
       "  </thead>\n",
       "  <tbody>\n",
       "    <tr>\n",
       "      <th>0</th>\n",
       "      <td>65.0</td>\n",
       "      <td>9300</td>\n",
       "    </tr>\n",
       "    <tr>\n",
       "      <th>1</th>\n",
       "      <td>74.8</td>\n",
       "      <td>10050</td>\n",
       "    </tr>\n",
       "    <tr>\n",
       "      <th>2</th>\n",
       "      <td>39.6</td>\n",
       "      <td>10650</td>\n",
       "    </tr>\n",
       "  </tbody>\n",
       "</table>\n",
       "</div>"
      ],
      "text/plain": [
       "   A_LL  A_dates\n",
       "0  65.0     9300\n",
       "1  74.8    10050\n",
       "2  39.6    10650"
      ]
     },
     "execution_count": 79,
     "metadata": {},
     "output_type": "execute_result"
    }
   ],
   "source": [
    "A_LL = [65.0, 74.8, 39.6]\n",
    "A_dates = [9300, 10050, 10650]\n",
    "\n",
    "#create dataset\n",
    "Agrp_df = pd.DataFrame({'A_LL': A_LL,\n",
    "                     'A_dates': A_dates})\n",
    "#view dataset\n",
    "Agrp_df"
   ]
  },
  {
   "cell_type": "code",
   "execution_count": 80,
   "id": "9b48c723",
   "metadata": {
    "ExecuteTime": {
     "end_time": "2022-11-09T00:55:20.007904Z",
     "start_time": "2022-11-09T00:55:19.448777Z"
    },
    "scrolled": false
   },
   "outputs": [
    {
     "name": "stdout",
     "output_type": "stream",
     "text": [
      "slope = -0.02 (+/-) 0.02\n",
      "y-intercept = 234.88 (+/-) 203.99\n"
     ]
    },
    {
     "data": {
      "image/png": "[encoded data removed]",
      "text/plain": [
       "<Figure size 864x864 with 1 Axes>"
      ]
     },
     "metadata": {
      "needs_background": "light"
     },
     "output_type": "display_data"
    }
   ],
   "source": [
    "# Plot the A Groups %LL over time\n",
    "fig = plt.figure(figsize=(12,12))\n",
    "gs = GridSpec(1,1)\n",
    "ax1 = fig.add_subplot(gs[0])\n",
    "\n",
    "ax1.plot(Agrp_df.A_dates, Agrp_df.A_LL, \"ko\", markersize=7)    \n",
    "\n",
    "# popt_linear: this contains the fitting parameters\n",
    "# pcov_linear: estimated covariance of the fitting paramters\n",
    "popt_linear, pcov_linear = scipy.optimize.curve_fit(linear, Agrp_df.A_dates, Agrp_df.A_LL)\n",
    "perr_linear = np.sqrt(np.diag(pcov_linear))\n",
    "print (\"slope = %0.2f (+/-) %0.2f\" % (popt_linear[0], perr_linear[0]))\n",
    "print( \"y-intercept = %0.2f (+/-) %0.2f\" %(popt_linear[1], perr_linear[1]))\n",
    "\n",
    "ax1.plot(Agrp_df.A_dates, linear(Agrp_df.A_dates, *popt_linear), 'r--', label=\"y= %0.2fx + %0.2f\" % (popt_linear[0], popt_linear[1]))\n",
    "ax1.set_xlim(10900,9100)\n",
    "ax1.set_ylim(0,100)\n",
    "\n",
    "ax1.set_title(\"%LL Over Time (A Groups)\", fontsize=22)\n",
    "ax1.set_ylabel(\"%LL\",  fontsize=22)\n",
    "ax1.set_xlabel(\"Radiocarbon years\",  fontsize=18)\n",
    "ax1.legend(loc='best', fontsize=18)\n",
    "ax1.tick_params(axis='both',which='major', direction=\"out\", bottom=\"on\", length=8, labelsize=16)\n",
    "ax1.tick_params(axis='both',which='minor', direction=\"out\", bottom=\"on\", length=5, labelsize=16)\n",
    "\n",
    "fig.tight_layout()\n",
    "   \n",
    "plt.savefig('A LL book1 300dpi.jpg', dpi=300)"
   ]
  },
  {
   "cell_type": "code",
   "execution_count": 81,
   "id": "bfeef493",
   "metadata": {
    "ExecuteTime": {
     "end_time": "2022-11-09T00:55:20.023907Z",
     "start_time": "2022-11-09T00:55:20.008904Z"
    }
   },
   "outputs": [
    {
     "name": "stdout",
     "output_type": "stream",
     "text": [
      "A Pearson's r:           -0.652\n",
      "A Pearson's r, p value:  0.548\n",
      "--------------------------------\n"
     ]
    }
   ],
   "source": [
    "A_pearson_r, A_pearson_r_pval = stats.pearsonr(A_LL, A_dates)\n",
    "print(\"A Pearson's r:          \", str(round(A_pearson_r, 3)))\n",
    "print(\"A Pearson's r, p value: \", str(round(A_pearson_r_pval, 4)))\n",
    "print(\"--------------------------------\")"
   ]
  },
  {
   "cell_type": "code",
   "execution_count": 82,
   "id": "b22d1c46",
   "metadata": {
    "ExecuteTime": {
     "end_time": "2022-11-09T00:55:20.039912Z",
     "start_time": "2022-11-09T00:55:20.024907Z"
    }
   },
   "outputs": [
    {
     "name": "stdout",
     "output_type": "stream",
     "text": [
      "A Spearman's r:           -0.5\n",
      "A Spearman's r, p value:  0.6667\n"
     ]
    }
   ],
   "source": [
    "A_spearman_r, A_spearman_r_pval = stats.spearmanr(A_LL, A_dates)\n",
    "print(\"A Spearman's r:          \", str(round(A_spearman_r, 3)))\n",
    "print(\"A Spearman's r, p value: \", str(round(A_spearman_r_pval, 4)))"
   ]
  },
  {
   "cell_type": "code",
   "execution_count": 83,
   "id": "e24f15d8",
   "metadata": {
    "ExecuteTime": {
     "end_time": "2022-11-09T00:55:20.055914Z",
     "start_time": "2022-11-09T00:55:20.040910Z"
    }
   },
   "outputs": [
    {
     "name": "stdout",
     "output_type": "stream",
     "text": [
      "                            OLS Regression Results                            \n",
      "==============================================================================\n",
      "Dep. Variable:                   A_LL   R-squared:                       0.425\n",
      "Model:                            OLS   Adj. R-squared:                 -0.150\n",
      "Method:                 Least Squares   F-statistic:                    0.7389\n",
      "Date:                Tue, 08 Nov 2022   Prob (F-statistic):              0.548\n",
      "Time:                        16:55:20   Log-Likelihood:                -11.518\n",
      "No. Observations:                   3   AIC:                             27.04\n",
      "Df Residuals:                       1   BIC:                             25.23\n",
      "Df Model:                           1                                         \n",
      "Covariance Type:            nonrobust                                         \n",
      "==============================================================================\n",
      "                 coef    std err          t      P>|t|      [0.025      0.975]\n",
      "------------------------------------------------------------------------------\n",
      "Intercept    234.8820    203.992      1.151      0.455   -2357.082    2826.846\n",
      "A_dates       -0.0175      0.020     -0.860      0.548      -0.276       0.241\n",
      "==============================================================================\n",
      "Omnibus:                          nan   Durbin-Watson:                   2.992\n",
      "Prob(Omnibus):                    nan   Jarque-Bera (JB):                0.522\n",
      "Skew:                           0.694   Prob(JB):                        0.770\n",
      "Kurtosis:                       1.500   Cond. No.                     1.82e+05\n",
      "==============================================================================\n",
      "\n",
      "Notes:\n",
      "[1] Standard Errors assume that the covariance matrix of the errors is correctly specified.\n",
      "[2] The condition number is large, 1.82e+05. This might indicate that there are\n",
      "strong multicollinearity or other numerical problems.\n"
     ]
    },
    {
     "name": "stderr",
     "output_type": "stream",
     "text": [
      "C:\\ProgramData\\Anaconda3\\lib\\site-packages\\statsmodels\\stats\\stattools.py:75: ValueWarning: omni_normtest is not valid with less than 8 observations; 3 samples were given.\n",
      "  \"samples were given.\" % int(n), ValueWarning)\n"
     ]
    }
   ],
   "source": [
    "#fit multiple linear regression model\n",
    "A_model = ols('A_LL ~ A_dates', data=Agrp_df).fit()\n",
    "\n",
    "#view model summary\n",
    "print(A_model.summary())"
   ]
  },
  {
   "cell_type": "markdown",
   "id": "56337011",
   "metadata": {},
   "source": [
    "### Running the same regression and stats tests using calender years instead of radiocarbon years."
   ]
  },
  {
   "cell_type": "code",
   "execution_count": 84,
   "id": "25c89f09",
   "metadata": {
    "ExecuteTime": {
     "end_time": "2022-11-09T00:55:20.071918Z",
     "start_time": "2022-11-09T00:55:20.056914Z"
    }
   },
   "outputs": [
    {
     "data": {
      "text/html": [
       "<div>\n",
       "<style scoped>\n",
       "    .dataframe tbody tr th:only-of-type {\n",
       "        vertical-align: middle;\n",
       "    }\n",
       "\n",
       "    .dataframe tbody tr th {\n",
       "        vertical-align: top;\n",
       "    }\n",
       "\n",
       "    .dataframe thead th {\n",
       "        text-align: right;\n",
       "    }\n",
       "</style>\n",
       "<table border=\"1\" class=\"dataframe\">\n",
       "  <thead>\n",
       "    <tr style=\"text-align: right;\">\n",
       "      <th></th>\n",
       "      <th>A_LL</th>\n",
       "      <th>A_dates</th>\n",
       "    </tr>\n",
       "  </thead>\n",
       "  <tbody>\n",
       "    <tr>\n",
       "      <th>0</th>\n",
       "      <td>65.0</td>\n",
       "      <td>10444</td>\n",
       "    </tr>\n",
       "    <tr>\n",
       "      <th>1</th>\n",
       "      <td>74.8</td>\n",
       "      <td>11578</td>\n",
       "    </tr>\n",
       "    <tr>\n",
       "      <th>2</th>\n",
       "      <td>39.6</td>\n",
       "      <td>12674</td>\n",
       "    </tr>\n",
       "  </tbody>\n",
       "</table>\n",
       "</div>"
      ],
      "text/plain": [
       "   A_LL  A_dates\n",
       "0  65.0    10444\n",
       "1  74.8    11578\n",
       "2  39.6    12674"
      ]
     },
     "execution_count": 84,
     "metadata": {},
     "output_type": "execute_result"
    }
   ],
   "source": [
    "A_LL = [65.0, 74.8, 39.6]\n",
    "A_caldates = [10444, 11578, 12674]\n",
    "#create dataset\n",
    "Acal_df = pd.DataFrame({'A_LL': A_LL,\n",
    "                     'A_dates': A_caldates})\n",
    "#view dataset\n",
    "Acal_df"
   ]
  },
  {
   "cell_type": "code",
   "execution_count": 85,
   "id": "3e0bfee2",
   "metadata": {
    "ExecuteTime": {
     "end_time": "2022-11-09T00:55:20.612944Z",
     "start_time": "2022-11-09T00:55:20.073918Z"
    }
   },
   "outputs": [
    {
     "name": "stdout",
     "output_type": "stream",
     "text": [
      "slope = -0.01 (+/-) 0.01\n",
      "y-intercept = 190.19 (+/-) 136.45\n"
     ]
    },
    {
     "data": {
      "image/png": "[encoded data removed]",
      "text/plain": [
       "<Figure size 864x864 with 1 Axes>"
      ]
     },
     "metadata": {
      "needs_background": "light"
     },
     "output_type": "display_data"
    }
   ],
   "source": [
    "fig = plt.figure(figsize=(12,12))\n",
    "gs = GridSpec(1,1)\n",
    "ax1 = fig.add_subplot(gs[0])\n",
    "\n",
    "ax1.plot(Acal_df.A_dates, Acal_df.A_LL, \"ko\", markersize=7)    \n",
    "\n",
    "# popt_linear: this contains the fitting parameters\n",
    "# pcov_linear: estimated covariance of the fitting paramters\n",
    "popt_linear, pcov_linear = scipy.optimize.curve_fit(linear, Acal_df.A_dates, Acal_df.A_LL)\n",
    "perr_linear = np.sqrt(np.diag(pcov_linear))\n",
    "print (\"slope = %0.2f (+/-) %0.2f\" % (popt_linear[0], perr_linear[0]))\n",
    "print( \"y-intercept = %0.2f (+/-) %0.2f\" %(popt_linear[1], perr_linear[1]))\n",
    "\n",
    "ax1.plot(Acal_df.A_dates, linear(Acal_df.A_dates, *popt_linear), 'r--', label=\"y= %0.2fx + %0.2f\" % (popt_linear[0], popt_linear[1]))\n",
    "\n",
    "ax1.set_xlim(13000,10000)\n",
    "ax1.set_ylim(0,100)\n",
    "\n",
    "ax1.set_title(\"%LL Over Time (A groups, cal BP dates)\", fontsize=22)\n",
    "ax1.set_ylabel(\"%LL\",  fontsize=20)\n",
    "ax1.set_xlabel(\"Cal BP\",  fontsize=18)\n",
    "ax1.legend(loc='best', fontsize=16)\n",
    "ax1.tick_params(axis='both',which='major', direction=\"out\", bottom=\"on\", length=8, labelsize=16)\n",
    "ax1.tick_params(axis='both',which='minor', direction=\"out\", bottom=\"on\", length=5, labelsize=16)\n",
    "fig.tight_layout()\n",
    "   \n",
    "plt.savefig('Acal LL book1 300dpi.jpg', dpi=300)"
   ]
  },
  {
   "cell_type": "code",
   "execution_count": 86,
   "id": "be61307a",
   "metadata": {
    "ExecuteTime": {
     "end_time": "2022-11-09T00:55:20.628948Z",
     "start_time": "2022-11-09T00:55:20.613945Z"
    }
   },
   "outputs": [
    {
     "name": "stdout",
     "output_type": "stream",
     "text": [
      "A Pearson's r:           -0.692\n",
      "A Pearson's r, p value:  0.5135\n",
      "--------------------------------\n"
     ]
    }
   ],
   "source": [
    "A_pearson_r, A_pearson_r_pval = stats.pearsonr(A_LL, A_caldates)\n",
    "print(\"A Pearson's r:          \", str(round(A_pearson_r, 3)))\n",
    "print(\"A Pearson's r, p value: \", str(round(A_pearson_r_pval, 4)))\n",
    "print(\"--------------------------------\")"
   ]
  },
  {
   "cell_type": "code",
   "execution_count": 87,
   "id": "1f359313",
   "metadata": {
    "ExecuteTime": {
     "end_time": "2022-11-09T00:55:20.644952Z",
     "start_time": "2022-11-09T00:55:20.629947Z"
    }
   },
   "outputs": [
    {
     "name": "stdout",
     "output_type": "stream",
     "text": [
      "A Spearman's r:           -0.5\n",
      "A Spearman's r, p value:  0.6667\n"
     ]
    }
   ],
   "source": [
    "A_spearman_r, A_spearman_r_pval = stats.spearmanr(A_LL, A_caldates)\n",
    "print(\"A Spearman's r:          \", str(round(A_spearman_r, 3)))\n",
    "print(\"A Spearman's r, p value: \", str(round(A_spearman_r_pval, 4)))"
   ]
  },
  {
   "cell_type": "code",
   "execution_count": 88,
   "id": "265a1b49",
   "metadata": {
    "ExecuteTime": {
     "end_time": "2022-11-09T00:55:20.660955Z",
     "start_time": "2022-11-09T00:55:20.645953Z"
    }
   },
   "outputs": [
    {
     "name": "stdout",
     "output_type": "stream",
     "text": [
      "                            OLS Regression Results                            \n",
      "==============================================================================\n",
      "Dep. Variable:                   A_LL   R-squared:                       0.479\n",
      "Model:                            OLS   Adj. R-squared:                 -0.042\n",
      "Method:                 Least Squares   F-statistic:                    0.9189\n",
      "Date:                Tue, 08 Nov 2022   Prob (F-statistic):              0.513\n",
      "Time:                        16:55:20   Log-Likelihood:                -11.370\n",
      "No. Observations:                   3   AIC:                             26.74\n",
      "Df Residuals:                       1   BIC:                             24.94\n",
      "Df Model:                           1                                         \n",
      "Covariance Type:            nonrobust                                         \n",
      "==============================================================================\n",
      "                 coef    std err          t      P>|t|      [0.025      0.975]\n",
      "------------------------------------------------------------------------------\n",
      "Intercept    190.1924    136.446      1.394      0.396   -1543.523    1923.908\n",
      "A_caldates    -0.0113      0.012     -0.959      0.513      -0.161       0.138\n",
      "==============================================================================\n",
      "Omnibus:                          nan   Durbin-Watson:                   3.000\n",
      "Prob(Omnibus):                    nan   Jarque-Bera (JB):                0.531\n",
      "Skew:                           0.707   Prob(JB):                        0.767\n",
      "Kurtosis:                       1.500   Cond. No.                     1.48e+05\n",
      "==============================================================================\n",
      "\n",
      "Notes:\n",
      "[1] Standard Errors assume that the covariance matrix of the errors is correctly specified.\n",
      "[2] The condition number is large, 1.48e+05. This might indicate that there are\n",
      "strong multicollinearity or other numerical problems.\n"
     ]
    },
    {
     "name": "stderr",
     "output_type": "stream",
     "text": [
      "C:\\ProgramData\\Anaconda3\\lib\\site-packages\\statsmodels\\stats\\stattools.py:75: ValueWarning: omni_normtest is not valid with less than 8 observations; 3 samples were given.\n",
      "  \"samples were given.\" % int(n), ValueWarning)\n"
     ]
    }
   ],
   "source": [
    "#fit multiple linear regression model\n",
    "A_model = ols('A_LL ~ A_caldates', data=Agrp_df).fit()\n",
    "\n",
    "#view model summary\n",
    "print(A_model.summary())"
   ]
  },
  {
   "cell_type": "markdown",
   "id": "1c205e61",
   "metadata": {},
   "source": [
    "## Results after removing the Flat Hills outlier"
   ]
  },
  {
   "cell_type": "code",
   "execution_count": 89,
   "id": "f302d024",
   "metadata": {
    "ExecuteTime": {
     "end_time": "2022-11-09T00:55:20.676959Z",
     "start_time": "2022-11-09T00:55:20.661955Z"
    }
   },
   "outputs": [],
   "source": [
    "# rank order of index list by Discoverability\n",
    "a1o_dlist = np.array([1,14,6,2,5,10,4,12,11,15,9,7,8,13,3])\n",
    "a1o_olist = np.array([3,13,6,2,5,9,4,13,13,7.5,7.5,10,13,13,1])\n",
    "\n",
    "a2o_dlist = np.array([2,14,6,3,5, 10,4,12,11,15,8,7,9,13,1])\n",
    "a2o_olist = np.array([12,12,3.5,2,12,6.5,6.5,12,12,12,3.5,6.5,12,6.5,1])\n",
    "\n",
    "a3o_dlist = np.array([1,14,6,3,4,10,5,12,11,15,8,7,9,13,2])\n",
    "a3o_olist = np.array([8,8,4.5,2,4.5,13,8,13,13,13,3,13,8,8,1])"
   ]
  },
  {
   "cell_type": "code",
   "execution_count": 90,
   "id": "36d78583",
   "metadata": {
    "ExecuteTime": {
     "end_time": "2022-11-09T00:55:20.692962Z",
     "start_time": "2022-11-09T00:55:20.677959Z"
    }
   },
   "outputs": [
    {
     "name": "stdout",
     "output_type": "stream",
     "text": [
      "A1o Spearman's r:           0.805\n",
      "A1o Spearman's r, p value:  0.00029853\n",
      "A1o coeff:                  0.647\n",
      "A1o LL:                     35.3\n",
      "--------------------------------\n",
      "A2o Spearman's r:           0.506\n",
      "A2o Spearman's r, p value:  0.05415697\n",
      "A2o coeff:                  0.256\n",
      "A2o LL:                     74.4\n",
      "--------------------------------\n",
      "A3o Spearman's r:           0.623\n",
      "A3o Spearman's r, p value:  0.0130548\n",
      "A3o coeff:                  0.388\n",
      "A3o LL:                     61.2\n",
      "--------------------------------\n"
     ]
    }
   ],
   "source": [
    "a1o_spearman_r, a1o_spearman_r_pval = stats.spearmanr(a1o_dlist, a1o_olist)\n",
    "print(\"A1o Spearman's r:          \", str(round(a1o_spearman_r, 3)))\n",
    "print(\"A1o Spearman's r, p value: \", str(round(a1o_spearman_r_pval, 8)))\n",
    "a1o_spearman_coeff = a1o_spearman_r ** 2\n",
    "print(\"A1o coeff:                 \", round(a1o_spearman_coeff,3))\n",
    "print(\"A1o LL:                    \", round((1-a1o_spearman_coeff)*100,1))\n",
    "print(\"--------------------------------\")\n",
    "\n",
    "a2o_spearman_r, a2o_spearman_r_pval = stats.spearmanr(a2o_dlist, a2o_olist)\n",
    "print(\"A2o Spearman's r:          \", str(round(a2o_spearman_r, 3)))\n",
    "print(\"A2o Spearman's r, p value: \", str(round(a2o_spearman_r_pval, 8)))\n",
    "a2o_spearman_coeff = a2o_spearman_r ** 2\n",
    "print(\"A2o coeff:                 \", round(a2o_spearman_coeff,3))\n",
    "print(\"A2o LL:                    \", round((1-a2o_spearman_coeff)*100,1))\n",
    "print(\"--------------------------------\")\n",
    "\n",
    "\n",
    "a3o_spearman_r, a3o_spearman_r_pval = stats.spearmanr(a3o_dlist, a3o_olist)\n",
    "print(\"A3o Spearman's r:          \", str(round(a3o_spearman_r, 3)))\n",
    "print(\"A3o Spearman's r, p value: \", str(round(a3o_spearman_r_pval, 8)))\n",
    "a3o_spearman_coeff = a3o_spearman_r ** 2\n",
    "print(\"A3o coeff:                 \", round(a3o_spearman_coeff,3))\n",
    "print(\"A3o LL:                    \", round((1-a3o_spearman_coeff)*100,1))\n",
    "print(\"--------------------------------\")"
   ]
  },
  {
   "cell_type": "code",
   "execution_count": 91,
   "id": "9525ecc5",
   "metadata": {
    "ExecuteTime": {
     "end_time": "2022-11-09T00:55:20.724970Z",
     "start_time": "2022-11-09T00:55:20.693963Z"
    }
   },
   "outputs": [
    {
     "data": {
      "text/html": [
       "<div>\n",
       "<style scoped>\n",
       "    .dataframe tbody tr th:only-of-type {\n",
       "        vertical-align: middle;\n",
       "    }\n",
       "\n",
       "    .dataframe tbody tr th {\n",
       "        vertical-align: top;\n",
       "    }\n",
       "\n",
       "    .dataframe thead th {\n",
       "        text-align: right;\n",
       "    }\n",
       "</style>\n",
       "<table border=\"1\" class=\"dataframe\">\n",
       "  <thead>\n",
       "    <tr style=\"text-align: right;\">\n",
       "      <th></th>\n",
       "      <th>a1o_dlist</th>\n",
       "      <th>a1o_olist</th>\n",
       "      <th>a2o_dlist</th>\n",
       "      <th>a2o_olist</th>\n",
       "      <th>a3o_dlist</th>\n",
       "      <th>a3o_olist</th>\n",
       "    </tr>\n",
       "  </thead>\n",
       "  <tbody>\n",
       "    <tr>\n",
       "      <th>0</th>\n",
       "      <td>1</td>\n",
       "      <td>3.0</td>\n",
       "      <td>2</td>\n",
       "      <td>12.0</td>\n",
       "      <td>1</td>\n",
       "      <td>8.0</td>\n",
       "    </tr>\n",
       "    <tr>\n",
       "      <th>1</th>\n",
       "      <td>14</td>\n",
       "      <td>13.0</td>\n",
       "      <td>14</td>\n",
       "      <td>12.0</td>\n",
       "      <td>14</td>\n",
       "      <td>8.0</td>\n",
       "    </tr>\n",
       "    <tr>\n",
       "      <th>2</th>\n",
       "      <td>6</td>\n",
       "      <td>6.0</td>\n",
       "      <td>6</td>\n",
       "      <td>3.5</td>\n",
       "      <td>6</td>\n",
       "      <td>4.5</td>\n",
       "    </tr>\n",
       "    <tr>\n",
       "      <th>3</th>\n",
       "      <td>2</td>\n",
       "      <td>2.0</td>\n",
       "      <td>3</td>\n",
       "      <td>2.0</td>\n",
       "      <td>3</td>\n",
       "      <td>2.0</td>\n",
       "    </tr>\n",
       "    <tr>\n",
       "      <th>4</th>\n",
       "      <td>5</td>\n",
       "      <td>5.0</td>\n",
       "      <td>5</td>\n",
       "      <td>12.0</td>\n",
       "      <td>4</td>\n",
       "      <td>4.5</td>\n",
       "    </tr>\n",
       "    <tr>\n",
       "      <th>5</th>\n",
       "      <td>10</td>\n",
       "      <td>9.0</td>\n",
       "      <td>10</td>\n",
       "      <td>6.5</td>\n",
       "      <td>10</td>\n",
       "      <td>13.0</td>\n",
       "    </tr>\n",
       "    <tr>\n",
       "      <th>6</th>\n",
       "      <td>4</td>\n",
       "      <td>4.0</td>\n",
       "      <td>4</td>\n",
       "      <td>6.5</td>\n",
       "      <td>5</td>\n",
       "      <td>8.0</td>\n",
       "    </tr>\n",
       "    <tr>\n",
       "      <th>7</th>\n",
       "      <td>12</td>\n",
       "      <td>13.0</td>\n",
       "      <td>12</td>\n",
       "      <td>12.0</td>\n",
       "      <td>12</td>\n",
       "      <td>13.0</td>\n",
       "    </tr>\n",
       "    <tr>\n",
       "      <th>8</th>\n",
       "      <td>11</td>\n",
       "      <td>13.0</td>\n",
       "      <td>11</td>\n",
       "      <td>12.0</td>\n",
       "      <td>11</td>\n",
       "      <td>13.0</td>\n",
       "    </tr>\n",
       "    <tr>\n",
       "      <th>9</th>\n",
       "      <td>15</td>\n",
       "      <td>7.5</td>\n",
       "      <td>15</td>\n",
       "      <td>12.0</td>\n",
       "      <td>15</td>\n",
       "      <td>13.0</td>\n",
       "    </tr>\n",
       "    <tr>\n",
       "      <th>10</th>\n",
       "      <td>9</td>\n",
       "      <td>7.5</td>\n",
       "      <td>8</td>\n",
       "      <td>3.5</td>\n",
       "      <td>8</td>\n",
       "      <td>3.0</td>\n",
       "    </tr>\n",
       "    <tr>\n",
       "      <th>11</th>\n",
       "      <td>7</td>\n",
       "      <td>10.0</td>\n",
       "      <td>7</td>\n",
       "      <td>6.5</td>\n",
       "      <td>7</td>\n",
       "      <td>13.0</td>\n",
       "    </tr>\n",
       "    <tr>\n",
       "      <th>12</th>\n",
       "      <td>8</td>\n",
       "      <td>13.0</td>\n",
       "      <td>9</td>\n",
       "      <td>12.0</td>\n",
       "      <td>9</td>\n",
       "      <td>8.0</td>\n",
       "    </tr>\n",
       "    <tr>\n",
       "      <th>13</th>\n",
       "      <td>13</td>\n",
       "      <td>13.0</td>\n",
       "      <td>13</td>\n",
       "      <td>6.5</td>\n",
       "      <td>13</td>\n",
       "      <td>8.0</td>\n",
       "    </tr>\n",
       "    <tr>\n",
       "      <th>14</th>\n",
       "      <td>3</td>\n",
       "      <td>1.0</td>\n",
       "      <td>1</td>\n",
       "      <td>1.0</td>\n",
       "      <td>2</td>\n",
       "      <td>1.0</td>\n",
       "    </tr>\n",
       "  </tbody>\n",
       "</table>\n",
       "</div>"
      ],
      "text/plain": [
       "    a1o_dlist  a1o_olist  a2o_dlist  a2o_olist  a3o_dlist  a3o_olist\n",
       "0           1        3.0          2       12.0          1        8.0\n",
       "1          14       13.0         14       12.0         14        8.0\n",
       "2           6        6.0          6        3.5          6        4.5\n",
       "3           2        2.0          3        2.0          3        2.0\n",
       "4           5        5.0          5       12.0          4        4.5\n",
       "5          10        9.0         10        6.5         10       13.0\n",
       "6           4        4.0          4        6.5          5        8.0\n",
       "7          12       13.0         12       12.0         12       13.0\n",
       "8          11       13.0         11       12.0         11       13.0\n",
       "9          15        7.5         15       12.0         15       13.0\n",
       "10          9        7.5          8        3.5          8        3.0\n",
       "11          7       10.0          7        6.5          7       13.0\n",
       "12          8       13.0          9       12.0          9        8.0\n",
       "13         13       13.0         13        6.5         13        8.0\n",
       "14          3        1.0          1        1.0          2        1.0"
      ]
     },
     "execution_count": 91,
     "metadata": {},
     "output_type": "execute_result"
    }
   ],
   "source": [
    "a1o_dlist = np.array([1,14,6,2,5,10,4,12,11,15,9,7,8,13,3]).reshape((-1, 1))\n",
    "a1o_olist = np.array([3,13,6,2,5,9,4,13,13,7.5,7.5,10,13,13,1]).reshape((-1, 1))\n",
    "\n",
    "a2o_dlist = np.array([2,14,6,3,5,10,4,12,11,15,8,7,9,13,1]).reshape((-1, 1))\n",
    "a2o_olist = np.array([12,12,3.5,2,12,6.5,6.5,12,12,12,3.5,6.5,12,6.5,1]).reshape((-1, 1))\n",
    "\n",
    "a3o_dlist = np.array([1,14,6,3,4,10,5,12,11,15,8,7,9,13,2]).reshape((-1, 1))\n",
    "a3o_olist = np.array([8,8,4.5,2,4.5,13,8,13,13,13,3,13,8,8,1]).reshape((-1, 1))\n",
    "\n",
    "a1o_dlist = list(np.concatenate(a1o_dlist).flat)\n",
    "a1o_olist = list(np.concatenate(a1o_olist).flat)\n",
    "a2o_dlist = list(np.concatenate(a2o_dlist).flat)\n",
    "a2o_olist = list(np.concatenate(a2o_olist).flat)\n",
    "a3o_dlist = list(np.concatenate(a3o_dlist).flat)\n",
    "a3o_olist = list(np.concatenate(a3o_olist).flat)\n",
    "\n",
    "#create dataset\n",
    "df = pd.DataFrame({'a1o_dlist': a1o_dlist,\n",
    "                   'a1o_olist': a1o_olist,\n",
    "                   'a2o_dlist': a2o_dlist,\n",
    "                   'a2o_olist': a2o_olist,\n",
    "                   'a3o_dlist': a3o_dlist,\n",
    "                   'a3o_olist': a3o_olist})\n",
    "#view dataset\n",
    "df"
   ]
  },
  {
   "cell_type": "code",
   "execution_count": 92,
   "id": "d34188ba",
   "metadata": {
    "ExecuteTime": {
     "end_time": "2022-11-09T00:55:20.740973Z",
     "start_time": "2022-11-09T00:55:20.725970Z"
    }
   },
   "outputs": [
    {
     "name": "stdout",
     "output_type": "stream",
     "text": [
      "                            OLS Regression Results                            \n",
      "==============================================================================\n",
      "Dep. Variable:              a1o_olist   R-squared:                       0.647\n",
      "Model:                            OLS   Adj. R-squared:                  0.620\n",
      "Method:                 Least Squares   F-statistic:                     23.85\n",
      "Date:                Tue, 08 Nov 2022   Prob (F-statistic):           0.000299\n",
      "Time:                        16:55:20   Log-Likelihood:                -35.133\n",
      "No. Observations:                  15   AIC:                             74.27\n",
      "Df Residuals:                      13   BIC:                             75.68\n",
      "Df Model:                           1                                         \n",
      "Covariance Type:            nonrobust                                         \n",
      "==============================================================================\n",
      "                 coef    std err          t      P>|t|      [0.025      0.975]\n",
      "------------------------------------------------------------------------------\n",
      "Intercept      1.6857      1.469      1.147      0.272      -1.489       4.860\n",
      "a1o_dlist      0.7893      0.162      4.884      0.000       0.440       1.138\n",
      "==============================================================================\n",
      "Omnibus:                        2.038   Durbin-Watson:                   1.692\n",
      "Prob(Omnibus):                  0.361   Jarque-Bera (JB):                0.489\n",
      "Skew:                          -0.334   Prob(JB):                        0.783\n",
      "Kurtosis:                       3.580   Cond. No.                         19.3\n",
      "==============================================================================\n",
      "\n",
      "Notes:\n",
      "[1] Standard Errors assume that the covariance matrix of the errors is correctly specified.\n"
     ]
    },
    {
     "name": "stderr",
     "output_type": "stream",
     "text": [
      "C:\\ProgramData\\Anaconda3\\lib\\site-packages\\scipy\\stats\\stats.py:1542: UserWarning: kurtosistest only valid for n>=20 ... continuing anyway, n=15\n",
      "  \"anyway, n=%i\" % int(n))\n"
     ]
    }
   ],
   "source": [
    "#fit multiple linear regression model\n",
    "A1o_model = ols('a1o_olist ~ a1o_dlist', data=df).fit()\n",
    "\n",
    "#view model summary\n",
    "print(A1o_model.summary())"
   ]
  },
  {
   "cell_type": "code",
   "execution_count": 93,
   "id": "4fe412f6",
   "metadata": {
    "ExecuteTime": {
     "end_time": "2022-11-09T00:55:21.395452Z",
     "start_time": "2022-11-09T00:55:20.741973Z"
    }
   },
   "outputs": [
    {
     "name": "stderr",
     "output_type": "stream",
     "text": [
      "No artists with labels found to put in legend.  Note that artists whose label start with an underscore are ignored when legend() is called with no argument.\n"
     ]
    },
    {
     "data": {
      "image/png": "[encoded data removed]",
      "text/plain": [
       "<Figure size 864x864 with 1 Axes>"
      ]
     },
     "metadata": {
      "needs_background": "light"
     },
     "output_type": "display_data"
    }
   ],
   "source": [
    "fig = plt.figure(figsize=(12,12))\n",
    "gs = GridSpec(1,1)\n",
    "ax1 = fig.add_subplot(gs[0])\n",
    "\n",
    "ax1.plot(df.a1o_dlist, df.a1o_olist, \"ko\", markersize=7)    \n",
    "\n",
    "# # popt_linear: this contains the fitting parameters\n",
    "# # pcov_linear: estimated covariance of the fitting paramters\n",
    "# popt_linear, pcov_linear = scipy.optimize.curve_fit(linear, df.a1o_dlist, df.a1o_olist)\n",
    "# perr_linear = np.sqrt(np.diag(pcov_linear))\n",
    "# print (\"slope = %0.2f (+/-) %0.2f\" % (popt_linear[0], perr_linear[0]))\n",
    "# print( \"y-intercept = %0.2f (+/-) %0.2f\" %(popt_linear[1], perr_linear[1]))\n",
    "\n",
    "# ax1.plot(df.a1o_dlist, linear(df.a1o_dlist, *popt_linear), 'r--', label=\"y= %0.2fx + %0.2f\" % (popt_linear[0], popt_linear[1]))\n",
    "\n",
    "ax1.set_xlim(0,15.5)\n",
    "ax1.set_ylim(0,15.5)\n",
    "\n",
    "ax1.set_title(\"A1fh: Dlist v. Olist Ranks (less outlier)\", fontsize=22)\n",
    "ax1.set_xlabel(\"Dlist Ranks\", fontsize=18)\n",
    "ax1.set_ylabel(\"Olist Ranks\", fontsize=20)\n",
    "ax1.legend(loc='best', fontsize=16)\n",
    "\n",
    "ax1.xaxis.set_major_locator(ticker.MultipleLocator(1))\n",
    "ax1.yaxis.set_major_locator(ticker.MultipleLocator(1))\n",
    "ax1.tick_params(axis='both',which='major', direction=\"out\", bottom=\"on\", length=8, labelsize=14)\n",
    "ax1.tick_params(axis='both',which='minor', direction=\"out\", bottom=\"on\", length=5, labelsize=14)\n",
    "\n",
    "fig.tight_layout()\n",
    "    \n",
    "plt.savefig('A1fh regression chart.png', dpi=300)"
   ]
  },
  {
   "cell_type": "code",
   "execution_count": 94,
   "id": "738f38a1",
   "metadata": {
    "ExecuteTime": {
     "end_time": "2022-11-09T00:55:22.050659Z",
     "start_time": "2022-11-09T00:55:21.396453Z"
    }
   },
   "outputs": [
    {
     "name": "stderr",
     "output_type": "stream",
     "text": [
      "No artists with labels found to put in legend.  Note that artists whose label start with an underscore are ignored when legend() is called with no argument.\n"
     ]
    },
    {
     "data": {
      "image/png": "[encoded data removed]",
      "text/plain": [
       "<Figure size 864x864 with 1 Axes>"
      ]
     },
     "metadata": {
      "needs_background": "light"
     },
     "output_type": "display_data"
    }
   ],
   "source": [
    "fig = plt.figure(figsize=(12,12))\n",
    "gs = GridSpec(1,1)\n",
    "ax1 = fig.add_subplot(gs[0])\n",
    "\n",
    "ax1.plot(df.a2o_dlist, df.a2o_olist, \"ko\", markersize=7)     \n",
    "\n",
    "# # popt_linear: this contains the fitting parameters\n",
    "# # pcov_linear: estimated covariance of the fitting paramters\n",
    "# popt_linear, pcov_linear = scipy.optimize.curve_fit(linear, df.a2o_dlist, df.a2o_olist)\n",
    "# perr_linear = np.sqrt(np.diag(pcov_linear))\n",
    "# print (\"slope = %0.2f (+/-) %0.2f\" % (popt_linear[0], perr_linear[0]))\n",
    "# print( \"y-intercept = %0.2f (+/-) %0.2f\" %(popt_linear[1], perr_linear[1]))\n",
    "\n",
    "# ax1.plot(df.a2o_dlist, linear(df.a2o_dlist, *popt_linear), 'r--', label=\"y= %0.2fx + %0.2f\" % (popt_linear[0], popt_linear[1]))\n",
    "\n",
    "ax1.set_xlim(0,15.5)\n",
    "ax1.set_ylim(0,15.5)\n",
    "\n",
    "ax1.set_title(\"A2fh: Dlist v. Olist Ranks (less outliers)\", fontsize=22)\n",
    "ax1.set_xlabel(\"Dlist Ranks\", fontsize=18)\n",
    "ax1.set_ylabel(\"Olist Ranks\", fontsize=20)\n",
    "ax1.legend(loc='best', fontsize=16)\n",
    "\n",
    "ax1.xaxis.set_major_locator(ticker.MultipleLocator(1))\n",
    "ax1.yaxis.set_major_locator(ticker.MultipleLocator(1))\n",
    "ax1.tick_params(axis='both',which='major', direction=\"out\", bottom=\"on\", length=8, labelsize=14)\n",
    "ax1.tick_params(axis='both',which='minor', direction=\"out\", bottom=\"on\", length=5, labelsize=14)\n",
    "\n",
    "fig.tight_layout()\n",
    "    \n",
    "plt.savefig('A2fh regression chart.png', dpi=300)"
   ]
  },
  {
   "cell_type": "code",
   "execution_count": 95,
   "id": "67576cd6",
   "metadata": {
    "ExecuteTime": {
     "end_time": "2022-11-09T00:55:22.715534Z",
     "start_time": "2022-11-09T00:55:22.051659Z"
    }
   },
   "outputs": [
    {
     "name": "stderr",
     "output_type": "stream",
     "text": [
      "No artists with labels found to put in legend.  Note that artists whose label start with an underscore are ignored when legend() is called with no argument.\n"
     ]
    },
    {
     "data": {
      "image/png": "[encoded data removed]",
      "text/plain": [
       "<Figure size 864x864 with 1 Axes>"
      ]
     },
     "metadata": {
      "needs_background": "light"
     },
     "output_type": "display_data"
    }
   ],
   "source": [
    "fig = plt.figure(figsize=(12,12))\n",
    "gs = GridSpec(1,1)\n",
    "ax1 = fig.add_subplot(gs[0])\n",
    "\n",
    "ax1.plot(df.a3o_dlist, df.a3o_olist, \"ko\", markersize=7)  \n",
    "\n",
    "# # popt_linear: this contains the fitting parameters\n",
    "# # pcov_linear: estimated covariance of the fitting paramters\n",
    "# popt_linear, pcov_linear = scipy.optimize.curve_fit(linear, df.a3o_dlist, df.a3o_olist)\n",
    "# perr_linear = np.sqrt(np.diag(pcov_linear))\n",
    "# print (\"slope = %0.2f (+/-) %0.2f\" % (popt_linear[0], perr_linear[0]))\n",
    "# print( \"y-intercept = %0.2f (+/-) %0.2f\" %(popt_linear[1], perr_linear[1]))\n",
    "\n",
    "# ax1.plot(df.a3o_dlist, linear(df.a3o_dlist, *popt_linear), 'r--', label=\"y= %0.2fx + %0.2f\" % (popt_linear[0], popt_linear[1]))\n",
    "\n",
    "ax1.set_xlim(0,15.5)\n",
    "ax1.set_ylim(0,15.5)\n",
    "\n",
    "ax1.set_title(\"A3fh: Dlist v. Olist Ranks (less outliers)\", fontsize=22)\n",
    "ax1.set_xlabel(\"Dlist Ranks\",  fontsize=18)\n",
    "ax1.set_ylabel(\"Olist Ranks\",  fontsize=20)\n",
    "ax1.legend(loc='best', fontsize=16)\n",
    "\n",
    "ax1.xaxis.set_major_locator(ticker.MultipleLocator(1))\n",
    "ax1.yaxis.set_major_locator(ticker.MultipleLocator(1))\n",
    "ax1.tick_params(axis='both',which='major', direction=\"out\", bottom=\"on\", length=8, labelsize=14)\n",
    "ax1.tick_params(axis='both',which='minor', direction=\"out\", bottom=\"on\", length=5, labelsize=14)\n",
    "\n",
    "fig.tight_layout()\n",
    "    \n",
    "plt.savefig('A3fh regression chart.png', dpi=300)"
   ]
  },
  {
   "cell_type": "code",
   "execution_count": 96,
   "id": "4413a4dc",
   "metadata": {
    "ExecuteTime": {
     "end_time": "2022-11-09T00:55:22.731538Z",
     "start_time": "2022-11-09T00:55:22.717534Z"
    }
   },
   "outputs": [
    {
     "data": {
      "text/html": [
       "<div>\n",
       "<style scoped>\n",
       "    .dataframe tbody tr th:only-of-type {\n",
       "        vertical-align: middle;\n",
       "    }\n",
       "\n",
       "    .dataframe tbody tr th {\n",
       "        vertical-align: top;\n",
       "    }\n",
       "\n",
       "    .dataframe thead th {\n",
       "        text-align: right;\n",
       "    }\n",
       "</style>\n",
       "<table border=\"1\" class=\"dataframe\">\n",
       "  <thead>\n",
       "    <tr style=\"text-align: right;\">\n",
       "      <th></th>\n",
       "      <th>Afh_LL</th>\n",
       "      <th>Afh_dates</th>\n",
       "    </tr>\n",
       "  </thead>\n",
       "  <tbody>\n",
       "    <tr>\n",
       "      <th>0</th>\n",
       "      <td>35.3</td>\n",
       "      <td>10650</td>\n",
       "    </tr>\n",
       "    <tr>\n",
       "      <th>1</th>\n",
       "      <td>74.4</td>\n",
       "      <td>10050</td>\n",
       "    </tr>\n",
       "    <tr>\n",
       "      <th>2</th>\n",
       "      <td>61.2</td>\n",
       "      <td>9300</td>\n",
       "    </tr>\n",
       "  </tbody>\n",
       "</table>\n",
       "</div>"
      ],
      "text/plain": [
       "   Afh_LL  Afh_dates\n",
       "0    35.3      10650\n",
       "1    74.4      10050\n",
       "2    61.2       9300"
      ]
     },
     "execution_count": 96,
     "metadata": {},
     "output_type": "execute_result"
    }
   ],
   "source": [
    "Afh_LL = [35.3, 74.4, 61.2]\n",
    "Afh_dates = [10650, 10050, 9300]\n",
    "\n",
    "#create dataset\n",
    "Afhgrp_df = pd.DataFrame({'Afh_LL': Afh_LL,\n",
    "                          'Afh_dates': Afh_dates})\n",
    "#view dataset\n",
    "Afhgrp_df"
   ]
  },
  {
   "cell_type": "code",
   "execution_count": 97,
   "id": "5983a2d8",
   "metadata": {
    "ExecuteTime": {
     "end_time": "2022-11-09T00:55:23.383103Z",
     "start_time": "2022-11-09T00:55:22.732539Z"
    }
   },
   "outputs": [
    {
     "name": "stdout",
     "output_type": "stream",
     "text": [
      "slope = -0.02 (+/-) 0.02\n",
      "y-intercept = 233.74 (+/-) 235.37\n"
     ]
    },
    {
     "data": {
      "image/png": "[encoded data removed]",
      "text/plain": [
       "<Figure size 864x864 with 1 Axes>"
      ]
     },
     "metadata": {
      "needs_background": "light"
     },
     "output_type": "display_data"
    }
   ],
   "source": [
    "fig = plt.figure(figsize=(12,12))\n",
    "gs = GridSpec(1,1)\n",
    "ax1 = fig.add_subplot(gs[0])\n",
    "\n",
    "ax1.plot(Afhgrp_df.Afh_dates, Afhgrp_df.Afh_LL, \"ko\", markersize=7)    \n",
    "\n",
    "# popt_linear: this contains the fitting parameters\n",
    "# pcov_linear: estimated covariance of the fitting paramters\n",
    "popt_linear, pcov_linear = scipy.optimize.curve_fit(linear, Afhgrp_df.Afh_dates, Afhgrp_df.Afh_LL)\n",
    "perr_linear = np.sqrt(np.diag(pcov_linear))\n",
    "print (\"slope = %0.2f (+/-) %0.2f\" % (popt_linear[0], perr_linear[0]))\n",
    "print( \"y-intercept = %0.2f (+/-) %0.2f\" %(popt_linear[1], perr_linear[1]))\n",
    "\n",
    "ax1.plot(Afhgrp_df.Afh_dates, linear(Afhgrp_df.Afh_dates, *popt_linear), 'r--', label=\"y= %0.2fx + %0.2f\" % (popt_linear[0], popt_linear[1]))\n",
    "\n",
    "ax1.set_xlim(11000,9000)\n",
    "ax1.set_ylim(0,100)\n",
    "\n",
    "ax1.set_title(\"%LL Over Time (A Groups less Flat Hills outlier)\", fontsize=22)\n",
    "ax1.set_ylabel(\"%LL\",  fontsize=20)\n",
    "ax1.set_xlabel(\"Radiocarbon years\",  fontsize=18)\n",
    "ax1.legend(loc='best', fontsize=16)\n",
    "ax1.tick_params(axis='both',which='major', direction=\"out\", bottom=\"on\", length=8, labelsize=16)\n",
    "ax1.tick_params(axis='both',which='minor', direction=\"out\", bottom=\"on\", length=5, labelsize=16)\n",
    "fig.tight_layout()\n",
    "   \n",
    "plt.savefig('Afh LL.png', dpi=300)"
   ]
  },
  {
   "cell_type": "code",
   "execution_count": 98,
   "id": "902374d1",
   "metadata": {
    "ExecuteTime": {
     "end_time": "2022-11-09T00:55:23.399106Z",
     "start_time": "2022-11-09T00:55:23.384103Z"
    }
   },
   "outputs": [
    {
     "name": "stdout",
     "output_type": "stream",
     "text": [
      "                            OLS Regression Results                            \n",
      "==============================================================================\n",
      "Dep. Variable:                 Afh_LL   R-squared:                       0.361\n",
      "Model:                            OLS   Adj. R-squared:                 -0.277\n",
      "Method:                 Least Squares   F-statistic:                    0.5658\n",
      "Date:                Tue, 08 Nov 2022   Prob (F-statistic):              0.589\n",
      "Time:                        16:55:23   Log-Likelihood:                -11.947\n",
      "No. Observations:                   3   AIC:                             27.89\n",
      "Df Residuals:                       1   BIC:                             26.09\n",
      "Df Model:                           1                                         \n",
      "Covariance Type:            nonrobust                                         \n",
      "==============================================================================\n",
      "                 coef    std err          t      P>|t|      [0.025      0.975]\n",
      "------------------------------------------------------------------------------\n",
      "Intercept    233.7426    235.368      0.993      0.502   -2756.892    3224.378\n",
      "Afh_dates     -0.0177      0.024     -0.752      0.589      -0.316       0.281\n",
      "==============================================================================\n",
      "Omnibus:                          nan   Durbin-Watson:                   2.992\n",
      "Prob(Omnibus):                    nan   Jarque-Bera (JB):                0.522\n",
      "Skew:                           0.694   Prob(JB):                        0.770\n",
      "Kurtosis:                       1.500   Cond. No.                     1.82e+05\n",
      "==============================================================================\n",
      "\n",
      "Notes:\n",
      "[1] Standard Errors assume that the covariance matrix of the errors is correctly specified.\n",
      "[2] The condition number is large, 1.82e+05. This might indicate that there are\n",
      "strong multicollinearity or other numerical problems.\n"
     ]
    },
    {
     "name": "stderr",
     "output_type": "stream",
     "text": [
      "C:\\ProgramData\\Anaconda3\\lib\\site-packages\\statsmodels\\stats\\stattools.py:75: ValueWarning: omni_normtest is not valid with less than 8 observations; 3 samples were given.\n",
      "  \"samples were given.\" % int(n), ValueWarning)\n"
     ]
    }
   ],
   "source": [
    "#fit multiple linear regression model\n",
    "Afh_model = ols('Afh_LL ~ Afh_dates', data=Afhgrp_df).fit()\n",
    "\n",
    "#view model summary\n",
    "print(Afh_model.summary())"
   ]
  },
  {
   "cell_type": "code",
   "execution_count": 99,
   "id": "64f2aff7",
   "metadata": {
    "ExecuteTime": {
     "end_time": "2022-11-09T00:55:23.415110Z",
     "start_time": "2022-11-09T00:55:23.400106Z"
    }
   },
   "outputs": [
    {
     "name": "stdout",
     "output_type": "stream",
     "text": [
      "Afh Pearson's r:           -0.601\n",
      "Afh Pearson's r, p value:  0.5894\n",
      "--------------------------------\n"
     ]
    }
   ],
   "source": [
    "Afh_pearson_r, Afh_pearson_r_pval = stats.pearsonr(Afh_LL, Afh_dates)\n",
    "print(\"Afh Pearson's r:          \", str(round(Afh_pearson_r, 3)))\n",
    "print(\"Afh Pearson's r, p value: \", str(round(Afh_pearson_r_pval, 4)))\n",
    "print(\"--------------------------------\")"
   ]
  },
  {
   "cell_type": "code",
   "execution_count": 100,
   "id": "4bc44a27",
   "metadata": {
    "ExecuteTime": {
     "end_time": "2022-11-09T00:55:23.431113Z",
     "start_time": "2022-11-09T00:55:23.416110Z"
    }
   },
   "outputs": [
    {
     "name": "stdout",
     "output_type": "stream",
     "text": [
      "Afh Spearman's r:           -0.5\n",
      "Afh Spearman's r, p value:  0.6667\n"
     ]
    }
   ],
   "source": [
    "Afh_spearman_r, Afh_spearman_r_pval = stats.spearmanr(Afh_LL, Afh_dates)\n",
    "print(\"Afh Spearman's r:          \", str(round(Afh_spearman_r, 3)))\n",
    "print(\"Afh Spearman's r, p value: \", str(round(Afh_spearman_r_pval, 4)))"
   ]
  },
  {
   "cell_type": "code",
   "execution_count": null,
   "id": "aa20393e",
   "metadata": {},
   "outputs": [],
   "source": []
  },
  {
   "cell_type": "code",
   "execution_count": null,
   "id": "339e4634",
   "metadata": {},
   "outputs": [],
   "source": []
  },
  {
   "cell_type": "code",
   "execution_count": null,
   "id": "e59a431c",
   "metadata": {},
   "outputs": [],
   "source": []
  },
  {
   "cell_type": "code",
   "execution_count": null,
   "id": "e13060b9",
   "metadata": {},
   "outputs": [],
   "source": []
  }
 ],
 "metadata": {
  "kernelspec": {
   "display_name": "Python 3.7.6 64-bit ('base')",
   "language": "python",
   "name": "python37664bitbased8e3534a00c646cc9f91e1fe3a0fa8ec"
  },
  "language_info": {
   "codemirror_mode": {
    "name": "ipython",
    "version": 3
   },
   "file_extension": ".py",
   "mimetype": "text/x-python",
   "name": "python",
   "nbconvert_exporter": "python",
   "pygments_lexer": "ipython3",
   "version": "3.7.11"
  }
 },
 "nbformat": 4,
 "nbformat_minor": 5
}
